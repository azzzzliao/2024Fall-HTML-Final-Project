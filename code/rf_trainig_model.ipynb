{
 "cells": [
  {
   "cell_type": "code",
   "execution_count": 1,
   "id": "f78d6140-ece5-45d7-a4da-fab6a3fe1258",
   "metadata": {},
   "outputs": [],
   "source": [
    "import optuna\n",
    "from sklearn.ensemble import RandomForestClassifier\n",
    "from sklearn.metrics import accuracy_score\n",
    "from sklearn.model_selection import cross_val_score\n",
    "from sklearn.model_selection import train_test_split\n",
    "import pandas as pd\n",
    "\n",
    "train_data = pd.read_csv(r'C:\\Users\\Liao\\Desktop\\learning\\ml\\final\\datasets\\train_data_A.csv')\n",
    "test_data = pd.read_csv(r'C:\\Users\\Liao\\Desktop\\learning\\ml\\final\\datasets\\test_data_A.csv')\n",
    "future_data = pd.read_csv(r'C:\\Users\\Liao\\Desktop\\learning\\ml\\final\\datasets\\future_data_A.csv')\n",
    "X_train = train_data.drop(columns=['id', 'home_team_win'])\n",
    "y_train = train_data['home_team_win']\n",
    "X_test = test_data.drop(columns=['id'])"
   ]
  },
  {
   "cell_type": "code",
   "execution_count": 2,
   "id": "11abb13c-119a-41bf-ad66-8267bdf14915",
   "metadata": {
    "scrolled": true
   },
   "outputs": [
    {
     "name": "stderr",
     "output_type": "stream",
     "text": [
      "[I 2024-12-20 11:44:05,610] A new study created in memory with name: no-name-537fb048-102a-4e6e-828a-b9520b8098a2\n",
      "[I 2024-12-20 11:51:09,764] Trial 0 finished with value: 0.5447716152112567 and parameters: {'n_estimators': 147, 'max_depth': 14, 'min_samples_split': 10, 'min_samples_leaf': 18, 'max_features': 0.4311926117937329, 'bootstrap': False}. Best is trial 0 with value: 0.5447716152112567.\n",
      "[I 2024-12-20 11:53:13,972] Trial 1 finished with value: 0.5376346798563633 and parameters: {'n_estimators': 42, 'max_depth': 27, 'min_samples_split': 8, 'min_samples_leaf': 4, 'max_features': 0.3480397410035191, 'bootstrap': True}. Best is trial 0 with value: 0.5447716152112567.\n",
      "[I 2024-12-20 11:55:18,883] Trial 2 finished with value: 0.5362786866308187 and parameters: {'n_estimators': 20, 'max_depth': 15, 'min_samples_split': 10, 'min_samples_leaf': 10, 'max_features': 0.8853298387217058, 'bootstrap': True}. Best is trial 0 with value: 0.5447716152112567.\n",
      "[I 2024-12-20 12:02:39,304] Trial 3 finished with value: 0.5417900955632542 and parameters: {'n_estimators': 183, 'max_depth': 26, 'min_samples_split': 13, 'min_samples_leaf': 10, 'max_features': 0.3104688639262482, 'bootstrap': False}. Best is trial 0 with value: 0.5447716152112567.\n",
      "[I 2024-12-20 12:07:42,450] Trial 4 finished with value: 0.5476631680008621 and parameters: {'n_estimators': 136, 'max_depth': 10, 'min_samples_split': 20, 'min_samples_leaf': 7, 'max_features': 0.34837167453294937, 'bootstrap': False}. Best is trial 4 with value: 0.5476631680008621.\n",
      "[I 2024-12-20 12:12:56,554] Trial 5 finished with value: 0.5454035874897082 and parameters: {'n_estimators': 156, 'max_depth': 19, 'min_samples_split': 13, 'min_samples_leaf': 11, 'max_features': 0.278899268745286, 'bootstrap': True}. Best is trial 4 with value: 0.5476631680008621.\n",
      "[I 2024-12-20 12:15:13,054] Trial 6 finished with value: 0.5423319785238823 and parameters: {'n_estimators': 37, 'max_depth': 10, 'min_samples_split': 11, 'min_samples_leaf': 12, 'max_features': 0.5002401068002211, 'bootstrap': False}. Best is trial 4 with value: 0.5476631680008621.\n",
      "[I 2024-12-20 12:15:46,801] Trial 7 finished with value: 0.5320315079939473 and parameters: {'n_estimators': 18, 'max_depth': 24, 'min_samples_split': 19, 'min_samples_leaf': 11, 'max_features': 0.20407144207675904, 'bootstrap': True}. Best is trial 4 with value: 0.5476631680008621.\n",
      "[I 2024-12-20 12:17:38,483] Trial 8 finished with value: 0.5474816423115278 and parameters: {'n_estimators': 82, 'max_depth': 11, 'min_samples_split': 19, 'min_samples_leaf': 20, 'max_features': 0.19721394342317344, 'bootstrap': True}. Best is trial 4 with value: 0.5476631680008621.\n",
      "[I 2024-12-20 12:22:28,713] Trial 9 finished with value: 0.5477545635525642 and parameters: {'n_estimators': 43, 'max_depth': 17, 'min_samples_split': 6, 'min_samples_leaf': 14, 'max_features': 0.8985277297867666, 'bootstrap': True}. Best is trial 9 with value: 0.5477545635525642.\n"
     ]
    },
    {
     "name": "stdout",
     "output_type": "stream",
     "text": [
      "Best_param: {'n_estimators': 43, 'max_depth': 17, 'min_samples_split': 6, 'min_samples_leaf': 14, 'max_features': 0.8985277297867666, 'bootstrap': True}\n",
      "Best_accuracy: 0.5477545635525642\n"
     ]
    },
    {
     "data": {
      "text/html": [
       "<style>#sk-container-id-1 {color: black;background-color: white;}#sk-container-id-1 pre{padding: 0;}#sk-container-id-1 div.sk-toggleable {background-color: white;}#sk-container-id-1 label.sk-toggleable__label {cursor: pointer;display: block;width: 100%;margin-bottom: 0;padding: 0.3em;box-sizing: border-box;text-align: center;}#sk-container-id-1 label.sk-toggleable__label-arrow:before {content: \"▸\";float: left;margin-right: 0.25em;color: #696969;}#sk-container-id-1 label.sk-toggleable__label-arrow:hover:before {color: black;}#sk-container-id-1 div.sk-estimator:hover label.sk-toggleable__label-arrow:before {color: black;}#sk-container-id-1 div.sk-toggleable__content {max-height: 0;max-width: 0;overflow: hidden;text-align: left;background-color: #f0f8ff;}#sk-container-id-1 div.sk-toggleable__content pre {margin: 0.2em;color: black;border-radius: 0.25em;background-color: #f0f8ff;}#sk-container-id-1 input.sk-toggleable__control:checked~div.sk-toggleable__content {max-height: 200px;max-width: 100%;overflow: auto;}#sk-container-id-1 input.sk-toggleable__control:checked~label.sk-toggleable__label-arrow:before {content: \"▾\";}#sk-container-id-1 div.sk-estimator input.sk-toggleable__control:checked~label.sk-toggleable__label {background-color: #d4ebff;}#sk-container-id-1 div.sk-label input.sk-toggleable__control:checked~label.sk-toggleable__label {background-color: #d4ebff;}#sk-container-id-1 input.sk-hidden--visually {border: 0;clip: rect(1px 1px 1px 1px);clip: rect(1px, 1px, 1px, 1px);height: 1px;margin: -1px;overflow: hidden;padding: 0;position: absolute;width: 1px;}#sk-container-id-1 div.sk-estimator {font-family: monospace;background-color: #f0f8ff;border: 1px dotted black;border-radius: 0.25em;box-sizing: border-box;margin-bottom: 0.5em;}#sk-container-id-1 div.sk-estimator:hover {background-color: #d4ebff;}#sk-container-id-1 div.sk-parallel-item::after {content: \"\";width: 100%;border-bottom: 1px solid gray;flex-grow: 1;}#sk-container-id-1 div.sk-label:hover label.sk-toggleable__label {background-color: #d4ebff;}#sk-container-id-1 div.sk-serial::before {content: \"\";position: absolute;border-left: 1px solid gray;box-sizing: border-box;top: 0;bottom: 0;left: 50%;z-index: 0;}#sk-container-id-1 div.sk-serial {display: flex;flex-direction: column;align-items: center;background-color: white;padding-right: 0.2em;padding-left: 0.2em;position: relative;}#sk-container-id-1 div.sk-item {position: relative;z-index: 1;}#sk-container-id-1 div.sk-parallel {display: flex;align-items: stretch;justify-content: center;background-color: white;position: relative;}#sk-container-id-1 div.sk-item::before, #sk-container-id-1 div.sk-parallel-item::before {content: \"\";position: absolute;border-left: 1px solid gray;box-sizing: border-box;top: 0;bottom: 0;left: 50%;z-index: -1;}#sk-container-id-1 div.sk-parallel-item {display: flex;flex-direction: column;z-index: 1;position: relative;background-color: white;}#sk-container-id-1 div.sk-parallel-item:first-child::after {align-self: flex-end;width: 50%;}#sk-container-id-1 div.sk-parallel-item:last-child::after {align-self: flex-start;width: 50%;}#sk-container-id-1 div.sk-parallel-item:only-child::after {width: 0;}#sk-container-id-1 div.sk-dashed-wrapped {border: 1px dashed gray;margin: 0 0.4em 0.5em 0.4em;box-sizing: border-box;padding-bottom: 0.4em;background-color: white;}#sk-container-id-1 div.sk-label label {font-family: monospace;font-weight: bold;display: inline-block;line-height: 1.2em;}#sk-container-id-1 div.sk-label-container {text-align: center;}#sk-container-id-1 div.sk-container {/* jupyter's `normalize.less` sets `[hidden] { display: none; }` but bootstrap.min.css set `[hidden] { display: none !important; }` so we also need the `!important` here to be able to override the default hidden behavior on the sphinx rendered scikit-learn.org. See: https://github.com/scikit-learn/scikit-learn/issues/21755 */display: inline-block !important;position: relative;}#sk-container-id-1 div.sk-text-repr-fallback {display: none;}</style><div id=\"sk-container-id-1\" class=\"sk-top-container\"><div class=\"sk-text-repr-fallback\"><pre>RandomForestClassifier(max_depth=17, max_features=0.8985277297867666,\n",
       "                       min_samples_leaf=14, min_samples_split=6,\n",
       "                       n_estimators=43, random_state=42)</pre><b>In a Jupyter environment, please rerun this cell to show the HTML representation or trust the notebook. <br />On GitHub, the HTML representation is unable to render, please try loading this page with nbviewer.org.</b></div><div class=\"sk-container\" hidden><div class=\"sk-item\"><div class=\"sk-estimator sk-toggleable\"><input class=\"sk-toggleable__control sk-hidden--visually\" id=\"sk-estimator-id-1\" type=\"checkbox\" checked><label for=\"sk-estimator-id-1\" class=\"sk-toggleable__label sk-toggleable__label-arrow\">RandomForestClassifier</label><div class=\"sk-toggleable__content\"><pre>RandomForestClassifier(max_depth=17, max_features=0.8985277297867666,\n",
       "                       min_samples_leaf=14, min_samples_split=6,\n",
       "                       n_estimators=43, random_state=42)</pre></div></div></div></div></div>"
      ],
      "text/plain": [
       "RandomForestClassifier(max_depth=17, max_features=0.8985277297867666,\n",
       "                       min_samples_leaf=14, min_samples_split=6,\n",
       "                       n_estimators=43, random_state=42)"
      ]
     },
     "execution_count": 2,
     "metadata": {},
     "output_type": "execute_result"
    }
   ],
   "source": [
    "def objective(trial):\n",
    "    params = {\n",
    "        'n_estimators': trial.suggest_int(\"n_estimators\", 10, 200, log=True),  # 樹的數量\n",
    "        'max_depth': trial.suggest_int('max_depth', 10, 30, log=True),  # 樹的最大深度\n",
    "        'min_samples_split': trial.suggest_int('min_samples_split', 2, 20),  # 分裂最小樣本數\n",
    "        'min_samples_leaf': trial.suggest_int('min_samples_leaf', 1, 20),  # 葉子最小樣本數\n",
    "        'max_features': trial.suggest_float('max_features', 0.1, 1.0),  # 每次分裂使用的特徵比例\n",
    "        'bootstrap': trial.suggest_categorical('bootstrap', [True, False])  # 是否使用放回抽樣\n",
    "    }\n",
    "\n",
    "    model = RandomForestClassifier(random_state=42, **params)\n",
    "    score = cross_val_score(model, X_train, y_train, cv=5, scoring='accuracy').mean()\n",
    "    return score\n",
    "\n",
    "\n",
    "# 創建 Optuna 的 Study\n",
    "study = optuna.create_study(direction=\"maximize\")\n",
    "study.optimize(lambda trial: objective(trial), n_trials=10)\n",
    "\n",
    "# 輸出最佳結果\n",
    "print(\"Best_param:\", study.best_params)\n",
    "print(\"Best_accuracy:\", study.best_value)\n",
    "\n",
    "# 使用最佳參數重新訓練模型\n",
    "best_params = study.best_params\n",
    "final_model = RandomForestClassifier(random_state=42, **best_params)\n",
    "final_model.fit(X_train, y_train)"
   ]
  },
  {
   "cell_type": "code",
   "execution_count": 3,
   "id": "92bb57f8-a1f4-4c23-8cb5-27fc503444bd",
   "metadata": {},
   "outputs": [
    {
     "name": "stdout",
     "output_type": "stream",
     "text": [
      "預測結果範例:\n",
      "   id  home_team_win\n",
      "0   0           True\n",
      "1   1          False\n",
      "2   2           True\n",
      "3   3          False\n",
      "4   4          False\n"
     ]
    }
   ],
   "source": [
    "y_test_pred = final_model.predict(X_test)\n",
    "predicted_results = y_test_pred > 0\n",
    "\n",
    "# 輸出預測結果\n",
    "output_df = pd.DataFrame({\n",
    "    'id': range(len(X_test)),\n",
    "    'home_team_win': predicted_results\n",
    "})\n",
    "\n",
    "print(\"預測結果範例:\")\n",
    "print(output_df.head())\n",
    "output_df.to_csv('rf_predictions1-2.csv', index=False)"
   ]
  },
  {
   "cell_type": "code",
   "execution_count": 3,
   "id": "285510bf-1e5e-4725-b0b6-9cfd9a786bb3",
   "metadata": {},
   "outputs": [],
   "source": [
    "X_train = train_data2.drop(columns=['id', 'home_team_win'])\n",
    "y_train = train_data2['home_team_win'].map({1: True, -1: False})\n",
    "X_test = test_data2.drop(columns=['id'])"
   ]
  },
  {
   "cell_type": "code",
   "execution_count": 5,
   "id": "2908f81c-cf42-4c6c-9fb1-9daaa8ef3300",
   "metadata": {},
   "outputs": [
    {
     "name": "stdout",
     "output_type": "stream",
     "text": [
      "預測結果範例:\n",
      "   id  home_team_win\n",
      "0   0           True\n",
      "1   1          False\n",
      "2   2           True\n",
      "3   3          False\n",
      "4   4          False\n"
     ]
    }
   ],
   "source": [
    "y_test_pred = final_model.predict(X_test)\n",
    "predicted_results = y_test_pred > 0\n",
    "\n",
    "# 輸出預測結果\n",
    "output_df = pd.DataFrame({\n",
    "    'id': range(len(X_test)),\n",
    "    'home_team_win': predicted_results\n",
    "})\n",
    "\n",
    "print(\"預測結果範例:\")\n",
    "print(output_df.head())\n",
    "output_df.to_csv('rf_predictions1.csv', index=False)"
   ]
  },
  {
   "cell_type": "code",
   "execution_count": 11,
   "id": "29ea9968-5943-42b8-a6af-25850f38e9e2",
   "metadata": {},
   "outputs": [],
   "source": [
    "X_train = train_data2.drop(columns=['id', 'home_team_win', 'season'])\n",
    "y_train = train_data2['home_team_win'].map({1: True, -1: False})\n",
    "future_X_test = future_data2.drop(columns=['id', 'season'])"
   ]
  },
  {
   "cell_type": "code",
   "execution_count": 13,
   "id": "3c8484df-50a6-49f4-990d-cdfdf68d8e4e",
   "metadata": {},
   "outputs": [
    {
     "name": "stderr",
     "output_type": "stream",
     "text": [
      "[I 2024-12-13 14:18:07,942] A new study created in memory with name: no-name-2bf973cd-c9b0-40d7-8db0-5e974117e650\n",
      "[I 2024-12-13 14:18:33,003] Trial 0 finished with value: 0.5492321589882565 and parameters: {'n_estimators': 91, 'max_depth': 86, 'min_samples_split': 9, 'min_samples_leaf': 1, 'max_features': 0.10394778309470266, 'bootstrap': False}. Best is trial 0 with value: 0.5492321589882565.\n",
      "[I 2024-12-13 14:19:17,068] Trial 1 finished with value: 0.5460704607046071 and parameters: {'n_estimators': 31, 'max_depth': 99, 'min_samples_split': 3, 'min_samples_leaf': 10, 'max_features': 0.6933359963919009, 'bootstrap': False}. Best is trial 0 with value: 0.5492321589882565.\n",
      "[I 2024-12-13 14:19:35,282] Trial 2 finished with value: 0.5578139114724481 and parameters: {'n_estimators': 15, 'max_depth': 29, 'min_samples_split': 8, 'min_samples_leaf': 7, 'max_features': 0.5686188688443872, 'bootstrap': True}. Best is trial 2 with value: 0.5578139114724481.\n",
      "[I 2024-12-13 14:20:40,969] Trial 3 finished with value: 0.5474254742547425 and parameters: {'n_estimators': 44, 'max_depth': 44, 'min_samples_split': 3, 'min_samples_leaf': 5, 'max_features': 0.6657180781410543, 'bootstrap': False}. Best is trial 2 with value: 0.5578139114724481.\n",
      "[I 2024-12-13 14:21:40,066] Trial 4 finished with value: 0.558717253839205 and parameters: {'n_estimators': 44, 'max_depth': 13, 'min_samples_split': 2, 'min_samples_leaf': 4, 'max_features': 0.6642650112588682, 'bootstrap': True}. Best is trial 4 with value: 0.558717253839205.\n",
      "[I 2024-12-13 14:27:21,717] Trial 5 finished with value: 0.5370370370370371 and parameters: {'n_estimators': 219, 'max_depth': 18, 'min_samples_split': 3, 'min_samples_leaf': 7, 'max_features': 0.7506601117375895, 'bootstrap': False}. Best is trial 4 with value: 0.558717253839205.\n",
      "[I 2024-12-13 14:27:28,021] Trial 6 finished with value: 0.5388437217705511 and parameters: {'n_estimators': 20, 'max_depth': 12, 'min_samples_split': 6, 'min_samples_leaf': 7, 'max_features': 0.1688823713813386, 'bootstrap': False}. Best is trial 4 with value: 0.558717253839205.\n",
      "[I 2024-12-13 14:27:46,805] Trial 7 finished with value: 0.5501355013550135 and parameters: {'n_estimators': 14, 'max_depth': 12, 'min_samples_split': 9, 'min_samples_leaf': 10, 'max_features': 0.7055897075524379, 'bootstrap': True}. Best is trial 4 with value: 0.558717253839205.\n",
      "[I 2024-12-13 14:29:00,544] Trial 8 finished with value: 0.561427280939476 and parameters: {'n_estimators': 160, 'max_depth': 15, 'min_samples_split': 7, 'min_samples_leaf': 2, 'max_features': 0.20058383870725302, 'bootstrap': True}. Best is trial 8 with value: 0.561427280939476.\n",
      "[I 2024-12-13 14:30:12,818] Trial 9 finished with value: 0.573170731707317 and parameters: {'n_estimators': 58, 'max_depth': 20, 'min_samples_split': 5, 'min_samples_leaf': 1, 'max_features': 0.5162179948644036, 'bootstrap': False}. Best is trial 9 with value: 0.573170731707317.\n",
      "[I 2024-12-13 14:33:14,638] Trial 10 finished with value: 0.5067750677506775 and parameters: {'n_estimators': 88, 'max_depth': 27, 'min_samples_split': 5, 'min_samples_leaf': 3, 'max_features': 0.9554034690219682, 'bootstrap': False}. Best is trial 9 with value: 0.573170731707317.\n",
      "[I 2024-12-13 14:35:45,926] Trial 11 finished with value: 0.5420054200542005 and parameters: {'n_estimators': 215, 'max_depth': 19, 'min_samples_split': 7, 'min_samples_leaf': 1, 'max_features': 0.293686015099494, 'bootstrap': True}. Best is trial 9 with value: 0.573170731707317.\n",
      "[I 2024-12-13 14:37:25,167] Trial 12 finished with value: 0.5528455284552846 and parameters: {'n_estimators': 106, 'max_depth': 20, 'min_samples_split': 5, 'min_samples_leaf': 2, 'max_features': 0.3797053821926729, 'bootstrap': True}. Best is trial 9 with value: 0.573170731707317.\n",
      "[I 2024-12-13 14:39:27,798] Trial 13 finished with value: 0.5460704607046071 and parameters: {'n_estimators': 127, 'max_depth': 41, 'min_samples_split': 6, 'min_samples_leaf': 3, 'max_features': 0.3972090419705553, 'bootstrap': True}. Best is trial 9 with value: 0.573170731707317.\n",
      "[I 2024-12-13 14:39:55,660] Trial 14 finished with value: 0.552393857271906 and parameters: {'n_estimators': 61, 'max_depth': 10, 'min_samples_split': 5, 'min_samples_leaf': 1, 'max_features': 0.2623371025558092, 'bootstrap': False}. Best is trial 9 with value: 0.573170731707317.\n",
      "[I 2024-12-13 14:42:59,569] Trial 15 finished with value: 0.559620596205962 and parameters: {'n_estimators': 158, 'max_depth': 16, 'min_samples_split': 10, 'min_samples_leaf': 3, 'max_features': 0.4830668216669197, 'bootstrap': True}. Best is trial 9 with value: 0.573170731707317.\n",
      "[I 2024-12-13 14:45:38,097] Trial 16 finished with value: 0.5429087624209575 and parameters: {'n_estimators': 70, 'max_depth': 23, 'min_samples_split': 7, 'min_samples_leaf': 5, 'max_features': 0.9061582180359677, 'bootstrap': True}. Best is trial 9 with value: 0.573170731707317.\n",
      "[I 2024-12-13 14:46:31,607] Trial 17 finished with value: 0.5460704607046071 and parameters: {'n_estimators': 30, 'max_depth': 36, 'min_samples_split': 4, 'min_samples_leaf': 2, 'max_features': 0.5171841135346976, 'bootstrap': False}. Best is trial 9 with value: 0.573170731707317.\n",
      "[I 2024-12-13 14:46:39,745] Trial 18 finished with value: 0.5271002710027101 and parameters: {'n_estimators': 10, 'max_depth': 65, 'min_samples_split': 7, 'min_samples_leaf': 2, 'max_features': 0.25946204263155986, 'bootstrap': True}. Best is trial 9 with value: 0.573170731707317.\n",
      "[I 2024-12-13 14:51:55,125] Trial 19 finished with value: 0.5365853658536586 and parameters: {'n_estimators': 168, 'max_depth': 15, 'min_samples_split': 6, 'min_samples_leaf': 4, 'max_features': 0.8256572833131814, 'bootstrap': False}. Best is trial 9 with value: 0.573170731707317.\n"
     ]
    },
    {
     "name": "stdout",
     "output_type": "stream",
     "text": [
      "Best_param: {'n_estimators': 58, 'max_depth': 20, 'min_samples_split': 5, 'min_samples_leaf': 1, 'max_features': 0.5162179948644036, 'bootstrap': False}\n",
      "Best_accuracy: 0.573170731707317\n"
     ]
    },
    {
     "data": {
      "text/html": [
       "<style>#sk-container-id-2 {color: black;background-color: white;}#sk-container-id-2 pre{padding: 0;}#sk-container-id-2 div.sk-toggleable {background-color: white;}#sk-container-id-2 label.sk-toggleable__label {cursor: pointer;display: block;width: 100%;margin-bottom: 0;padding: 0.3em;box-sizing: border-box;text-align: center;}#sk-container-id-2 label.sk-toggleable__label-arrow:before {content: \"▸\";float: left;margin-right: 0.25em;color: #696969;}#sk-container-id-2 label.sk-toggleable__label-arrow:hover:before {color: black;}#sk-container-id-2 div.sk-estimator:hover label.sk-toggleable__label-arrow:before {color: black;}#sk-container-id-2 div.sk-toggleable__content {max-height: 0;max-width: 0;overflow: hidden;text-align: left;background-color: #f0f8ff;}#sk-container-id-2 div.sk-toggleable__content pre {margin: 0.2em;color: black;border-radius: 0.25em;background-color: #f0f8ff;}#sk-container-id-2 input.sk-toggleable__control:checked~div.sk-toggleable__content {max-height: 200px;max-width: 100%;overflow: auto;}#sk-container-id-2 input.sk-toggleable__control:checked~label.sk-toggleable__label-arrow:before {content: \"▾\";}#sk-container-id-2 div.sk-estimator input.sk-toggleable__control:checked~label.sk-toggleable__label {background-color: #d4ebff;}#sk-container-id-2 div.sk-label input.sk-toggleable__control:checked~label.sk-toggleable__label {background-color: #d4ebff;}#sk-container-id-2 input.sk-hidden--visually {border: 0;clip: rect(1px 1px 1px 1px);clip: rect(1px, 1px, 1px, 1px);height: 1px;margin: -1px;overflow: hidden;padding: 0;position: absolute;width: 1px;}#sk-container-id-2 div.sk-estimator {font-family: monospace;background-color: #f0f8ff;border: 1px dotted black;border-radius: 0.25em;box-sizing: border-box;margin-bottom: 0.5em;}#sk-container-id-2 div.sk-estimator:hover {background-color: #d4ebff;}#sk-container-id-2 div.sk-parallel-item::after {content: \"\";width: 100%;border-bottom: 1px solid gray;flex-grow: 1;}#sk-container-id-2 div.sk-label:hover label.sk-toggleable__label {background-color: #d4ebff;}#sk-container-id-2 div.sk-serial::before {content: \"\";position: absolute;border-left: 1px solid gray;box-sizing: border-box;top: 0;bottom: 0;left: 50%;z-index: 0;}#sk-container-id-2 div.sk-serial {display: flex;flex-direction: column;align-items: center;background-color: white;padding-right: 0.2em;padding-left: 0.2em;position: relative;}#sk-container-id-2 div.sk-item {position: relative;z-index: 1;}#sk-container-id-2 div.sk-parallel {display: flex;align-items: stretch;justify-content: center;background-color: white;position: relative;}#sk-container-id-2 div.sk-item::before, #sk-container-id-2 div.sk-parallel-item::before {content: \"\";position: absolute;border-left: 1px solid gray;box-sizing: border-box;top: 0;bottom: 0;left: 50%;z-index: -1;}#sk-container-id-2 div.sk-parallel-item {display: flex;flex-direction: column;z-index: 1;position: relative;background-color: white;}#sk-container-id-2 div.sk-parallel-item:first-child::after {align-self: flex-end;width: 50%;}#sk-container-id-2 div.sk-parallel-item:last-child::after {align-self: flex-start;width: 50%;}#sk-container-id-2 div.sk-parallel-item:only-child::after {width: 0;}#sk-container-id-2 div.sk-dashed-wrapped {border: 1px dashed gray;margin: 0 0.4em 0.5em 0.4em;box-sizing: border-box;padding-bottom: 0.4em;background-color: white;}#sk-container-id-2 div.sk-label label {font-family: monospace;font-weight: bold;display: inline-block;line-height: 1.2em;}#sk-container-id-2 div.sk-label-container {text-align: center;}#sk-container-id-2 div.sk-container {/* jupyter's `normalize.less` sets `[hidden] { display: none; }` but bootstrap.min.css set `[hidden] { display: none !important; }` so we also need the `!important` here to be able to override the default hidden behavior on the sphinx rendered scikit-learn.org. See: https://github.com/scikit-learn/scikit-learn/issues/21755 */display: inline-block !important;position: relative;}#sk-container-id-2 div.sk-text-repr-fallback {display: none;}</style><div id=\"sk-container-id-2\" class=\"sk-top-container\"><div class=\"sk-text-repr-fallback\"><pre>RandomForestClassifier(bootstrap=False, max_depth=20,\n",
       "                       max_features=0.5162179948644036, min_samples_split=5,\n",
       "                       n_estimators=58, random_state=42)</pre><b>In a Jupyter environment, please rerun this cell to show the HTML representation or trust the notebook. <br />On GitHub, the HTML representation is unable to render, please try loading this page with nbviewer.org.</b></div><div class=\"sk-container\" hidden><div class=\"sk-item\"><div class=\"sk-estimator sk-toggleable\"><input class=\"sk-toggleable__control sk-hidden--visually\" id=\"sk-estimator-id-2\" type=\"checkbox\" checked><label for=\"sk-estimator-id-2\" class=\"sk-toggleable__label sk-toggleable__label-arrow\">RandomForestClassifier</label><div class=\"sk-toggleable__content\"><pre>RandomForestClassifier(bootstrap=False, max_depth=20,\n",
       "                       max_features=0.5162179948644036, min_samples_split=5,\n",
       "                       n_estimators=58, random_state=42)</pre></div></div></div></div></div>"
      ],
      "text/plain": [
       "RandomForestClassifier(bootstrap=False, max_depth=20,\n",
       "                       max_features=0.5162179948644036, min_samples_split=5,\n",
       "                       n_estimators=58, random_state=42)"
      ]
     },
     "execution_count": 13,
     "metadata": {},
     "output_type": "execute_result"
    }
   ],
   "source": [
    "def objective(trial):\n",
    "    # 分割訓練集與驗證集\n",
    "    X_train_split, X_val_split, y_train_split, y_val_split = train_test_split(\n",
    "        X_train, y_train, test_size=0.2, random_state=42)\n",
    "\n",
    "    params = {\n",
    "        'n_estimators': trial.suggest_int(\"n_estimators\", 10, 250, log=True),  # 樹的數量\n",
    "        'max_depth': trial.suggest_int('max_depth', 10, 100, log=True),  # 樹的最大深度\n",
    "        'min_samples_split': trial.suggest_int('min_samples_split', 2, 10),  # 分裂最小樣本數\n",
    "        'min_samples_leaf': trial.suggest_int('min_samples_leaf', 1, 10),  # 葉子最小樣本數\n",
    "        'max_features': trial.suggest_float('max_features', 0.1, 1),\n",
    "        'bootstrap': trial.suggest_categorical('bootstrap', [True, False])  # 是否使用放回抽樣\n",
    "    }\n",
    "\n",
    "    model = RandomForestClassifier(random_state=42, **params)\n",
    "\n",
    "    model.fit(X_train_split, y_train_split)\n",
    "\n",
    "    y_val_pred = model.predict(X_val_split)\n",
    "    accuracy = accuracy_score(y_val_split, y_val_pred)\n",
    "    return accuracy\n",
    "\n",
    "# 創建 Optuna 的 Study\n",
    "study = optuna.create_study(direction=\"maximize\")\n",
    "study.optimize(lambda trial: objective(trial), n_trials=20)\n",
    "\n",
    "# 輸出最佳結果\n",
    "print(\"Best_param:\", study.best_params)\n",
    "print(\"Best_accuracy:\", study.best_value)\n",
    "\n",
    "# 使用最佳參數重新訓練模型\n",
    "best_params = study.best_params\n",
    "final_model = RandomForestClassifier(random_state=42, **best_params)\n",
    "final_model.fit(X_train, y_train)"
   ]
  },
  {
   "cell_type": "code",
   "execution_count": 14,
   "id": "648342a1-ee1e-429d-b2db-663f8ac4821e",
   "metadata": {},
   "outputs": [
    {
     "name": "stdout",
     "output_type": "stream",
     "text": [
      "預測結果範例:\n",
      "   id  home_team_win\n",
      "0   0           True\n",
      "1   1           True\n",
      "2   2           True\n",
      "3   3          False\n",
      "4   4           True\n"
     ]
    }
   ],
   "source": [
    "y_test_pred = final_model.predict(future_X_test)\n",
    "predicted_results = y_test_pred > 0\n",
    "\n",
    "# 輸出預測結果\n",
    "output_df = pd.DataFrame({\n",
    "    'id': range(len(future_X_test)),\n",
    "    'home_team_win': predicted_results\n",
    "})\n",
    "\n",
    "print(\"預測結果範例:\")\n",
    "print(output_df.head())\n",
    "output_df.to_csv('rf_predictions2-2.csv', index=False)"
   ]
  },
  {
   "cell_type": "code",
   "execution_count": null,
   "id": "612c59a4-3218-4553-b3d6-aeb42661571a",
   "metadata": {},
   "outputs": [],
   "source": []
  }
 ],
 "metadata": {
  "kernelspec": {
   "display_name": "Python 3 (ipykernel)",
   "language": "python",
   "name": "python3"
  },
  "language_info": {
   "codemirror_mode": {
    "name": "ipython",
    "version": 3
   },
   "file_extension": ".py",
   "mimetype": "text/x-python",
   "name": "python",
   "nbconvert_exporter": "python",
   "pygments_lexer": "ipython3",
   "version": "3.11.7"
  }
 },
 "nbformat": 4,
 "nbformat_minor": 5
}
