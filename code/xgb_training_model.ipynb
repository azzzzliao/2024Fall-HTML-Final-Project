{
 "cells": [
  {
   "cell_type": "code",
   "execution_count": 2,
   "id": "561d9b33-52b7-4cbe-be7e-12365174e819",
   "metadata": {},
   "outputs": [],
   "source": [
    "import optuna\n",
    "from sklearn.model_selection import train_test_split, cross_val_score\n",
    "from sklearn.model_selection import cross_val_predict\n",
    "\n",
    "from sklearn.metrics import accuracy_score\n",
    "from xgboost import XGBClassifier\n",
    "import pandas as pd\n",
    "from collections import OrderedDict\n",
    "import numpy as np\n",
    "import xgboost as xgb\n",
    "from bayes_opt import BayesianOptimization\n",
    "from sklearn.datasets import make_classification\n",
    "\n",
    "train_data2 = pd.read_csv('clean_train_data.csv')\n",
    "test_data2 = pd.read_csv('clean_test_data.csv')\n",
    "future_data2 = pd.read_csv('clean_future_test_data.csv')"
   ]
  },
  {
   "cell_type": "code",
   "execution_count": 2,
   "id": "9068b341-6fbf-4646-b877-33ee8041d50d",
   "metadata": {},
   "outputs": [],
   "source": [
    "X_train = train_data2.drop(columns=['id', 'home_team_win', 'season'])\n",
    "y_train = train_data2['home_team_win']\n",
    "X_test = future_data2.drop(columns=['id', 'season'])"
   ]
  },
  {
   "cell_type": "code",
   "execution_count": 4,
   "id": "f05a308c-695d-460e-9b50-1cefd9e11a52",
   "metadata": {},
   "outputs": [
    {
     "name": "stdout",
     "output_type": "stream",
     "text": [
      "Average CV accuracy: 0.5544\n",
      "Validation Accuracy: 0.5544\n",
      "模型訓練完成，預測結果範例：\n",
      "   id  prediction\n",
      "0   0        True\n",
      "1   1        True\n",
      "2   2        True\n",
      "3   3       False\n",
      "4   4        True\n"
     ]
    }
   ],
   "source": [
    "params = {\n",
    "    'max_depth': 4,\n",
    "    'n_estimators': 175,\n",
    "    'subsample': 0.75,\n",
    "    'learning_rate': 0.01,\n",
    "    'alpha': 0.0011688861452798418,\n",
    "    'lambda': 0.0012674126399294001,\n",
    "    'gamma': 1,\n",
    "    'min_child_weight': 8,\n",
    "    'colsample_bytree': 0.567110634660098,\n",
    "}\n",
    "\n",
    "model = XGBClassifier(**params, eval_metric='logloss')\n",
    "cv_scores = cross_val_score(model, X_train, y_train, cv=5, scoring='accuracy')\n",
    "print(f\"Average CV accuracy: {cv_scores.mean():.4f}\")\n",
    "\n",
    "y_val_pred = cross_val_predict(model, X_train, y_train, cv=5)\n",
    "val_accuracy = accuracy_score(y_train, y_val_pred)\n",
    "print(f\"Validation Accuracy: {val_accuracy:.4f}\")\n",
    "\n",
    "model.fit(X_train, y_train) \n",
    "y_test_pred = model.predict(X_test)\n",
    "predicted_results = y_test_pred > 0\n",
    "\n",
    "output_df = pd.DataFrame({\n",
    "    'id': range(len(X_test)),\n",
    "    'prediction': predicted_results\n",
    "})\n",
    "\n",
    "print(\"模型訓練完成，預測結果範例：\")\n",
    "print(output_df.head())\n",
    "output_df.to_csv('xgb_predictions2-4.csv', index=False)\n"
   ]
  },
  {
   "cell_type": "code",
   "execution_count": null,
   "id": "51fbe64b-271a-4171-82cb-03a1f7d96f69",
   "metadata": {},
   "outputs": [],
   "source": []
  },
  {
   "cell_type": "code",
   "execution_count": 3,
   "id": "34f7f76e-4bd4-4711-8f42-fda651427eea",
   "metadata": {},
   "outputs": [
    {
     "name": "stdout",
     "output_type": "stream",
     "text": [
      "|   iter    |  target   |   alpha   | colsam... |   gamma   | learni... | max_depth | min_ch... | n_esti... | subsample |\n",
      "-------------------------------------------------------------------------------------------------------------------------\n"
     ]
    },
    {
     "name": "stderr",
     "output_type": "stream",
     "text": [
      "C:\\Users\\Liao\\anaconda3\\Lib\\site-packages\\bayes_opt\\target_space.py:344: UserWarning: You're attempting to register an np.ndarray. Currently, the optimizer internally sorts parameters by key and expects any registered array to respect this order. In future versions this behaviour will change and the order as given by the pbounds dictionary will be used. If you wish to retain sorted parameters, please manually sort your pbounds dictionary before constructing the optimizer.\n",
      "  warn(msg, stacklevel=1)\n"
     ]
    },
    {
     "name": "stdout",
     "output_type": "stream",
     "text": [
      "| \u001b[39m1        \u001b[39m | \u001b[39m0.5487   \u001b[39m | \u001b[39m0.0007491\u001b[39m | \u001b[39m0.5951   \u001b[39m | \u001b[39m7.32     \u001b[39m | \u001b[39m0.03395  \u001b[39m | \u001b[39m7.468    \u001b[39m | \u001b[39m6.624    \u001b[39m | \u001b[39m152.9    \u001b[39m | \u001b[39m0.7866   \u001b[39m |\n",
      "| \u001b[39m2        \u001b[39m | \u001b[39m0.5413   \u001b[39m | \u001b[39m0.001202 \u001b[39m | \u001b[39m0.5708   \u001b[39m | \u001b[39m0.2058   \u001b[39m | \u001b[39m0.0488   \u001b[39m | \u001b[39m9.497    \u001b[39m | \u001b[39m6.849    \u001b[39m | \u001b[39m159.1    \u001b[39m | \u001b[39m0.7183   \u001b[39m |\n",
      "| \u001b[35m3        \u001b[39m | \u001b[35m0.552    \u001b[39m | \u001b[35m0.0006085\u001b[39m | \u001b[35m0.5525   \u001b[39m | \u001b[35m4.319    \u001b[39m | \u001b[35m0.02165  \u001b[39m | \u001b[35m8.836    \u001b[39m | \u001b[35m6.558    \u001b[39m | \u001b[35m164.6    \u001b[39m | \u001b[35m0.7366   \u001b[39m |\n",
      "| \u001b[39m4        \u001b[39m | \u001b[39m0.5448   \u001b[39m | \u001b[39m0.0009121\u001b[39m | \u001b[39m0.5785   \u001b[39m | \u001b[39m1.997    \u001b[39m | \u001b[39m0.03057  \u001b[39m | \u001b[39m8.777    \u001b[39m | \u001b[39m6.186    \u001b[39m | \u001b[39m180.4    \u001b[39m | \u001b[39m0.7171   \u001b[39m |\n",
      "| \u001b[35m5        \u001b[39m | \u001b[35m0.559    \u001b[39m | \u001b[35m0.0001301\u001b[39m | \u001b[35m0.5949   \u001b[39m | \u001b[35m9.656    \u001b[39m | \u001b[35m0.04234  \u001b[39m | \u001b[35m7.914    \u001b[39m | \u001b[35m6.391    \u001b[39m | \u001b[35m184.2    \u001b[39m | \u001b[35m0.744    \u001b[39m |\n",
      "| \u001b[39m6        \u001b[39m | \u001b[39m0.5557   \u001b[39m | \u001b[39m0.0007862\u001b[39m | \u001b[39m0.5099   \u001b[39m | \u001b[39m9.575    \u001b[39m | \u001b[39m0.0119   \u001b[39m | \u001b[39m8.204    \u001b[39m | \u001b[39m6.651    \u001b[39m | \u001b[39m184.4    \u001b[39m | \u001b[39m0.7079   \u001b[39m |\n",
      "| \u001b[39m7        \u001b[39m | \u001b[39m0.557    \u001b[39m | \u001b[39m0.001197 \u001b[39m | \u001b[39m0.5022   \u001b[39m | \u001b[39m9.706    \u001b[39m | \u001b[39m0.02623  \u001b[39m | \u001b[39m7.426    \u001b[39m | \u001b[39m6.561    \u001b[39m | \u001b[39m183.4    \u001b[39m | \u001b[39m0.7432   \u001b[39m |\n",
      "| \u001b[39m8        \u001b[39m | \u001b[39m0.5522   \u001b[39m | \u001b[39m0.000946 \u001b[39m | \u001b[39m0.5961   \u001b[39m | \u001b[39m7.869    \u001b[39m | \u001b[39m0.02501  \u001b[39m | \u001b[39m7.341    \u001b[39m | \u001b[39m6.344    \u001b[39m | \u001b[39m184.0    \u001b[39m | \u001b[39m0.726    \u001b[39m |\n",
      "| \u001b[39m9        \u001b[39m | \u001b[39m0.5561   \u001b[39m | \u001b[39m0.0004029\u001b[39m | \u001b[39m0.5093   \u001b[39m | \u001b[39m9.807    \u001b[39m | \u001b[39m0.01121  \u001b[39m | \u001b[39m8.607    \u001b[39m | \u001b[39m6.041    \u001b[39m | \u001b[39m182.8    \u001b[39m | \u001b[39m0.755    \u001b[39m |\n",
      "| \u001b[35m10       \u001b[39m | \u001b[35m0.5604   \u001b[39m | \u001b[35m0.0005345\u001b[39m | \u001b[35m0.5343   \u001b[39m | \u001b[35m9.89     \u001b[39m | \u001b[35m0.04313  \u001b[39m | \u001b[35m7.441    \u001b[39m | \u001b[35m6.533    \u001b[39m | \u001b[35m185.9    \u001b[39m | \u001b[35m0.7601   \u001b[39m |\n",
      "| \u001b[35m11       \u001b[39m | \u001b[35m0.5609   \u001b[39m | \u001b[35m0.001965 \u001b[39m | \u001b[35m0.5286   \u001b[39m | \u001b[35m9.577    \u001b[39m | \u001b[35m0.02178  \u001b[39m | \u001b[35m7.236    \u001b[39m | \u001b[35m6.134    \u001b[39m | \u001b[35m187.4    \u001b[39m | \u001b[35m0.7048   \u001b[39m |\n",
      "| \u001b[39m12       \u001b[39m | \u001b[39m0.5549   \u001b[39m | \u001b[39m0.0008462\u001b[39m | \u001b[39m0.5456   \u001b[39m | \u001b[39m9.263    \u001b[39m | \u001b[39m0.01108  \u001b[39m | \u001b[39m7.032    \u001b[39m | \u001b[39m8.084    \u001b[39m | \u001b[39m187.9    \u001b[39m | \u001b[39m0.7154   \u001b[39m |\n",
      "| \u001b[39m13       \u001b[39m | \u001b[39m0.5531   \u001b[39m | \u001b[39m0.0008915\u001b[39m | \u001b[39m0.5619   \u001b[39m | \u001b[39m9.078    \u001b[39m | \u001b[39m0.01912  \u001b[39m | \u001b[39m8.674    \u001b[39m | \u001b[39m6.138    \u001b[39m | \u001b[39m187.6    \u001b[39m | \u001b[39m0.7186   \u001b[39m |\n",
      "| \u001b[39m14       \u001b[39m | \u001b[39m0.5499   \u001b[39m | \u001b[39m0.001912 \u001b[39m | \u001b[39m0.595    \u001b[39m | \u001b[39m7.194    \u001b[39m | \u001b[39m0.02891  \u001b[39m | \u001b[39m7.085    \u001b[39m | \u001b[39m6.301    \u001b[39m | \u001b[39m187.0    \u001b[39m | \u001b[39m0.7539   \u001b[39m |\n",
      "| \u001b[39m15       \u001b[39m | \u001b[39m0.5564   \u001b[39m | \u001b[39m0.0007298\u001b[39m | \u001b[39m0.5371   \u001b[39m | \u001b[39m9.902    \u001b[39m | \u001b[39m0.01509  \u001b[39m | \u001b[39m7.125    \u001b[39m | \u001b[39m6.604    \u001b[39m | \u001b[39m189.3    \u001b[39m | \u001b[39m0.7944   \u001b[39m |\n",
      "| \u001b[39m16       \u001b[39m | \u001b[39m0.5547   \u001b[39m | \u001b[39m0.001979 \u001b[39m | \u001b[39m0.5404   \u001b[39m | \u001b[39m9.922    \u001b[39m | \u001b[39m0.04738  \u001b[39m | \u001b[39m7.013    \u001b[39m | \u001b[39m7.913    \u001b[39m | \u001b[39m192.6    \u001b[39m | \u001b[39m0.7507   \u001b[39m |\n",
      "| \u001b[39m17       \u001b[39m | \u001b[39m0.5538   \u001b[39m | \u001b[39m0.001467 \u001b[39m | \u001b[39m0.525    \u001b[39m | \u001b[39m9.933    \u001b[39m | \u001b[39m0.04773  \u001b[39m | \u001b[39m7.466    \u001b[39m | \u001b[39m7.436    \u001b[39m | \u001b[39m186.6    \u001b[39m | \u001b[39m0.7326   \u001b[39m |\n",
      "| \u001b[39m18       \u001b[39m | \u001b[39m0.5571   \u001b[39m | \u001b[39m0.001304 \u001b[39m | \u001b[39m0.5854   \u001b[39m | \u001b[39m8.235    \u001b[39m | \u001b[39m0.01432  \u001b[39m | \u001b[39m7.001    \u001b[39m | \u001b[39m6.936    \u001b[39m | \u001b[39m190.7    \u001b[39m | \u001b[39m0.7333   \u001b[39m |\n",
      "| \u001b[39m19       \u001b[39m | \u001b[39m0.5555   \u001b[39m | \u001b[39m4.507e-05\u001b[39m | \u001b[39m0.5369   \u001b[39m | \u001b[39m9.734    \u001b[39m | \u001b[39m0.01417  \u001b[39m | \u001b[39m7.1      \u001b[39m | \u001b[39m6.154    \u001b[39m | \u001b[39m184.9    \u001b[39m | \u001b[39m0.7559   \u001b[39m |\n",
      "| \u001b[39m20       \u001b[39m | \u001b[39m0.5544   \u001b[39m | \u001b[39m0.001427 \u001b[39m | \u001b[39m0.5226   \u001b[39m | \u001b[39m9.768    \u001b[39m | \u001b[39m0.041    \u001b[39m | \u001b[39m7.508    \u001b[39m | \u001b[39m6.094    \u001b[39m | \u001b[39m186.4    \u001b[39m | \u001b[39m0.7766   \u001b[39m |\n",
      "| \u001b[39m21       \u001b[39m | \u001b[39m0.5579   \u001b[39m | \u001b[39m0.001117 \u001b[39m | \u001b[39m0.5434   \u001b[39m | \u001b[39m9.992    \u001b[39m | \u001b[39m0.01728  \u001b[39m | \u001b[39m7.407    \u001b[39m | \u001b[39m6.962    \u001b[39m | \u001b[39m185.7    \u001b[39m | \u001b[39m0.7136   \u001b[39m |\n",
      "| \u001b[39m22       \u001b[39m | \u001b[39m0.5514   \u001b[39m | \u001b[39m0.001448 \u001b[39m | \u001b[39m0.5233   \u001b[39m | \u001b[39m1.373    \u001b[39m | \u001b[39m0.01547  \u001b[39m | \u001b[39m9.332    \u001b[39m | \u001b[39m8.582    \u001b[39m | \u001b[39m162.1    \u001b[39m | \u001b[39m0.7505   \u001b[39m |\n",
      "| \u001b[39m23       \u001b[39m | \u001b[39m0.5438   \u001b[39m | \u001b[39m0.00149  \u001b[39m | \u001b[39m0.5258   \u001b[39m | \u001b[39m2.328    \u001b[39m | \u001b[39m0.0478   \u001b[39m | \u001b[39m7.069    \u001b[39m | \u001b[39m8.331    \u001b[39m | \u001b[39m182.4    \u001b[39m | \u001b[39m0.7887   \u001b[39m |\n",
      "| \u001b[39m24       \u001b[39m | \u001b[39m0.5581   \u001b[39m | \u001b[39m0.001068 \u001b[39m | \u001b[39m0.5678   \u001b[39m | \u001b[39m9.069    \u001b[39m | \u001b[39m0.0413   \u001b[39m | \u001b[39m7.215    \u001b[39m | \u001b[39m6.652    \u001b[39m | \u001b[39m188.2    \u001b[39m | \u001b[39m0.7412   \u001b[39m |\n",
      "| \u001b[39m25       \u001b[39m | \u001b[39m0.5513   \u001b[39m | \u001b[39m0.0007548\u001b[39m | \u001b[39m0.5716   \u001b[39m | \u001b[39m9.485    \u001b[39m | \u001b[39m0.02412  \u001b[39m | \u001b[39m7.485    \u001b[39m | \u001b[39m6.183    \u001b[39m | \u001b[39m188.2    \u001b[39m | \u001b[39m0.7007   \u001b[39m |\n",
      "| \u001b[39m26       \u001b[39m | \u001b[39m0.5577   \u001b[39m | \u001b[39m0.001371 \u001b[39m | \u001b[39m0.55     \u001b[39m | \u001b[39m9.666    \u001b[39m | \u001b[39m0.0157   \u001b[39m | \u001b[39m7.289    \u001b[39m | \u001b[39m6.557    \u001b[39m | \u001b[39m187.3    \u001b[39m | \u001b[39m0.7004   \u001b[39m |\n",
      "| \u001b[39m27       \u001b[39m | \u001b[39m0.5544   \u001b[39m | \u001b[39m0.0007522\u001b[39m | \u001b[39m0.5898   \u001b[39m | \u001b[39m9.527    \u001b[39m | \u001b[39m0.01273  \u001b[39m | \u001b[39m8.236    \u001b[39m | \u001b[39m6.517    \u001b[39m | \u001b[39m185.8    \u001b[39m | \u001b[39m0.7432   \u001b[39m |\n",
      "| \u001b[39m28       \u001b[39m | \u001b[39m0.5534   \u001b[39m | \u001b[39m0.001461 \u001b[39m | \u001b[39m0.5817   \u001b[39m | \u001b[39m8.425    \u001b[39m | \u001b[39m0.02209  \u001b[39m | \u001b[39m7.056    \u001b[39m | \u001b[39m6.823    \u001b[39m | \u001b[39m190.6    \u001b[39m | \u001b[39m0.7214   \u001b[39m |\n",
      "| \u001b[39m29       \u001b[39m | \u001b[39m0.5498   \u001b[39m | \u001b[39m0.0003792\u001b[39m | \u001b[39m0.5121   \u001b[39m | \u001b[39m7.4      \u001b[39m | \u001b[39m0.03386  \u001b[39m | \u001b[39m8.601    \u001b[39m | \u001b[39m8.938    \u001b[39m | \u001b[39m164.1    \u001b[39m | \u001b[39m0.7193   \u001b[39m |\n",
      "| \u001b[39m30       \u001b[39m | \u001b[39m0.5568   \u001b[39m | \u001b[39m0.001371 \u001b[39m | \u001b[39m0.5196   \u001b[39m | \u001b[39m9.906    \u001b[39m | \u001b[39m0.01368  \u001b[39m | \u001b[39m7.118    \u001b[39m | \u001b[39m6.552    \u001b[39m | \u001b[39m185.5    \u001b[39m | \u001b[39m0.7165   \u001b[39m |\n",
      "| \u001b[39m31       \u001b[39m | \u001b[39m0.553    \u001b[39m | \u001b[39m0.001818 \u001b[39m | \u001b[39m0.5776   \u001b[39m | \u001b[39m9.712    \u001b[39m | \u001b[39m0.04516  \u001b[39m | \u001b[39m7.075    \u001b[39m | \u001b[39m6.054    \u001b[39m | \u001b[39m187.1    \u001b[39m | \u001b[39m0.7066   \u001b[39m |\n",
      "| \u001b[39m32       \u001b[39m | \u001b[39m0.5525   \u001b[39m | \u001b[39m0.0007549\u001b[39m | \u001b[39m0.5425   \u001b[39m | \u001b[39m7.78     \u001b[39m | \u001b[39m0.03477  \u001b[39m | \u001b[39m9.88     \u001b[39m | \u001b[39m6.82     \u001b[39m | \u001b[39m180.3    \u001b[39m | \u001b[39m0.7623   \u001b[39m |\n",
      "| \u001b[39m33       \u001b[39m | \u001b[39m0.5514   \u001b[39m | \u001b[39m0.001232 \u001b[39m | \u001b[39m0.5556   \u001b[39m | \u001b[39m4.479    \u001b[39m | \u001b[39m0.02143  \u001b[39m | \u001b[39m7.422    \u001b[39m | \u001b[39m9.835    \u001b[39m | \u001b[39m165.1    \u001b[39m | \u001b[39m0.7326   \u001b[39m |\n",
      "| \u001b[39m34       \u001b[39m | \u001b[39m0.5432   \u001b[39m | \u001b[39m0.001717 \u001b[39m | \u001b[39m0.5025   \u001b[39m | \u001b[39m3.03     \u001b[39m | \u001b[39m0.03214  \u001b[39m | \u001b[39m8.358    \u001b[39m | \u001b[39m9.587    \u001b[39m | \u001b[39m178.9    \u001b[39m | \u001b[39m0.7431   \u001b[39m |\n",
      "| \u001b[39m35       \u001b[39m | \u001b[39m0.5542   \u001b[39m | \u001b[39m2.244e-05\u001b[39m | \u001b[39m0.5897   \u001b[39m | \u001b[39m9.953    \u001b[39m | \u001b[39m0.01932  \u001b[39m | \u001b[39m7.309    \u001b[39m | \u001b[39m6.038    \u001b[39m | \u001b[39m184.2    \u001b[39m | \u001b[39m0.7782   \u001b[39m |\n",
      "=========================================================================================================================\n"
     ]
    }
   ],
   "source": [
    "def xgb_evaluate(max_depth, learning_rate, n_estimators, min_child_weight, gamma, subsample, colsample_bytree, alpha):\n",
    "    params = {\n",
    "        'objective': 'binary:logistic',\n",
    "        'eval_metric': 'logloss',\n",
    "        'max_depth': int(max_depth), \n",
    "        'learning_rate': learning_rate,\n",
    "        'n_estimators': int(n_estimators), \n",
    "        'min_child_weight': min_child_weight,\n",
    "        'gamma': gamma,\n",
    "        'subsample': subsample,\n",
    "        'colsample_bytree': colsample_bytree,\n",
    "        'alpha': alpha,\n",
    "    }\n",
    "    # 初始化模型\n",
    "    model = xgb.XGBClassifier(**params)\n",
    "    # 交叉驗證計算平均準確率\n",
    "    scores = cross_val_score(model, X_train, y_train, cv=5, scoring='accuracy')\n",
    "    return scores.mean()\n",
    "\n",
    "# 定義超參數範圍\n",
    "pbounds = {\n",
    "    'max_depth': (7, 10),\n",
    "    'n_estimators': (150, 200),\n",
    "    'subsample': (0.7, 0.8),\n",
    "    'learning_rate': (0.01, 0.05),\n",
    "    'alpha': (0, 0.002),\n",
    "    'gamma': (0, 10),\n",
    "    'min_child_weight': (6, 10),\n",
    "    'colsample_bytree': (0.5, 0.6),\n",
    "}\n",
    "\n",
    "optimizer = BayesianOptimization(\n",
    "    f=xgb_evaluate,\n",
    "    pbounds=pbounds,\n",
    "    random_state=42,\n",
    ")\n",
    "\n",
    "optimizer.maximize(init_points=5, n_iter=30)\n"
   ]
  },
  {
   "cell_type": "code",
   "execution_count": 4,
   "id": "121034ae-b64b-4840-85ad-a194cee7fd14",
   "metadata": {},
   "outputs": [
    {
     "name": "stdout",
     "output_type": "stream",
     "text": [
      "Best Validation Accuracy: 0.5609\n",
      "Best Parameters:\n",
      "alpha: 0.0019652387557311116\n",
      "colsample_bytree: 0.528598125673456\n",
      "gamma: 9.577409626580337\n",
      "learning_rate: 0.021779728095541996\n",
      "max_depth: 7.236061318662626\n",
      "min_child_weight: 6.1336271753170575\n",
      "n_estimators: 187.44994833096283\n",
      "subsample: 0.7047730756872099\n"
     ]
    },
    {
     "data": {
      "text/html": [
       "<style>#sk-container-id-1 {color: black;background-color: white;}#sk-container-id-1 pre{padding: 0;}#sk-container-id-1 div.sk-toggleable {background-color: white;}#sk-container-id-1 label.sk-toggleable__label {cursor: pointer;display: block;width: 100%;margin-bottom: 0;padding: 0.3em;box-sizing: border-box;text-align: center;}#sk-container-id-1 label.sk-toggleable__label-arrow:before {content: \"▸\";float: left;margin-right: 0.25em;color: #696969;}#sk-container-id-1 label.sk-toggleable__label-arrow:hover:before {color: black;}#sk-container-id-1 div.sk-estimator:hover label.sk-toggleable__label-arrow:before {color: black;}#sk-container-id-1 div.sk-toggleable__content {max-height: 0;max-width: 0;overflow: hidden;text-align: left;background-color: #f0f8ff;}#sk-container-id-1 div.sk-toggleable__content pre {margin: 0.2em;color: black;border-radius: 0.25em;background-color: #f0f8ff;}#sk-container-id-1 input.sk-toggleable__control:checked~div.sk-toggleable__content {max-height: 200px;max-width: 100%;overflow: auto;}#sk-container-id-1 input.sk-toggleable__control:checked~label.sk-toggleable__label-arrow:before {content: \"▾\";}#sk-container-id-1 div.sk-estimator input.sk-toggleable__control:checked~label.sk-toggleable__label {background-color: #d4ebff;}#sk-container-id-1 div.sk-label input.sk-toggleable__control:checked~label.sk-toggleable__label {background-color: #d4ebff;}#sk-container-id-1 input.sk-hidden--visually {border: 0;clip: rect(1px 1px 1px 1px);clip: rect(1px, 1px, 1px, 1px);height: 1px;margin: -1px;overflow: hidden;padding: 0;position: absolute;width: 1px;}#sk-container-id-1 div.sk-estimator {font-family: monospace;background-color: #f0f8ff;border: 1px dotted black;border-radius: 0.25em;box-sizing: border-box;margin-bottom: 0.5em;}#sk-container-id-1 div.sk-estimator:hover {background-color: #d4ebff;}#sk-container-id-1 div.sk-parallel-item::after {content: \"\";width: 100%;border-bottom: 1px solid gray;flex-grow: 1;}#sk-container-id-1 div.sk-label:hover label.sk-toggleable__label {background-color: #d4ebff;}#sk-container-id-1 div.sk-serial::before {content: \"\";position: absolute;border-left: 1px solid gray;box-sizing: border-box;top: 0;bottom: 0;left: 50%;z-index: 0;}#sk-container-id-1 div.sk-serial {display: flex;flex-direction: column;align-items: center;background-color: white;padding-right: 0.2em;padding-left: 0.2em;position: relative;}#sk-container-id-1 div.sk-item {position: relative;z-index: 1;}#sk-container-id-1 div.sk-parallel {display: flex;align-items: stretch;justify-content: center;background-color: white;position: relative;}#sk-container-id-1 div.sk-item::before, #sk-container-id-1 div.sk-parallel-item::before {content: \"\";position: absolute;border-left: 1px solid gray;box-sizing: border-box;top: 0;bottom: 0;left: 50%;z-index: -1;}#sk-container-id-1 div.sk-parallel-item {display: flex;flex-direction: column;z-index: 1;position: relative;background-color: white;}#sk-container-id-1 div.sk-parallel-item:first-child::after {align-self: flex-end;width: 50%;}#sk-container-id-1 div.sk-parallel-item:last-child::after {align-self: flex-start;width: 50%;}#sk-container-id-1 div.sk-parallel-item:only-child::after {width: 0;}#sk-container-id-1 div.sk-dashed-wrapped {border: 1px dashed gray;margin: 0 0.4em 0.5em 0.4em;box-sizing: border-box;padding-bottom: 0.4em;background-color: white;}#sk-container-id-1 div.sk-label label {font-family: monospace;font-weight: bold;display: inline-block;line-height: 1.2em;}#sk-container-id-1 div.sk-label-container {text-align: center;}#sk-container-id-1 div.sk-container {/* jupyter's `normalize.less` sets `[hidden] { display: none; }` but bootstrap.min.css set `[hidden] { display: none !important; }` so we also need the `!important` here to be able to override the default hidden behavior on the sphinx rendered scikit-learn.org. See: https://github.com/scikit-learn/scikit-learn/issues/21755 */display: inline-block !important;position: relative;}#sk-container-id-1 div.sk-text-repr-fallback {display: none;}</style><div id=\"sk-container-id-1\" class=\"sk-top-container\"><div class=\"sk-text-repr-fallback\"><pre>XGBClassifier(alpha=0.0019652387557311116, base_score=None, booster=None,\n",
       "              callbacks=None, colsample_bylevel=None, colsample_bynode=None,\n",
       "              colsample_bytree=0.528598125673456, device=None,\n",
       "              early_stopping_rounds=None, enable_categorical=False,\n",
       "              eval_metric=&#x27;logloss&#x27;, feature_types=None,\n",
       "              gamma=9.577409626580337, grow_policy=None, importance_type=None,\n",
       "              interaction_constraints=None, learning_rate=0.021779728095541996,\n",
       "              max_bin=None, max_cat_threshold=None, max_cat_to_onehot=None,\n",
       "              max_delta_step=None, max_depth=7, max_leaves=None,\n",
       "              min_child_weight=6.1336271753170575, missing=nan,\n",
       "              monotone_constraints=None, multi_strategy=None, n_estimators=187,\n",
       "              n_jobs=None, num_parallel_tree=None, ...)</pre><b>In a Jupyter environment, please rerun this cell to show the HTML representation or trust the notebook. <br />On GitHub, the HTML representation is unable to render, please try loading this page with nbviewer.org.</b></div><div class=\"sk-container\" hidden><div class=\"sk-item\"><div class=\"sk-estimator sk-toggleable\"><input class=\"sk-toggleable__control sk-hidden--visually\" id=\"sk-estimator-id-1\" type=\"checkbox\" checked><label for=\"sk-estimator-id-1\" class=\"sk-toggleable__label sk-toggleable__label-arrow\">XGBClassifier</label><div class=\"sk-toggleable__content\"><pre>XGBClassifier(alpha=0.0019652387557311116, base_score=None, booster=None,\n",
       "              callbacks=None, colsample_bylevel=None, colsample_bynode=None,\n",
       "              colsample_bytree=0.528598125673456, device=None,\n",
       "              early_stopping_rounds=None, enable_categorical=False,\n",
       "              eval_metric=&#x27;logloss&#x27;, feature_types=None,\n",
       "              gamma=9.577409626580337, grow_policy=None, importance_type=None,\n",
       "              interaction_constraints=None, learning_rate=0.021779728095541996,\n",
       "              max_bin=None, max_cat_threshold=None, max_cat_to_onehot=None,\n",
       "              max_delta_step=None, max_depth=7, max_leaves=None,\n",
       "              min_child_weight=6.1336271753170575, missing=nan,\n",
       "              monotone_constraints=None, multi_strategy=None, n_estimators=187,\n",
       "              n_jobs=None, num_parallel_tree=None, ...)</pre></div></div></div></div></div>"
      ],
      "text/plain": [
       "XGBClassifier(alpha=0.0019652387557311116, base_score=None, booster=None,\n",
       "              callbacks=None, colsample_bylevel=None, colsample_bynode=None,\n",
       "              colsample_bytree=0.528598125673456, device=None,\n",
       "              early_stopping_rounds=None, enable_categorical=False,\n",
       "              eval_metric='logloss', feature_types=None,\n",
       "              gamma=9.577409626580337, grow_policy=None, importance_type=None,\n",
       "              interaction_constraints=None, learning_rate=0.021779728095541996,\n",
       "              max_bin=None, max_cat_threshold=None, max_cat_to_onehot=None,\n",
       "              max_delta_step=None, max_depth=7, max_leaves=None,\n",
       "              min_child_weight=6.1336271753170575, missing=nan,\n",
       "              monotone_constraints=None, multi_strategy=None, n_estimators=187,\n",
       "              n_jobs=None, num_parallel_tree=None, ...)"
      ]
     },
     "execution_count": 4,
     "metadata": {},
     "output_type": "execute_result"
    }
   ],
   "source": [
    "best_result = optimizer.max\n",
    "best_params = best_result['params']\n",
    "best_validation_accuracy = best_result['target']\n",
    "\n",
    "print(f\"Best Validation Accuracy: {best_validation_accuracy:.4f}\")\n",
    "print(\"Best Parameters:\")\n",
    "for param, value in best_params.items():\n",
    "    print(f\"{param}: {value}\")\n",
    "\n",
    "# 使用最佳參數訓練模型\n",
    "final_model = xgb.XGBClassifier(\n",
    "    objective='binary:logistic',\n",
    "    eval_metric='logloss',\n",
    "    max_depth=int(best_params['max_depth']),\n",
    "    learning_rate=best_params['learning_rate'],\n",
    "    n_estimators=int(best_params['n_estimators']),\n",
    "    min_child_weight=best_params['min_child_weight'],\n",
    "    gamma=best_params['gamma'],\n",
    "    subsample=best_params['subsample'],\n",
    "    colsample_bytree=best_params['colsample_bytree'],\n",
    "    alpha=best_params['alpha']\n",
    ")\n",
    "\n",
    "final_model.fit(X_train, y_train)"
   ]
  },
  {
   "cell_type": "code",
   "execution_count": 5,
   "id": "00181501-32df-43dc-af03-a1570e4a2d13",
   "metadata": {},
   "outputs": [
    {
     "name": "stdout",
     "output_type": "stream",
     "text": [
      "模型訓練完成，預測結果範例：\n",
      "   id  home_team_win\n",
      "0   0           True\n",
      "1   1           True\n",
      "2   2           True\n",
      "3   3          False\n",
      "4   4           True\n"
     ]
    }
   ],
   "source": [
    "y_test_pred = final_model.predict(X_test)\n",
    "predicted_results = y_test_pred > 0\n",
    "\n",
    "output_df = pd.DataFrame({\n",
    "    'id': range(len(X_test)),\n",
    "    'home_team_win': predicted_results\n",
    "})\n",
    "\n",
    "print(\"模型訓練完成，預測結果範例：\")\n",
    "print(output_df.head())\n",
    "output_df.to_csv('xgb_predictions2-4.csv', index=False)"
   ]
  },
  {
   "cell_type": "code",
   "execution_count": null,
   "id": "41ce85b2-9cec-4172-af74-cb6bed6663b2",
   "metadata": {},
   "outputs": [],
   "source": []
  },
  {
   "cell_type": "code",
   "execution_count": 3,
   "id": "8fa58220-ad13-4740-8a45-c97446e99dff",
   "metadata": {},
   "outputs": [
    {
     "name": "stdout",
     "output_type": "stream",
     "text": [
      "Average CV accuracy: 0.5552\n",
      "Validation Accuracy: 0.5552\n",
      "模型訓練完成，預測結果範例：\n",
      "   id  prediction\n",
      "0   0        True\n",
      "1   1       False\n",
      "2   2        True\n",
      "3   3        True\n",
      "4   4       False\n"
     ]
    }
   ],
   "source": []
  },
  {
   "cell_type": "code",
   "execution_count": 3,
   "id": "5b5b2064-2eab-48b9-942d-d13fbde69002",
   "metadata": {},
   "outputs": [
    {
     "name": "stdout",
     "output_type": "stream",
     "text": [
      "|   iter    |  target   | colsam... |   gamma   | learni... | max_depth | min_ch... | n_esti... | subsample |\n",
      "-------------------------------------------------------------------------------------------------------------\n"
     ]
    },
    {
     "name": "stderr",
     "output_type": "stream",
     "text": [
      "C:\\Users\\Liao\\anaconda3\\Lib\\site-packages\\bayes_opt\\target_space.py:344: UserWarning: You're attempting to register an np.ndarray. Currently, the optimizer internally sorts parameters by key and expects any registered array to respect this order. In future versions this behaviour will change and the order as given by the pbounds dictionary will be used. If you wish to retain sorted parameters, please manually sort your pbounds dictionary before constructing the optimizer.\n",
      "  warn(msg, stacklevel=1)\n"
     ]
    },
    {
     "name": "stdout",
     "output_type": "stream",
     "text": [
      "| \u001b[39m1        \u001b[39m | \u001b[39m0.538    \u001b[39m | \u001b[39m0.6873   \u001b[39m | \u001b[39m0.9507   \u001b[39m | \u001b[39m0.07588  \u001b[39m | \u001b[39m7.191    \u001b[39m | \u001b[39m2.404    \u001b[39m | \u001b[39m73.4     \u001b[39m | \u001b[39m0.7116   \u001b[39m |\n",
      "| \u001b[35m2        \u001b[39m | \u001b[35m0.5496   \u001b[39m | \u001b[35m0.9331   \u001b[39m | \u001b[35m0.6011   \u001b[39m | \u001b[35m0.07373  \u001b[39m | \u001b[35m3.144    \u001b[39m | \u001b[35m9.729    \u001b[39m | \u001b[35m174.9    \u001b[39m | \u001b[35m0.7425   \u001b[39m |\n",
      "| \u001b[35m3        \u001b[39m | \u001b[35m0.5541   \u001b[39m | \u001b[35m0.5909   \u001b[39m | \u001b[35m0.1834   \u001b[39m | \u001b[35m0.03738  \u001b[39m | \u001b[35m6.673    \u001b[39m | \u001b[35m4.888    \u001b[39m | \u001b[35m93.68    \u001b[39m | \u001b[35m0.8224   \u001b[39m |\n",
      "| \u001b[39m4        \u001b[39m | \u001b[39m0.5527   \u001b[39m | \u001b[39m0.5697   \u001b[39m | \u001b[39m0.2921   \u001b[39m | \u001b[39m0.04297  \u001b[39m | \u001b[39m6.192    \u001b[39m | \u001b[39m8.067    \u001b[39m | \u001b[39m79.95    \u001b[39m | \u001b[39m0.8028   \u001b[39m |\n",
      "| \u001b[39m5        \u001b[39m | \u001b[39m0.5506   \u001b[39m | \u001b[39m0.7962   \u001b[39m | \u001b[39m0.04645  \u001b[39m | \u001b[39m0.06468  \u001b[39m | \u001b[39m4.194    \u001b[39m | \u001b[39m1.585    \u001b[39m | \u001b[39m192.3    \u001b[39m | \u001b[39m0.8931   \u001b[39m |\n",
      "| \u001b[39m6        \u001b[39m | \u001b[39m0.5494   \u001b[39m | \u001b[39m0.838    \u001b[39m | \u001b[39m0.6387   \u001b[39m | \u001b[39m0.08605  \u001b[39m | \u001b[39m3.099    \u001b[39m | \u001b[39m9.362    \u001b[39m | \u001b[39m174.4    \u001b[39m | \u001b[39m0.8876   \u001b[39m |\n",
      "| \u001b[39m7        \u001b[39m | \u001b[39m0.5417   \u001b[39m | \u001b[39m0.7684   \u001b[39m | \u001b[39m0.05224  \u001b[39m | \u001b[39m0.08882  \u001b[39m | \u001b[39m6.167    \u001b[39m | \u001b[39m7.552    \u001b[39m | \u001b[39m87.72    \u001b[39m | \u001b[39m0.7515   \u001b[39m |\n",
      "| \u001b[39m8        \u001b[39m | \u001b[39m0.5459   \u001b[39m | \u001b[39m0.7191   \u001b[39m | \u001b[39m0.406    \u001b[39m | \u001b[39m0.05609  \u001b[39m | \u001b[39m7.578    \u001b[39m | \u001b[39m3.008    \u001b[39m | \u001b[39m96.41    \u001b[39m | \u001b[39m0.8792   \u001b[39m |\n",
      "| \u001b[35m9        \u001b[39m | \u001b[35m0.5558   \u001b[39m | \u001b[35m0.7213   \u001b[39m | \u001b[35m0.5372   \u001b[39m | \u001b[35m0.03694  \u001b[39m | \u001b[35m4.584    \u001b[39m | \u001b[35m5.554    \u001b[39m | \u001b[35m93.6     \u001b[39m | \u001b[35m0.8985   \u001b[39m |\n",
      "| \u001b[39m10       \u001b[39m | \u001b[39m0.5512   \u001b[39m | \u001b[39m0.8744   \u001b[39m | \u001b[39m0.5117   \u001b[39m | \u001b[39m0.01208  \u001b[39m | \u001b[39m5.003    \u001b[39m | \u001b[39m8.114    \u001b[39m | \u001b[39m94.99    \u001b[39m | \u001b[39m0.7012   \u001b[39m |\n",
      "| \u001b[39m11       \u001b[39m | \u001b[39m0.5511   \u001b[39m | \u001b[39m0.7308   \u001b[39m | \u001b[39m0.6526   \u001b[39m | \u001b[39m0.08385  \u001b[39m | \u001b[39m4.085    \u001b[39m | \u001b[39m2.716    \u001b[39m | \u001b[39m92.25    \u001b[39m | \u001b[39m0.8274   \u001b[39m |\n",
      "| \u001b[39m12       \u001b[39m | \u001b[39m0.5532   \u001b[39m | \u001b[39m0.644    \u001b[39m | \u001b[39m0.8102   \u001b[39m | \u001b[39m0.03195  \u001b[39m | \u001b[39m3.09     \u001b[39m | \u001b[39m9.888    \u001b[39m | \u001b[39m77.45    \u001b[39m | \u001b[39m0.8083   \u001b[39m |\n",
      "| \u001b[39m13       \u001b[39m | \u001b[39m0.5321   \u001b[39m | \u001b[39m0.5469   \u001b[39m | \u001b[39m0.7857   \u001b[39m | \u001b[39m0.09929  \u001b[39m | \u001b[39m8.497    \u001b[39m | \u001b[39m9.88     \u001b[39m | \u001b[39m76.8     \u001b[39m | \u001b[39m0.8591   \u001b[39m |\n",
      "| \u001b[35m14       \u001b[39m | \u001b[35m0.5567   \u001b[39m | \u001b[35m0.8748   \u001b[39m | \u001b[35m0.9771   \u001b[39m | \u001b[35m0.03167  \u001b[39m | \u001b[35m3.476    \u001b[39m | \u001b[35m7.232    \u001b[39m | \u001b[35m80.48    \u001b[39m | \u001b[35m0.8812   \u001b[39m |\n",
      "| \u001b[35m15       \u001b[39m | \u001b[35m0.559    \u001b[39m | \u001b[35m0.8923   \u001b[39m | \u001b[35m0.6492   \u001b[39m | \u001b[35m0.04586  \u001b[39m | \u001b[35m3.412    \u001b[39m | \u001b[35m9.281    \u001b[39m | \u001b[35m82.01    \u001b[39m | \u001b[35m0.8323   \u001b[39m |\n",
      "| \u001b[39m16       \u001b[39m | \u001b[39m0.5542   \u001b[39m | \u001b[39m0.646    \u001b[39m | \u001b[39m0.5946   \u001b[39m | \u001b[39m0.06605  \u001b[39m | \u001b[39m3.629    \u001b[39m | \u001b[39m6.881    \u001b[39m | \u001b[39m185.7    \u001b[39m | \u001b[39m0.748    \u001b[39m |\n",
      "| \u001b[39m17       \u001b[39m | \u001b[39m0.545    \u001b[39m | \u001b[39m0.5695   \u001b[39m | \u001b[39m0.1633   \u001b[39m | \u001b[39m0.04974  \u001b[39m | \u001b[39m8.866    \u001b[39m | \u001b[39m6.684    \u001b[39m | \u001b[39m186.5    \u001b[39m | \u001b[39m0.7343   \u001b[39m |\n",
      "| \u001b[39m18       \u001b[39m | \u001b[39m0.558    \u001b[39m | \u001b[39m0.881    \u001b[39m | \u001b[39m0.3089   \u001b[39m | \u001b[39m0.03933  \u001b[39m | \u001b[39m3.101    \u001b[39m | \u001b[39m4.514    \u001b[39m | \u001b[39m181.5    \u001b[39m | \u001b[39m0.8879   \u001b[39m |\n",
      "| \u001b[39m19       \u001b[39m | \u001b[39m0.5561   \u001b[39m | \u001b[39m0.923    \u001b[39m | \u001b[39m0.6091   \u001b[39m | \u001b[39m0.08122  \u001b[39m | \u001b[39m3.11     \u001b[39m | \u001b[39m1.803    \u001b[39m | \u001b[39m184.2    \u001b[39m | \u001b[39m0.7899   \u001b[39m |\n",
      "| \u001b[39m20       \u001b[39m | \u001b[39m0.5398   \u001b[39m | \u001b[39m0.5229   \u001b[39m | \u001b[39m0.3147   \u001b[39m | \u001b[39m0.08648  \u001b[39m | \u001b[39m5.213    \u001b[39m | \u001b[39m1.464    \u001b[39m | \u001b[39m179.0    \u001b[39m | \u001b[39m0.7185   \u001b[39m |\n",
      "| \u001b[39m21       \u001b[39m | \u001b[39m0.552    \u001b[39m | \u001b[39m0.7999   \u001b[39m | \u001b[39m0.2069   \u001b[39m | \u001b[39m0.08294  \u001b[39m | \u001b[39m3.789    \u001b[39m | \u001b[39m8.361    \u001b[39m | \u001b[39m181.0    \u001b[39m | \u001b[39m0.7876   \u001b[39m |\n",
      "| \u001b[39m22       \u001b[39m | \u001b[39m0.5521   \u001b[39m | \u001b[39m0.5809   \u001b[39m | \u001b[39m0.9552   \u001b[39m | \u001b[39m0.06353  \u001b[39m | \u001b[39m3.617    \u001b[39m | \u001b[39m4.736    \u001b[39m | \u001b[39m184.2    \u001b[39m | \u001b[39m0.8805   \u001b[39m |\n",
      "| \u001b[39m23       \u001b[39m | \u001b[39m0.553    \u001b[39m | \u001b[39m0.84     \u001b[39m | \u001b[39m0.1608   \u001b[39m | \u001b[39m0.01529  \u001b[39m | \u001b[39m3.166    \u001b[39m | \u001b[39m9.983    \u001b[39m | \u001b[39m80.2     \u001b[39m | \u001b[39m0.824    \u001b[39m |\n",
      "| \u001b[39m24       \u001b[39m | \u001b[39m0.5547   \u001b[39m | \u001b[39m0.812    \u001b[39m | \u001b[39m0.6686   \u001b[39m | \u001b[39m0.09604  \u001b[39m | \u001b[39m3.328    \u001b[39m | \u001b[39m6.522    \u001b[39m | \u001b[39m82.92    \u001b[39m | \u001b[39m0.8447   \u001b[39m |\n",
      "| \u001b[39m25       \u001b[39m | \u001b[39m0.5535   \u001b[39m | \u001b[39m0.9377   \u001b[39m | \u001b[39m0.847    \u001b[39m | \u001b[39m0.07196  \u001b[39m | \u001b[39m5.353    \u001b[39m | \u001b[39m9.733    \u001b[39m | \u001b[39m82.88    \u001b[39m | \u001b[39m0.8246   \u001b[39m |\n",
      "| \u001b[39m26       \u001b[39m | \u001b[39m0.5546   \u001b[39m | \u001b[39m0.9714   \u001b[39m | \u001b[39m0.907    \u001b[39m | \u001b[39m0.0683   \u001b[39m | \u001b[39m3.227    \u001b[39m | \u001b[39m9.71     \u001b[39m | \u001b[39m188.8    \u001b[39m | \u001b[39m0.8455   \u001b[39m |\n",
      "| \u001b[39m27       \u001b[39m | \u001b[39m0.5548   \u001b[39m | \u001b[39m0.8384   \u001b[39m | \u001b[39m0.2682   \u001b[39m | \u001b[39m0.05342  \u001b[39m | \u001b[39m3.204    \u001b[39m | \u001b[39m1.171    \u001b[39m | \u001b[39m187.6    \u001b[39m | \u001b[39m0.8148   \u001b[39m |\n",
      "| \u001b[39m28       \u001b[39m | \u001b[39m0.5466   \u001b[39m | \u001b[39m0.6482   \u001b[39m | \u001b[39m0.1187   \u001b[39m | \u001b[39m0.09211  \u001b[39m | \u001b[39m3.083    \u001b[39m | \u001b[39m6.685    \u001b[39m | \u001b[39m191.0    \u001b[39m | \u001b[39m0.748    \u001b[39m |\n",
      "| \u001b[39m29       \u001b[39m | \u001b[39m0.5449   \u001b[39m | \u001b[39m0.7054   \u001b[39m | \u001b[39m0.4875   \u001b[39m | \u001b[39m0.08607  \u001b[39m | \u001b[39m4.312    \u001b[39m | \u001b[39m9.805    \u001b[39m | \u001b[39m185.0    \u001b[39m | \u001b[39m0.8803   \u001b[39m |\n",
      "| \u001b[39m30       \u001b[39m | \u001b[39m0.5481   \u001b[39m | \u001b[39m0.8027   \u001b[39m | \u001b[39m0.5726   \u001b[39m | \u001b[39m0.05657  \u001b[39m | \u001b[39m6.005    \u001b[39m | \u001b[39m4.413    \u001b[39m | \u001b[39m81.16    \u001b[39m | \u001b[39m0.8332   \u001b[39m |\n",
      "=============================================================================================================\n"
     ]
    }
   ],
   "source": [
    "def xgb_evaluate(max_depth, learning_rate, n_estimators, min_child_weight, gamma, subsample, colsample_bytree):\n",
    "    params = {\n",
    "        'objective': 'binary:logistic',\n",
    "        'eval_metric': 'logloss',\n",
    "        'max_depth': int(max_depth),\n",
    "        'learning_rate': learning_rate,\n",
    "        'n_estimators': int(n_estimators),\n",
    "        'min_child_weight': min_child_weight,\n",
    "        'gamma': gamma,\n",
    "        'subsample': subsample,\n",
    "        'colsample_bytree': colsample_bytree,\n",
    "    }\n",
    "\n",
    "    model = xgb.XGBClassifier(**params)\n",
    "    scores = cross_val_score(model, X_train, y_train, cv=5, scoring='accuracy')\n",
    "    return scores.mean()\n",
    "\n",
    "pbounds = {\n",
    "    'n_estimators': (50, 200),\n",
    "    'max_depth': (3, 10),\n",
    "    'learning_rate': (0.01, 0.1),\n",
    "    'subsample': (0.7, 0.9),\n",
    "    'colsample_bytree': (0.5, 1),\n",
    "    'gamma': (0, 1),\n",
    "    'min_child_weight': (1, 10),\n",
    "}\n",
    "optimizer = BayesianOptimization(\n",
    "    f=xgb_evaluate,  \n",
    "    pbounds=pbounds,  \n",
    "    random_state=42\n",
    ")\n",
    "\n",
    "optimizer.maximize(init_points=5, n_iter=25)"
   ]
  },
  {
   "cell_type": "code",
   "execution_count": 4,
   "id": "3257f1cb-d92c-4de0-8dd0-6f7b07cf6821",
   "metadata": {},
   "outputs": [
    {
     "name": "stdout",
     "output_type": "stream",
     "text": [
      "Best Validation Accuracy: 0.5590\n",
      "Best Parameters:\n",
      "colsample_bytree: 0.8922665485053749\n",
      "gamma: 0.6492196885419822\n",
      "learning_rate: 0.04585937135163588\n",
      "max_depth: 3.4120814346797497\n",
      "min_child_weight: 9.281372078619311\n",
      "n_estimators: 82.01197644627693\n",
      "subsample: 0.8323098468063317\n"
     ]
    },
    {
     "data": {
      "text/html": [
       "<style>#sk-container-id-1 {color: black;background-color: white;}#sk-container-id-1 pre{padding: 0;}#sk-container-id-1 div.sk-toggleable {background-color: white;}#sk-container-id-1 label.sk-toggleable__label {cursor: pointer;display: block;width: 100%;margin-bottom: 0;padding: 0.3em;box-sizing: border-box;text-align: center;}#sk-container-id-1 label.sk-toggleable__label-arrow:before {content: \"▸\";float: left;margin-right: 0.25em;color: #696969;}#sk-container-id-1 label.sk-toggleable__label-arrow:hover:before {color: black;}#sk-container-id-1 div.sk-estimator:hover label.sk-toggleable__label-arrow:before {color: black;}#sk-container-id-1 div.sk-toggleable__content {max-height: 0;max-width: 0;overflow: hidden;text-align: left;background-color: #f0f8ff;}#sk-container-id-1 div.sk-toggleable__content pre {margin: 0.2em;color: black;border-radius: 0.25em;background-color: #f0f8ff;}#sk-container-id-1 input.sk-toggleable__control:checked~div.sk-toggleable__content {max-height: 200px;max-width: 100%;overflow: auto;}#sk-container-id-1 input.sk-toggleable__control:checked~label.sk-toggleable__label-arrow:before {content: \"▾\";}#sk-container-id-1 div.sk-estimator input.sk-toggleable__control:checked~label.sk-toggleable__label {background-color: #d4ebff;}#sk-container-id-1 div.sk-label input.sk-toggleable__control:checked~label.sk-toggleable__label {background-color: #d4ebff;}#sk-container-id-1 input.sk-hidden--visually {border: 0;clip: rect(1px 1px 1px 1px);clip: rect(1px, 1px, 1px, 1px);height: 1px;margin: -1px;overflow: hidden;padding: 0;position: absolute;width: 1px;}#sk-container-id-1 div.sk-estimator {font-family: monospace;background-color: #f0f8ff;border: 1px dotted black;border-radius: 0.25em;box-sizing: border-box;margin-bottom: 0.5em;}#sk-container-id-1 div.sk-estimator:hover {background-color: #d4ebff;}#sk-container-id-1 div.sk-parallel-item::after {content: \"\";width: 100%;border-bottom: 1px solid gray;flex-grow: 1;}#sk-container-id-1 div.sk-label:hover label.sk-toggleable__label {background-color: #d4ebff;}#sk-container-id-1 div.sk-serial::before {content: \"\";position: absolute;border-left: 1px solid gray;box-sizing: border-box;top: 0;bottom: 0;left: 50%;z-index: 0;}#sk-container-id-1 div.sk-serial {display: flex;flex-direction: column;align-items: center;background-color: white;padding-right: 0.2em;padding-left: 0.2em;position: relative;}#sk-container-id-1 div.sk-item {position: relative;z-index: 1;}#sk-container-id-1 div.sk-parallel {display: flex;align-items: stretch;justify-content: center;background-color: white;position: relative;}#sk-container-id-1 div.sk-item::before, #sk-container-id-1 div.sk-parallel-item::before {content: \"\";position: absolute;border-left: 1px solid gray;box-sizing: border-box;top: 0;bottom: 0;left: 50%;z-index: -1;}#sk-container-id-1 div.sk-parallel-item {display: flex;flex-direction: column;z-index: 1;position: relative;background-color: white;}#sk-container-id-1 div.sk-parallel-item:first-child::after {align-self: flex-end;width: 50%;}#sk-container-id-1 div.sk-parallel-item:last-child::after {align-self: flex-start;width: 50%;}#sk-container-id-1 div.sk-parallel-item:only-child::after {width: 0;}#sk-container-id-1 div.sk-dashed-wrapped {border: 1px dashed gray;margin: 0 0.4em 0.5em 0.4em;box-sizing: border-box;padding-bottom: 0.4em;background-color: white;}#sk-container-id-1 div.sk-label label {font-family: monospace;font-weight: bold;display: inline-block;line-height: 1.2em;}#sk-container-id-1 div.sk-label-container {text-align: center;}#sk-container-id-1 div.sk-container {/* jupyter's `normalize.less` sets `[hidden] { display: none; }` but bootstrap.min.css set `[hidden] { display: none !important; }` so we also need the `!important` here to be able to override the default hidden behavior on the sphinx rendered scikit-learn.org. See: https://github.com/scikit-learn/scikit-learn/issues/21755 */display: inline-block !important;position: relative;}#sk-container-id-1 div.sk-text-repr-fallback {display: none;}</style><div id=\"sk-container-id-1\" class=\"sk-top-container\"><div class=\"sk-text-repr-fallback\"><pre>XGBClassifier(base_score=None, booster=None, callbacks=None,\n",
       "              colsample_bylevel=None, colsample_bynode=None,\n",
       "              colsample_bytree=0.8922665485053749, device=None,\n",
       "              early_stopping_rounds=None, enable_categorical=False,\n",
       "              eval_metric=&#x27;logloss&#x27;, feature_types=None,\n",
       "              gamma=0.6492196885419822, grow_policy=None, importance_type=None,\n",
       "              interaction_constraints=None, learning_rate=0.04585937135163588,\n",
       "              max_bin=None, max_cat_threshold=None, max_cat_to_onehot=None,\n",
       "              max_delta_step=None, max_depth=3, max_leaves=None,\n",
       "              min_child_weight=9.281372078619311, missing=nan,\n",
       "              monotone_constraints=None, multi_strategy=None, n_estimators=82,\n",
       "              n_jobs=None, num_parallel_tree=None, random_state=None, ...)</pre><b>In a Jupyter environment, please rerun this cell to show the HTML representation or trust the notebook. <br />On GitHub, the HTML representation is unable to render, please try loading this page with nbviewer.org.</b></div><div class=\"sk-container\" hidden><div class=\"sk-item\"><div class=\"sk-estimator sk-toggleable\"><input class=\"sk-toggleable__control sk-hidden--visually\" id=\"sk-estimator-id-1\" type=\"checkbox\" checked><label for=\"sk-estimator-id-1\" class=\"sk-toggleable__label sk-toggleable__label-arrow\">XGBClassifier</label><div class=\"sk-toggleable__content\"><pre>XGBClassifier(base_score=None, booster=None, callbacks=None,\n",
       "              colsample_bylevel=None, colsample_bynode=None,\n",
       "              colsample_bytree=0.8922665485053749, device=None,\n",
       "              early_stopping_rounds=None, enable_categorical=False,\n",
       "              eval_metric=&#x27;logloss&#x27;, feature_types=None,\n",
       "              gamma=0.6492196885419822, grow_policy=None, importance_type=None,\n",
       "              interaction_constraints=None, learning_rate=0.04585937135163588,\n",
       "              max_bin=None, max_cat_threshold=None, max_cat_to_onehot=None,\n",
       "              max_delta_step=None, max_depth=3, max_leaves=None,\n",
       "              min_child_weight=9.281372078619311, missing=nan,\n",
       "              monotone_constraints=None, multi_strategy=None, n_estimators=82,\n",
       "              n_jobs=None, num_parallel_tree=None, random_state=None, ...)</pre></div></div></div></div></div>"
      ],
      "text/plain": [
       "XGBClassifier(base_score=None, booster=None, callbacks=None,\n",
       "              colsample_bylevel=None, colsample_bynode=None,\n",
       "              colsample_bytree=0.8922665485053749, device=None,\n",
       "              early_stopping_rounds=None, enable_categorical=False,\n",
       "              eval_metric='logloss', feature_types=None,\n",
       "              gamma=0.6492196885419822, grow_policy=None, importance_type=None,\n",
       "              interaction_constraints=None, learning_rate=0.04585937135163588,\n",
       "              max_bin=None, max_cat_threshold=None, max_cat_to_onehot=None,\n",
       "              max_delta_step=None, max_depth=3, max_leaves=None,\n",
       "              min_child_weight=9.281372078619311, missing=nan,\n",
       "              monotone_constraints=None, multi_strategy=None, n_estimators=82,\n",
       "              n_jobs=None, num_parallel_tree=None, random_state=None, ...)"
      ]
     },
     "execution_count": 4,
     "metadata": {},
     "output_type": "execute_result"
    }
   ],
   "source": [
    "best_result = optimizer.max\n",
    "best_params = best_result['params']\n",
    "best_validation_accuracy = best_result['target']\n",
    "\n",
    "print(f\"Best Validation Accuracy: {best_validation_accuracy:.4f}\")\n",
    "print(\"Best Parameters:\")\n",
    "for param, value in best_params.items():\n",
    "    print(f\"{param}: {value}\")\n",
    "\n",
    "# 使用最佳參數訓練模型\n",
    "final_model = xgb.XGBClassifier(\n",
    "    objective='binary:logistic',\n",
    "    eval_metric='logloss',\n",
    "    max_depth=int(best_params['max_depth']),\n",
    "    learning_rate=best_params['learning_rate'],\n",
    "    n_estimators=int(best_params['n_estimators']),\n",
    "    min_child_weight=best_params['min_child_weight'],\n",
    "    gamma=best_params['gamma'],\n",
    "    subsample=best_params['subsample'],\n",
    "    colsample_bytree=best_params['colsample_bytree']\n",
    ")\n",
    "\n",
    "final_model.fit(X_train, y_train)"
   ]
  },
  {
   "cell_type": "code",
   "execution_count": 5,
   "id": "7a4b0035-f7b9-43f5-8230-260de2d5e1b1",
   "metadata": {},
   "outputs": [
    {
     "name": "stdout",
     "output_type": "stream",
     "text": [
      "模型訓練完成，預測結果範例：\n",
      "   id  home_team_win\n",
      "0   0           True\n",
      "1   1           True\n",
      "2   2           True\n",
      "3   3          False\n",
      "4   4           True\n"
     ]
    }
   ],
   "source": [
    "y_test_pred = final_model.predict(future_X_test)\n",
    "predicted_results = y_test_pred > 0\n",
    "\n",
    "output_df = pd.DataFrame({\n",
    "    'id': range(len(future_X_test)),\n",
    "    'home_team_win': predicted_results\n",
    "})\n",
    "\n",
    "print(\"模型訓練完成，預測結果範例：\")\n",
    "print(output_df.head())\n",
    "output_df.to_csv('xgb_predictions2-4.csv', index=False)"
   ]
  },
  {
   "cell_type": "code",
   "execution_count": null,
   "id": "6322cb7f-7bb6-4077-860a-ec4fafaa88a7",
   "metadata": {},
   "outputs": [],
   "source": []
  },
  {
   "cell_type": "code",
   "execution_count": 9,
   "id": "d1d6bd18-11fb-4e00-98c2-d9102bdd604f",
   "metadata": {},
   "outputs": [
    {
     "name": "stdout",
     "output_type": "stream",
     "text": [
      "模型訓練完成，預測結果範例：\n",
      "   id  home_team_win\n",
      "0   0           True\n",
      "1   1           True\n",
      "2   2           True\n",
      "3   3          False\n",
      "4   4           True\n"
     ]
    }
   ],
   "source": [
    "y_test_pred = final_model.predict(X_test)\n",
    "predicted_results = y_test_pred > 0\n",
    "\n",
    "output_df = pd.DataFrame({\n",
    "    'id': range(len(X_test)),\n",
    "    'home_team_win': predicted_results\n",
    "})\n",
    "\n",
    "print(\"模型訓練完成，預測結果範例：\")\n",
    "print(output_df.head())\n",
    "output_df.to_csv('xgb_predictions2-4.csv', index=False)"
   ]
  },
  {
   "cell_type": "code",
   "execution_count": null,
   "id": "f26b47dc-97bc-4c95-a758-0982f89dcdbb",
   "metadata": {},
   "outputs": [],
   "source": []
  },
  {
   "cell_type": "code",
   "execution_count": 8,
   "id": "bfec001f-13c9-4959-87ee-fb8f142a3678",
   "metadata": {
    "scrolled": true
   },
   "outputs": [
    {
     "name": "stderr",
     "output_type": "stream",
     "text": [
      "[I 2024-12-14 13:05:42,771] A new study created in memory with name: no-name-ea31c9c4-4bc5-4958-8969-9fbe48a8f459\n",
      "[I 2024-12-14 13:06:02,941] Trial 0 finished with value: 0.5229880019268377 and parameters: {'n_estimators': 131, 'max_depth': 6, 'learning_rate': 0.1838494735816237, 'subsample': 0.34680786266869545, 'colsample_bytree': 0.7662293681594029, 'eta': 0.00729708864174367, 'alpha': 0.0011401469435815932, 'lambda': 0.013876239047696703, 'gamma': 0.030484574403201747, 'min_child_weight': 17, 'grow_policy': 'lossguide'}. Best is trial 0 with value: 0.5229880019268377.\n",
      "[I 2024-12-14 13:06:14,032] Trial 1 finished with value: 0.532701177476417 and parameters: {'n_estimators': 66, 'max_depth': 6, 'learning_rate': 0.10300244619191695, 'subsample': 0.21080994051975765, 'colsample_bytree': 0.6636335151752781, 'eta': 0.06702111955263605, 'alpha': 0.005051443481210759, 'lambda': 0.1416883463643405, 'gamma': 0.15997665126503005, 'min_child_weight': 12, 'grow_policy': 'lossguide'}. Best is trial 1 with value: 0.532701177476417.\n",
      "[I 2024-12-14 13:06:19,697] Trial 2 finished with value: 0.5504382917500089 and parameters: {'n_estimators': 71, 'max_depth': 3, 'learning_rate': 0.059715749665819405, 'subsample': 0.6425366733819029, 'colsample_bytree': 0.33768848502439885, 'eta': 0.4513607753619798, 'alpha': 0.21575882313942052, 'lambda': 0.004889306975614493, 'gamma': 0.007951542923533285, 'min_child_weight': 13, 'grow_policy': 'depthwise'}. Best is trial 2 with value: 0.5504382917500089.\n",
      "[I 2024-12-14 13:06:43,418] Trial 3 finished with value: 0.5279581582750337 and parameters: {'n_estimators': 200, 'max_depth': 7, 'learning_rate': 0.19974443910872136, 'subsample': 0.3050602303074511, 'colsample_bytree': 0.7327759723559111, 'eta': 0.009896408265313317, 'alpha': 0.6962127028468584, 'lambda': 0.8108935472991617, 'gamma': 0.12208494507686213, 'min_child_weight': 19, 'grow_policy': 'depthwise'}. Best is trial 2 with value: 0.5504382917500089.\n",
      "[I 2024-12-14 13:06:53,519] Trial 4 finished with value: 0.5172288630063132 and parameters: {'n_estimators': 108, 'max_depth': 8, 'learning_rate': 0.23492479861520985, 'subsample': 0.07067756043458505, 'colsample_bytree': 0.8801031593614985, 'eta': 0.15838732343400413, 'alpha': 0.001154418311092194, 'lambda': 0.007431034586899216, 'gamma': 0.9489274434989488, 'min_child_weight': 13, 'grow_policy': 'depthwise'}. Best is trial 2 with value: 0.5504382917500089.\n",
      "[I 2024-12-14 13:07:07,865] Trial 5 finished with value: 0.5072860620097172 and parameters: {'n_estimators': 79, 'max_depth': 9, 'learning_rate': 0.2570575615674199, 'subsample': 0.17869381114892668, 'colsample_bytree': 0.5607453677792382, 'eta': 0.042982644681503326, 'alpha': 0.33707865887155175, 'lambda': 0.012775837354438702, 'gamma': 0.9120874080599038, 'min_child_weight': 5, 'grow_policy': 'depthwise'}. Best is trial 2 with value: 0.5504382917500089.\n",
      "[I 2024-12-14 13:07:50,275] Trial 6 finished with value: 0.5177908360369672 and parameters: {'n_estimators': 180, 'max_depth': 9, 'learning_rate': 0.18934599019334614, 'subsample': 0.5458540573661385, 'colsample_bytree': 0.8712357797667014, 'eta': 0.579004330902408, 'alpha': 0.04449401354269869, 'lambda': 0.027078116103105107, 'gamma': 0.00739627502554876, 'min_child_weight': 20, 'grow_policy': 'lossguide'}. Best is trial 2 with value: 0.5504382917500089.\n",
      "[I 2024-12-14 13:08:24,121] Trial 7 finished with value: 0.5209537208063368 and parameters: {'n_estimators': 165, 'max_depth': 7, 'learning_rate': 0.2371052653803476, 'subsample': 0.3356115424377144, 'colsample_bytree': 0.9850786823933554, 'eta': 0.1252147136536048, 'alpha': 0.0010501127656043076, 'lambda': 0.003571904004535844, 'gamma': 0.008073481311975704, 'min_child_weight': 11, 'grow_policy': 'lossguide'}. Best is trial 2 with value: 0.5504382917500089.\n",
      "[I 2024-12-14 13:08:40,354] Trial 8 finished with value: 0.5251313854408917 and parameters: {'n_estimators': 116, 'max_depth': 8, 'learning_rate': 0.18315743916310737, 'subsample': 0.09369717012534165, 'colsample_bytree': 0.8903006712977172, 'eta': 0.020054876269128986, 'alpha': 0.6111316319054639, 'lambda': 0.01865230970176169, 'gamma': 0.0020593176591800614, 'min_child_weight': 6, 'grow_policy': 'depthwise'}. Best is trial 2 with value: 0.5504382917500089.\n",
      "[I 2024-12-14 13:09:25,247] Trial 9 finished with value: 0.5122558993450668 and parameters: {'n_estimators': 183, 'max_depth': 9, 'learning_rate': 0.19093337895296228, 'subsample': 0.3795951940995327, 'colsample_bytree': 0.3125401185255234, 'eta': 0.0037367208521564693, 'alpha': 0.007908750847423186, 'lambda': 0.10104123149036744, 'gamma': 0.005727484596236157, 'min_child_weight': 8, 'grow_policy': 'lossguide'}. Best is trial 2 with value: 0.5504382917500089.\n",
      "[I 2024-12-14 13:09:30,193] Trial 10 finished with value: 0.5374448347034935 and parameters: {'n_estimators': 51, 'max_depth': 3, 'learning_rate': 0.010868168288122898, 'subsample': 0.839050329912355, 'colsample_bytree': 0.07938104798454154, 'eta': 0.0010342213737659263, 'alpha': 0.07915827640207386, 'lambda': 0.0010418024907427597, 'gamma': 0.001734841724500261, 'min_child_weight': 16, 'grow_policy': 'depthwise'}. Best is trial 2 with value: 0.5504382917500089.\n",
      "[I 2024-12-14 13:09:35,234] Trial 11 finished with value: 0.5481779581263738 and parameters: {'n_estimators': 54, 'max_depth': 3, 'learning_rate': 0.02680158106335881, 'subsample': 0.8409864106073648, 'colsample_bytree': 0.09640146772339037, 'eta': 0.0013966335122966636, 'alpha': 0.08819365070574696, 'lambda': 0.0010023616199175804, 'gamma': 0.001095608497022904, 'min_child_weight': 15, 'grow_policy': 'depthwise'}. Best is trial 2 with value: 0.5504382917500089.\n",
      "[I 2024-12-14 13:09:41,962] Trial 12 finished with value: 0.5522437130543247 and parameters: {'n_estimators': 85, 'max_depth': 3, 'learning_rate': 0.02319983111142826, 'subsample': 0.882289511962925, 'colsample_bytree': 0.2730567691076503, 'eta': 0.4120104707640015, 'alpha': 0.15444373821622273, 'lambda': 0.0010071217986628495, 'gamma': 0.0011340023529327415, 'min_child_weight': 15, 'grow_policy': 'depthwise'}. Best is trial 12 with value: 0.5522437130543247.\n",
      "[I 2024-12-14 13:09:49,690] Trial 13 finished with value: 0.5380112739140006 and parameters: {'n_estimators': 89, 'max_depth': 4, 'learning_rate': 0.08321434706633993, 'subsample': 0.9974502597735669, 'colsample_bytree': 0.34218453382578373, 'eta': 0.9685627763510616, 'alpha': 0.20862921574445228, 'lambda': 0.0031430443968247517, 'gamma': 0.020219055916441995, 'min_child_weight': 10, 'grow_policy': 'depthwise'}. Best is trial 12 with value: 0.5522437130543247.\n",
      "[I 2024-12-14 13:09:59,571] Trial 14 finished with value: 0.5401584855822145 and parameters: {'n_estimators': 97, 'max_depth': 5, 'learning_rate': 0.07080736778529209, 'subsample': 0.6327002365117627, 'colsample_bytree': 0.3378593671862402, 'eta': 0.2919992681221117, 'alpha': 0.17529871804512898, 'lambda': 0.002845241777746804, 'gamma': 0.0034187417416781988, 'min_child_weight': 14, 'grow_policy': 'depthwise'}. Best is trial 12 with value: 0.5522437130543247.\n",
      "[I 2024-12-14 13:10:09,399] Trial 15 finished with value: 0.5339458379988962 and parameters: {'n_estimators': 131, 'max_depth': 4, 'learning_rate': 0.1199609344602828, 'subsample': 0.7105262180228503, 'colsample_bytree': 0.2098542782639018, 'eta': 0.296500540726303, 'alpha': 0.020278966512228602, 'lambda': 0.0020359976233858957, 'gamma': 0.01174952214108902, 'min_child_weight': 9, 'grow_policy': 'depthwise'}. Best is trial 12 with value: 0.5522437130543247.\n",
      "[I 2024-12-14 13:10:16,897] Trial 16 finished with value: 0.5473880185155056 and parameters: {'n_estimators': 75, 'max_depth': 4, 'learning_rate': 0.04608660283812626, 'subsample': 0.7924960353923568, 'colsample_bytree': 0.46626797826876587, 'eta': 0.42763895576633976, 'alpha': 0.024048376281230542, 'lambda': 0.005966223745595301, 'gamma': 0.057391026358071785, 'min_child_weight': 17, 'grow_policy': 'depthwise'}. Best is trial 12 with value: 0.5522437130543247.\n",
      "[I 2024-12-14 13:10:26,255] Trial 17 finished with value: 0.5417383010013813 and parameters: {'n_estimators': 143, 'max_depth': 3, 'learning_rate': 0.12385329859254633, 'subsample': 0.9744713384567333, 'colsample_bytree': 0.4641621205263822, 'eta': 0.12556630998733576, 'alpha': 0.9837675816360455, 'lambda': 0.0018357119222285124, 'gamma': 0.0010343710738750967, 'min_child_weight': 13, 'grow_policy': 'depthwise'}. Best is trial 12 with value: 0.5522437130543247.\n",
      "[I 2024-12-14 13:10:34,865] Trial 18 finished with value: 0.5175657405723729 and parameters: {'n_estimators': 92, 'max_depth': 5, 'learning_rate': 0.29991091531443176, 'subsample': 0.4937271558929459, 'colsample_bytree': 0.19318643367940103, 'eta': 0.07196439066321465, 'alpha': 0.11104214045374639, 'lambda': 0.07683696396939334, 'gamma': 0.0033934267645670596, 'min_child_weight': 18, 'grow_policy': 'depthwise'}. Best is trial 12 with value: 0.5522437130543247.\n",
      "[I 2024-12-14 13:10:42,409] Trial 19 finished with value: 0.5474995454066935 and parameters: {'n_estimators': 68, 'max_depth': 5, 'learning_rate': 0.051448148226263424, 'subsample': 0.6906269689446537, 'colsample_bytree': 0.257232572139995, 'eta': 0.9671027976945192, 'alpha': 0.3140226873446098, 'lambda': 0.006579718959503381, 'gamma': 0.01611474896101364, 'min_child_weight': 15, 'grow_policy': 'depthwise'}. Best is trial 12 with value: 0.5522437130543247.\n",
      "[I 2024-12-14 13:10:51,452] Trial 20 finished with value: 0.5391412812193946 and parameters: {'n_estimators': 108, 'max_depth': 4, 'learning_rate': 0.13346595377254108, 'subsample': 0.9100522056622848, 'colsample_bytree': 0.5629701293829884, 'eta': 0.023951062476911034, 'alpha': 0.04970389710402047, 'lambda': 0.04531364239213779, 'gamma': 0.003493914948827486, 'min_child_weight': 11, 'grow_policy': 'depthwise'}. Best is trial 12 with value: 0.5522437130543247.\n",
      "[I 2024-12-14 13:10:56,160] Trial 21 finished with value: 0.5480648999735219 and parameters: {'n_estimators': 53, 'max_depth': 3, 'learning_rate': 0.021392191202305524, 'subsample': 0.8135523329939902, 'colsample_bytree': 0.07184726946700898, 'eta': 0.001006709685400428, 'alpha': 0.09665607077059848, 'lambda': 0.0010043140012124193, 'gamma': 0.0010208933752308762, 'min_child_weight': 15, 'grow_policy': 'depthwise'}. Best is trial 12 with value: 0.5522437130543247.\n",
      "[I 2024-12-14 13:11:01,319] Trial 22 finished with value: 0.5494200027435104 and parameters: {'n_estimators': 60, 'max_depth': 3, 'learning_rate': 0.041080264080393024, 'subsample': 0.8821121988071194, 'colsample_bytree': 0.17003692269025908, 'eta': 0.002498817364210103, 'alpha': 0.18739846297707471, 'lambda': 0.0016474320180970867, 'gamma': 0.0020425610782327333, 'min_child_weight': 15, 'grow_policy': 'depthwise'}. Best is trial 12 with value: 0.5522437130543247.\n",
      "[I 2024-12-14 13:11:07,295] Trial 23 finished with value: 0.5490810834952323 and parameters: {'n_estimators': 81, 'max_depth': 3, 'learning_rate': 0.05626087577795423, 'subsample': 0.7383208499063662, 'colsample_bytree': 0.16093332729647655, 'eta': 0.002509993404687899, 'alpha': 0.3494900441154175, 'lambda': 0.0019593928229531825, 'gamma': 0.0020657222499505675, 'min_child_weight': 14, 'grow_policy': 'depthwise'}. Best is trial 12 with value: 0.5522437130543247.\n",
      "[I 2024-12-14 13:11:13,848] Trial 24 finished with value: 0.5502098785518094 and parameters: {'n_estimators': 64, 'max_depth': 4, 'learning_rate': 0.08519744409305557, 'subsample': 0.600894942151655, 'colsample_bytree': 0.41624134227473863, 'eta': 0.22060130029805158, 'alpha': 0.1742757083516731, 'lambda': 0.004392575856508561, 'gamma': 0.004943491693318191, 'min_child_weight': 17, 'grow_policy': 'depthwise'}. Best is trial 12 with value: 0.5522437130543247.\n",
      "[I 2024-12-14 13:11:20,626] Trial 25 finished with value: 0.5442251975487054 and parameters: {'n_estimators': 72, 'max_depth': 4, 'learning_rate': 0.08400966404818638, 'subsample': 0.5806387746561812, 'colsample_bytree': 0.40762217330076517, 'eta': 0.24600489779059906, 'alpha': 0.15046157734383972, 'lambda': 0.005032482912234127, 'gamma': 0.004811189617025593, 'min_child_weight': 17, 'grow_policy': 'depthwise'}. Best is trial 12 with value: 0.5522437130543247.\n",
      "[I 2024-12-14 13:11:32,227] Trial 26 finished with value: 0.5267154756322038 and parameters: {'n_estimators': 99, 'max_depth': 5, 'learning_rate': 0.1558724491923379, 'subsample': 0.6331115327584741, 'colsample_bytree': 0.4104555796119251, 'eta': 0.5390727243145039, 'alpha': 0.012671820428519848, 'lambda': 0.008286878371757182, 'gamma': 0.010768407925057323, 'min_child_weight': 19, 'grow_policy': 'lossguide'}. Best is trial 12 with value: 0.5522437130543247.\n",
      "[I 2024-12-14 13:11:48,657] Trial 27 finished with value: 0.528185167816708 and parameters: {'n_estimators': 86, 'max_depth': 10, 'learning_rate': 0.09423288243966917, 'subsample': 0.4663994423418898, 'colsample_bytree': 0.2751680134581009, 'eta': 0.17854299623547967, 'alpha': 0.3994132096291414, 'lambda': 0.25259893524179144, 'gamma': 0.046271281234999455, 'min_child_weight': 12, 'grow_policy': 'depthwise'}. Best is trial 12 with value: 0.5522437130543247.\n",
      "[I 2024-12-14 13:11:55,252] Trial 28 finished with value: 0.5439986346250164 and parameters: {'n_estimators': 63, 'max_depth': 4, 'learning_rate': 0.06492967348592298, 'subsample': 0.41071694956652327, 'colsample_bytree': 0.3927035107835099, 'eta': 0.06999908836347127, 'alpha': 0.0502524245357077, 'lambda': 0.0040611644302106405, 'gamma': 0.0046040884524853306, 'min_child_weight': 16, 'grow_policy': 'depthwise'}. Best is trial 12 with value: 0.5522437130543247.\n",
      "[I 2024-12-14 13:12:16,601] Trial 29 finished with value: 0.523213480206848 and parameters: {'n_estimators': 133, 'max_depth': 6, 'learning_rate': 0.1494490068718857, 'subsample': 0.6123223030858754, 'colsample_bytree': 0.6107127959570642, 'eta': 0.4110450027416727, 'alpha': 0.2536141457788555, 'lambda': 0.013718657716079713, 'gamma': 0.03300217798660401, 'min_child_weight': 18, 'grow_policy': 'lossguide'}. Best is trial 12 with value: 0.5522437130543247.\n"
     ]
    },
    {
     "name": "stdout",
     "output_type": "stream",
     "text": [
      "Best_param: {'n_estimators': 85, 'max_depth': 3, 'learning_rate': 0.02319983111142826, 'subsample': 0.882289511962925, 'colsample_bytree': 0.2730567691076503, 'eta': 0.4120104707640015, 'alpha': 0.15444373821622273, 'lambda': 0.0010071217986628495, 'gamma': 0.0011340023529327415, 'min_child_weight': 15, 'grow_policy': 'depthwise'}\n",
      "Best_accuracy: 0.5522437130543247\n"
     ]
    },
    {
     "data": {
      "text/html": [
       "<style>#sk-container-id-2 {color: black;background-color: white;}#sk-container-id-2 pre{padding: 0;}#sk-container-id-2 div.sk-toggleable {background-color: white;}#sk-container-id-2 label.sk-toggleable__label {cursor: pointer;display: block;width: 100%;margin-bottom: 0;padding: 0.3em;box-sizing: border-box;text-align: center;}#sk-container-id-2 label.sk-toggleable__label-arrow:before {content: \"▸\";float: left;margin-right: 0.25em;color: #696969;}#sk-container-id-2 label.sk-toggleable__label-arrow:hover:before {color: black;}#sk-container-id-2 div.sk-estimator:hover label.sk-toggleable__label-arrow:before {color: black;}#sk-container-id-2 div.sk-toggleable__content {max-height: 0;max-width: 0;overflow: hidden;text-align: left;background-color: #f0f8ff;}#sk-container-id-2 div.sk-toggleable__content pre {margin: 0.2em;color: black;border-radius: 0.25em;background-color: #f0f8ff;}#sk-container-id-2 input.sk-toggleable__control:checked~div.sk-toggleable__content {max-height: 200px;max-width: 100%;overflow: auto;}#sk-container-id-2 input.sk-toggleable__control:checked~label.sk-toggleable__label-arrow:before {content: \"▾\";}#sk-container-id-2 div.sk-estimator input.sk-toggleable__control:checked~label.sk-toggleable__label {background-color: #d4ebff;}#sk-container-id-2 div.sk-label input.sk-toggleable__control:checked~label.sk-toggleable__label {background-color: #d4ebff;}#sk-container-id-2 input.sk-hidden--visually {border: 0;clip: rect(1px 1px 1px 1px);clip: rect(1px, 1px, 1px, 1px);height: 1px;margin: -1px;overflow: hidden;padding: 0;position: absolute;width: 1px;}#sk-container-id-2 div.sk-estimator {font-family: monospace;background-color: #f0f8ff;border: 1px dotted black;border-radius: 0.25em;box-sizing: border-box;margin-bottom: 0.5em;}#sk-container-id-2 div.sk-estimator:hover {background-color: #d4ebff;}#sk-container-id-2 div.sk-parallel-item::after {content: \"\";width: 100%;border-bottom: 1px solid gray;flex-grow: 1;}#sk-container-id-2 div.sk-label:hover label.sk-toggleable__label {background-color: #d4ebff;}#sk-container-id-2 div.sk-serial::before {content: \"\";position: absolute;border-left: 1px solid gray;box-sizing: border-box;top: 0;bottom: 0;left: 50%;z-index: 0;}#sk-container-id-2 div.sk-serial {display: flex;flex-direction: column;align-items: center;background-color: white;padding-right: 0.2em;padding-left: 0.2em;position: relative;}#sk-container-id-2 div.sk-item {position: relative;z-index: 1;}#sk-container-id-2 div.sk-parallel {display: flex;align-items: stretch;justify-content: center;background-color: white;position: relative;}#sk-container-id-2 div.sk-item::before, #sk-container-id-2 div.sk-parallel-item::before {content: \"\";position: absolute;border-left: 1px solid gray;box-sizing: border-box;top: 0;bottom: 0;left: 50%;z-index: -1;}#sk-container-id-2 div.sk-parallel-item {display: flex;flex-direction: column;z-index: 1;position: relative;background-color: white;}#sk-container-id-2 div.sk-parallel-item:first-child::after {align-self: flex-end;width: 50%;}#sk-container-id-2 div.sk-parallel-item:last-child::after {align-self: flex-start;width: 50%;}#sk-container-id-2 div.sk-parallel-item:only-child::after {width: 0;}#sk-container-id-2 div.sk-dashed-wrapped {border: 1px dashed gray;margin: 0 0.4em 0.5em 0.4em;box-sizing: border-box;padding-bottom: 0.4em;background-color: white;}#sk-container-id-2 div.sk-label label {font-family: monospace;font-weight: bold;display: inline-block;line-height: 1.2em;}#sk-container-id-2 div.sk-label-container {text-align: center;}#sk-container-id-2 div.sk-container {/* jupyter's `normalize.less` sets `[hidden] { display: none; }` but bootstrap.min.css set `[hidden] { display: none !important; }` so we also need the `!important` here to be able to override the default hidden behavior on the sphinx rendered scikit-learn.org. See: https://github.com/scikit-learn/scikit-learn/issues/21755 */display: inline-block !important;position: relative;}#sk-container-id-2 div.sk-text-repr-fallback {display: none;}</style><div id=\"sk-container-id-2\" class=\"sk-top-container\"><div class=\"sk-text-repr-fallback\"><pre>XGBClassifier(alpha=0.15444373821622273, base_score=None, booster=None,\n",
       "              callbacks=None, colsample_bylevel=None, colsample_bynode=None,\n",
       "              colsample_bytree=0.2730567691076503, device=None,\n",
       "              early_stopping_rounds=None, enable_categorical=False,\n",
       "              eta=0.4120104707640015, eval_metric=&#x27;logloss&#x27;, feature_types=None,\n",
       "              gamma=0.0011340023529327415, grow_policy=&#x27;depthwise&#x27;,\n",
       "              importance_type=None, interaction_constraints=None,\n",
       "              lambda=0.0010071217986628495, learning_rate=0.02319983111142826,\n",
       "              max_bin=None, max_cat_threshold=None, max_cat_to_onehot=None,\n",
       "              max_delta_step=None, max_depth=3, max_leaves=None,\n",
       "              min_child_weight=15, missing=nan, monotone_constraints=None,\n",
       "              multi_strategy=None, n_estimators=85, ...)</pre><b>In a Jupyter environment, please rerun this cell to show the HTML representation or trust the notebook. <br />On GitHub, the HTML representation is unable to render, please try loading this page with nbviewer.org.</b></div><div class=\"sk-container\" hidden><div class=\"sk-item\"><div class=\"sk-estimator sk-toggleable\"><input class=\"sk-toggleable__control sk-hidden--visually\" id=\"sk-estimator-id-2\" type=\"checkbox\" checked><label for=\"sk-estimator-id-2\" class=\"sk-toggleable__label sk-toggleable__label-arrow\">XGBClassifier</label><div class=\"sk-toggleable__content\"><pre>XGBClassifier(alpha=0.15444373821622273, base_score=None, booster=None,\n",
       "              callbacks=None, colsample_bylevel=None, colsample_bynode=None,\n",
       "              colsample_bytree=0.2730567691076503, device=None,\n",
       "              early_stopping_rounds=None, enable_categorical=False,\n",
       "              eta=0.4120104707640015, eval_metric=&#x27;logloss&#x27;, feature_types=None,\n",
       "              gamma=0.0011340023529327415, grow_policy=&#x27;depthwise&#x27;,\n",
       "              importance_type=None, interaction_constraints=None,\n",
       "              lambda=0.0010071217986628495, learning_rate=0.02319983111142826,\n",
       "              max_bin=None, max_cat_threshold=None, max_cat_to_onehot=None,\n",
       "              max_delta_step=None, max_depth=3, max_leaves=None,\n",
       "              min_child_weight=15, missing=nan, monotone_constraints=None,\n",
       "              multi_strategy=None, n_estimators=85, ...)</pre></div></div></div></div></div>"
      ],
      "text/plain": [
       "XGBClassifier(alpha=0.15444373821622273, base_score=None, booster=None,\n",
       "              callbacks=None, colsample_bylevel=None, colsample_bynode=None,\n",
       "              colsample_bytree=0.2730567691076503, device=None,\n",
       "              early_stopping_rounds=None, enable_categorical=False,\n",
       "              eta=0.4120104707640015, eval_metric='logloss', feature_types=None,\n",
       "              gamma=0.0011340023529327415, grow_policy='depthwise',\n",
       "              importance_type=None, interaction_constraints=None,\n",
       "              lambda=0.0010071217986628495, learning_rate=0.02319983111142826,\n",
       "              max_bin=None, max_cat_threshold=None, max_cat_to_onehot=None,\n",
       "              max_delta_step=None, max_depth=3, max_leaves=None,\n",
       "              min_child_weight=15, missing=nan, monotone_constraints=None,\n",
       "              multi_strategy=None, n_estimators=85, ...)"
      ]
     },
     "execution_count": 8,
     "metadata": {},
     "output_type": "execute_result"
    }
   ],
   "source": [
    "def objective(trial, X=X_train, y=y_train):\n",
    "\n",
    "    params = {\n",
    "        'n_estimators': trial.suggest_int('n_estimators', 50, 200),\n",
    "        'objective': 'binary:logistic',\n",
    "        'booster': 'gbtree',\n",
    "        'max_depth': trial.suggest_int('max_depth', 3, 10),        'learning_rate': trial.suggest_float('learning_rate', 0.01, 0.3),\n",
    "        'subsample': trial.suggest_float('subsample', 0.05, 1.0),\n",
    "        'colsample_bytree': trial.suggest_float('colsample_bytree', 0.05, 1.0),\n",
    "        'eta': trial.suggest_float('eta', 1e-3, 1.0, log=True),\n",
    "        'alpha': trial.suggest_float('alpha', 1e-3, 1.0, log=True),\n",
    "        'lambda': trial.suggest_float('lambda', 1e-3, 1.0, log=True),\n",
    "        'gamma': trial.suggest_float('gamma', 1e-3, 1.0, log=True),\n",
    "        'min_child_weight': trial.suggest_int('min_child_weight', 5, 20),\n",
    "        'grow_policy': trial.suggest_categorical(\"grow_policy\", [\"depthwise\", \"lossguide\"])\n",
    "    }\n",
    "\n",
    "    model = XGBClassifier(**params, eval_metric='logloss')\n",
    "    score = cross_val_score(model, X_train, y_train, cv=5, scoring='accuracy').mean()\n",
    "    \n",
    "    return score\n",
    "\n",
    "study = optuna.create_study(direction='maximize') \n",
    "study.optimize(objective, n_trials=30) \n",
    "\n",
    "print(\"Best_param:\", study.best_params)\n",
    "print(\"Best_accuracy:\", study.best_value)\n",
    "\n",
    "best_params = study.best_params\n",
    "final_model = XGBClassifier(**best_params, eval_metric='logloss')\n",
    "final_model.fit(X_train, y_train)"
   ]
  },
  {
   "cell_type": "code",
   "execution_count": 25,
   "id": "16631198-0b70-4a0e-bf1f-f6793f3ee114",
   "metadata": {},
   "outputs": [],
   "source": [
    "X_train = train_data2.drop(columns=['id', 'home_team_win', 'season'])\n",
    "y_train = train_data2['home_team_win']\n",
    "future_X_test = future_data2.drop(columns=['id', 'season'])"
   ]
  },
  {
   "cell_type": "code",
   "execution_count": 3,
   "id": "99cc63c7-2a05-4200-bc6f-fc2bdb29b201",
   "metadata": {},
   "outputs": [],
   "source": [
    "train_data = pd.read_csv(r'C:\\Users\\Liao\\Desktop\\learning\\ml\\final\\datasets\\train_data_A.csv')\n",
    "test_data = pd.read_csv(r'C:\\Users\\Liao\\Desktop\\learning\\ml\\final\\datasets\\test_data_A.csv')\n",
    "future_data = pd.read_csv(r'C:\\Users\\Liao\\Desktop\\learning\\ml\\final\\datasets\\future_data_A.csv')\n",
    "X_train = train_data.drop(columns=['id', 'home_team_win','season'])\n",
    "y_train = train_data['home_team_win']\n",
    "X_test = future_data.drop(columns=['id','season'])"
   ]
  },
  {
   "cell_type": "code",
   "execution_count": 4,
   "id": "a59fc601-1162-4275-8ca1-572e43018dd5",
   "metadata": {},
   "outputs": [
    {
     "name": "stderr",
     "output_type": "stream",
     "text": [
      "[I 2024-12-20 11:22:52,579] A new study created in memory with name: no-name-53381090-f35d-4547-88ff-4ba527d938bb\n",
      "[I 2024-12-20 11:23:10,238] Trial 0 finished with value: 0.523990617975166 and parameters: {'learning_rate': 0.2966031807915316, 'subsample': 0.8768665150299515, 'colsample_bytree': 0.9260595366661355, 'eta': 0.00813147863769441, 'alpha': 0.2624032603165584, 'lambda': 0.01774218943241022, 'gamma': 0.1669988342426915, 'min_child_weight': 7, 'grow_policy': 'depthwise'}. Best is trial 0 with value: 0.523990617975166.\n",
      "[I 2024-12-20 11:24:02,160] Trial 1 finished with value: 0.5365509139351071 and parameters: {'learning_rate': 0.11363042190907098, 'subsample': 0.9351822677480746, 'colsample_bytree': 0.5428739787204209, 'eta': 0.3051732384649888, 'alpha': 0.0024384575692800565, 'lambda': 0.04352658648757632, 'gamma': 0.6043014157038241, 'min_child_weight': 6, 'grow_policy': 'lossguide'}. Best is trial 1 with value: 0.5365509139351071.\n",
      "[I 2024-12-20 11:24:21,701] Trial 2 finished with value: 0.5411573068886285 and parameters: {'learning_rate': 0.0378826502471221, 'subsample': 0.5840310199310996, 'colsample_bytree': 0.6570508733999028, 'eta': 0.6681920589285363, 'alpha': 0.05509436169331777, 'lambda': 0.38229757552809673, 'gamma': 0.09071469593982338, 'min_child_weight': 18, 'grow_policy': 'depthwise'}. Best is trial 2 with value: 0.5411573068886285.\n",
      "[I 2024-12-20 11:24:43,091] Trial 3 finished with value: 0.5301358360774449 and parameters: {'learning_rate': 0.21256038864657273, 'subsample': 0.7252539293490883, 'colsample_bytree': 0.9821031427475342, 'eta': 0.017541906349423503, 'alpha': 0.06251002419880763, 'lambda': 0.07713997763317956, 'gamma': 0.002991898301021888, 'min_child_weight': 17, 'grow_policy': 'depthwise'}. Best is trial 2 with value: 0.5411573068886285.\n",
      "[I 2024-12-20 11:25:06,489] Trial 4 finished with value: 0.5312193570798488 and parameters: {'learning_rate': 0.21201663757571126, 'subsample': 0.9386422296198778, 'colsample_bytree': 0.5200653251389691, 'eta': 0.3800297520172513, 'alpha': 0.08516412334699874, 'lambda': 0.0010337697311836379, 'gamma': 0.030355149453982856, 'min_child_weight': 5, 'grow_policy': 'depthwise'}. Best is trial 2 with value: 0.5411573068886285.\n",
      "[I 2024-12-20 11:25:32,428] Trial 5 finished with value: 0.5485671226647498 and parameters: {'learning_rate': 0.015826571320921655, 'subsample': 0.6204854319064526, 'colsample_bytree': 0.6856392999282728, 'eta': 0.20439814510380389, 'alpha': 0.7276029657636279, 'lambda': 0.9490644230582408, 'gamma': 0.03777284811846562, 'min_child_weight': 13, 'grow_policy': 'depthwise'}. Best is trial 5 with value: 0.5485671226647498.\n",
      "[I 2024-12-20 11:26:14,418] Trial 6 finished with value: 0.5250754452114487 and parameters: {'learning_rate': 0.2219193035114233, 'subsample': 0.5880848259828757, 'colsample_bytree': 0.76937345870984, 'eta': 0.0012981669462773134, 'alpha': 0.09933027384208339, 'lambda': 0.11859563455318767, 'gamma': 0.0019977445138630308, 'min_child_weight': 6, 'grow_policy': 'lossguide'}. Best is trial 5 with value: 0.5485671226647498.\n",
      "[I 2024-12-20 11:26:35,505] Trial 7 finished with value: 0.5285990110993143 and parameters: {'learning_rate': 0.11567893654203626, 'subsample': 0.6323555491436713, 'colsample_bytree': 0.8898309156542048, 'eta': 0.29545535222804775, 'alpha': 0.022388164178980766, 'lambda': 0.2949645149116482, 'gamma': 0.023968138386605095, 'min_child_weight': 13, 'grow_policy': 'depthwise'}. Best is trial 5 with value: 0.5485671226647498.\n",
      "[I 2024-12-20 11:27:08,767] Trial 8 finished with value: 0.5309486809282914 and parameters: {'learning_rate': 0.15578815337980279, 'subsample': 0.6929662122210449, 'colsample_bytree': 0.8489763550381901, 'eta': 0.006144526314153449, 'alpha': 0.001874065660854921, 'lambda': 0.0190923487199371, 'gamma': 0.025295997318298513, 'min_child_weight': 15, 'grow_policy': 'lossguide'}. Best is trial 5 with value: 0.5485671226647498.\n",
      "[I 2024-12-20 11:27:44,524] Trial 9 finished with value: 0.5505555371866416 and parameters: {'learning_rate': 0.026310408503795818, 'subsample': 0.7116321952098952, 'colsample_bytree': 0.6262148263369474, 'eta': 0.23934467784411678, 'alpha': 0.026489215459186546, 'lambda': 0.0028289233127931778, 'gamma': 0.22296165947736638, 'min_child_weight': 14, 'grow_policy': 'lossguide'}. Best is trial 9 with value: 0.5505555371866416.\n",
      "[I 2024-12-20 11:28:26,069] Trial 10 finished with value: 0.5409774139916426 and parameters: {'learning_rate': 0.060443557646996, 'subsample': 0.83209464283005, 'colsample_bytree': 0.620825986437335, 'eta': 0.06033621275516618, 'alpha': 0.009239867531911345, 'lambda': 0.001984474823642349, 'gamma': 0.9222204715535653, 'min_child_weight': 10, 'grow_policy': 'lossguide'}. Best is trial 9 with value: 0.5505555371866416.\n",
      "[I 2024-12-20 11:29:09,303] Trial 11 finished with value: 0.5521815534468042 and parameters: {'learning_rate': 0.019851424668295415, 'subsample': 0.5197514244669347, 'colsample_bytree': 0.706132919170428, 'eta': 0.0904994596948165, 'alpha': 0.378762287256901, 'lambda': 0.0056360214297466425, 'gamma': 0.12997124425955559, 'min_child_weight': 11, 'grow_policy': 'lossguide'}. Best is trial 11 with value: 0.5521815534468042.\n",
      "[I 2024-12-20 11:29:44,796] Trial 12 finished with value: 0.5377251773722738 and parameters: {'learning_rate': 0.07788370213778477, 'subsample': 0.5039804921819507, 'colsample_bytree': 0.7601549693031984, 'eta': 0.06584587226897783, 'alpha': 0.01057317621176978, 'lambda': 0.005427990889056488, 'gamma': 0.22622593736572555, 'min_child_weight': 10, 'grow_policy': 'lossguide'}. Best is trial 11 with value: 0.5521815534468042.\n",
      "[I 2024-12-20 11:30:12,491] Trial 13 finished with value: 0.5556140503414373 and parameters: {'learning_rate': 0.021638547561702377, 'subsample': 0.5086510194871081, 'colsample_bytree': 0.5911778667016948, 'eta': 0.07067754231207002, 'alpha': 0.77333147645985, 'lambda': 0.006253859069907904, 'gamma': 0.29484705103798725, 'min_child_weight': 20, 'grow_policy': 'lossguide'}. Best is trial 13 with value: 0.5556140503414373.\n",
      "[I 2024-12-20 11:30:41,919] Trial 14 finished with value: 0.5333879094175789 and parameters: {'learning_rate': 0.08558246533977788, 'subsample': 0.5409442092009424, 'colsample_bytree': 0.571104428421904, 'eta': 0.07792321800233122, 'alpha': 0.9462567449249225, 'lambda': 0.007764964548118819, 'gamma': 0.08587728557076656, 'min_child_weight': 20, 'grow_policy': 'lossguide'}. Best is trial 13 with value: 0.5556140503414373.\n",
      "[I 2024-12-20 11:31:25,652] Trial 15 finished with value: 0.5524515356616136 and parameters: {'learning_rate': 0.011276777142973869, 'subsample': 0.5031921469966799, 'colsample_bytree': 0.7138908006573397, 'eta': 0.029611089907874387, 'alpha': 0.25506331457797626, 'lambda': 0.0085588104608518, 'gamma': 0.00702673496347431, 'min_child_weight': 10, 'grow_policy': 'lossguide'}. Best is trial 13 with value: 0.5556140503414373.\n",
      "[I 2024-12-20 11:32:21,253] Trial 16 finished with value: 0.5371834985106893 and parameters: {'learning_rate': 0.14050963833490945, 'subsample': 0.7976916362400419, 'colsample_bytree': 0.825326846049661, 'eta': 0.02442290195524869, 'alpha': 0.23401849116864656, 'lambda': 0.012096061146089727, 'gamma': 0.005266105290158856, 'min_child_weight': 8, 'grow_policy': 'lossguide'}. Best is trial 13 with value: 0.5556140503414373.\n",
      "[I 2024-12-20 11:32:52,356] Trial 17 finished with value: 0.5455871133496695 and parameters: {'learning_rate': 0.0567111300855554, 'subsample': 0.6480926685236734, 'colsample_bytree': 0.5906642138428398, 'eta': 0.009345157448531953, 'alpha': 0.4259022638892759, 'lambda': 0.03601488197173776, 'gamma': 0.008491516650735451, 'min_child_weight': 20, 'grow_policy': 'lossguide'}. Best is trial 13 with value: 0.5556140503414373.\n",
      "[I 2024-12-20 11:33:18,400] Trial 18 finished with value: 0.5325750645667324 and parameters: {'learning_rate': 0.17659316343091577, 'subsample': 0.5518222909371239, 'colsample_bytree': 0.7152019878006262, 'eta': 0.0022695991994934935, 'alpha': 0.14169121523604444, 'lambda': 0.0027191637281601443, 'gamma': 0.010646885176338368, 'min_child_weight': 16, 'grow_policy': 'lossguide'}. Best is trial 13 with value: 0.5556140503414373.\n",
      "[I 2024-12-20 11:33:58,900] Trial 19 finished with value: 0.5362803602429758 and parameters: {'learning_rate': 0.09037434180638358, 'subsample': 0.7789308399550521, 'colsample_bytree': 0.7897926214364637, 'eta': 0.01667300991689249, 'alpha': 0.5944139291733447, 'lambda': 0.00928505746316526, 'gamma': 0.001415197219887858, 'min_child_weight': 11, 'grow_policy': 'lossguide'}. Best is trial 13 with value: 0.5556140503414373.\n",
      "C:\\Users\\Liao\\anaconda3\\Lib\\site-packages\\xgboost\\core.py:158: UserWarning: [11:33:59] WARNING: C:\\buildkite-agent\\builds\\buildkite-windows-cpu-autoscaling-group-i-0c55ff5f71b100e98-1\\xgboost\\xgboost-ci-windows\\src\\learner.cc:740: \n",
      "Parameters: { \"use_label_encoder\" } are not used.\n",
      "\n",
      "  warnings.warn(smsg, UserWarning)\n"
     ]
    },
    {
     "name": "stdout",
     "output_type": "stream",
     "text": [
      "最佳參數: {'learning_rate': 0.021638547561702377, 'subsample': 0.5086510194871081, 'colsample_bytree': 0.5911778667016948, 'eta': 0.07067754231207002, 'alpha': 0.77333147645985, 'lambda': 0.006253859069907904, 'gamma': 0.29484705103798725, 'min_child_weight': 20, 'grow_policy': 'lossguide'}\n",
      "最佳驗證準確率: 0.5556140503414373\n"
     ]
    },
    {
     "data": {
      "text/html": [
       "<style>#sk-container-id-1 {color: black;background-color: white;}#sk-container-id-1 pre{padding: 0;}#sk-container-id-1 div.sk-toggleable {background-color: white;}#sk-container-id-1 label.sk-toggleable__label {cursor: pointer;display: block;width: 100%;margin-bottom: 0;padding: 0.3em;box-sizing: border-box;text-align: center;}#sk-container-id-1 label.sk-toggleable__label-arrow:before {content: \"▸\";float: left;margin-right: 0.25em;color: #696969;}#sk-container-id-1 label.sk-toggleable__label-arrow:hover:before {color: black;}#sk-container-id-1 div.sk-estimator:hover label.sk-toggleable__label-arrow:before {color: black;}#sk-container-id-1 div.sk-toggleable__content {max-height: 0;max-width: 0;overflow: hidden;text-align: left;background-color: #f0f8ff;}#sk-container-id-1 div.sk-toggleable__content pre {margin: 0.2em;color: black;border-radius: 0.25em;background-color: #f0f8ff;}#sk-container-id-1 input.sk-toggleable__control:checked~div.sk-toggleable__content {max-height: 200px;max-width: 100%;overflow: auto;}#sk-container-id-1 input.sk-toggleable__control:checked~label.sk-toggleable__label-arrow:before {content: \"▾\";}#sk-container-id-1 div.sk-estimator input.sk-toggleable__control:checked~label.sk-toggleable__label {background-color: #d4ebff;}#sk-container-id-1 div.sk-label input.sk-toggleable__control:checked~label.sk-toggleable__label {background-color: #d4ebff;}#sk-container-id-1 input.sk-hidden--visually {border: 0;clip: rect(1px 1px 1px 1px);clip: rect(1px, 1px, 1px, 1px);height: 1px;margin: -1px;overflow: hidden;padding: 0;position: absolute;width: 1px;}#sk-container-id-1 div.sk-estimator {font-family: monospace;background-color: #f0f8ff;border: 1px dotted black;border-radius: 0.25em;box-sizing: border-box;margin-bottom: 0.5em;}#sk-container-id-1 div.sk-estimator:hover {background-color: #d4ebff;}#sk-container-id-1 div.sk-parallel-item::after {content: \"\";width: 100%;border-bottom: 1px solid gray;flex-grow: 1;}#sk-container-id-1 div.sk-label:hover label.sk-toggleable__label {background-color: #d4ebff;}#sk-container-id-1 div.sk-serial::before {content: \"\";position: absolute;border-left: 1px solid gray;box-sizing: border-box;top: 0;bottom: 0;left: 50%;z-index: 0;}#sk-container-id-1 div.sk-serial {display: flex;flex-direction: column;align-items: center;background-color: white;padding-right: 0.2em;padding-left: 0.2em;position: relative;}#sk-container-id-1 div.sk-item {position: relative;z-index: 1;}#sk-container-id-1 div.sk-parallel {display: flex;align-items: stretch;justify-content: center;background-color: white;position: relative;}#sk-container-id-1 div.sk-item::before, #sk-container-id-1 div.sk-parallel-item::before {content: \"\";position: absolute;border-left: 1px solid gray;box-sizing: border-box;top: 0;bottom: 0;left: 50%;z-index: -1;}#sk-container-id-1 div.sk-parallel-item {display: flex;flex-direction: column;z-index: 1;position: relative;background-color: white;}#sk-container-id-1 div.sk-parallel-item:first-child::after {align-self: flex-end;width: 50%;}#sk-container-id-1 div.sk-parallel-item:last-child::after {align-self: flex-start;width: 50%;}#sk-container-id-1 div.sk-parallel-item:only-child::after {width: 0;}#sk-container-id-1 div.sk-dashed-wrapped {border: 1px dashed gray;margin: 0 0.4em 0.5em 0.4em;box-sizing: border-box;padding-bottom: 0.4em;background-color: white;}#sk-container-id-1 div.sk-label label {font-family: monospace;font-weight: bold;display: inline-block;line-height: 1.2em;}#sk-container-id-1 div.sk-label-container {text-align: center;}#sk-container-id-1 div.sk-container {/* jupyter's `normalize.less` sets `[hidden] { display: none; }` but bootstrap.min.css set `[hidden] { display: none !important; }` so we also need the `!important` here to be able to override the default hidden behavior on the sphinx rendered scikit-learn.org. See: https://github.com/scikit-learn/scikit-learn/issues/21755 */display: inline-block !important;position: relative;}#sk-container-id-1 div.sk-text-repr-fallback {display: none;}</style><div id=\"sk-container-id-1\" class=\"sk-top-container\"><div class=\"sk-text-repr-fallback\"><pre>XGBClassifier(alpha=0.77333147645985, base_score=None, booster=None,\n",
       "              callbacks=None, colsample_bylevel=None, colsample_bynode=None,\n",
       "              colsample_bytree=0.5911778667016948, device=None,\n",
       "              early_stopping_rounds=None, enable_categorical=False,\n",
       "              eta=0.07067754231207002, eval_metric=&#x27;logloss&#x27;,\n",
       "              feature_types=None, gamma=0.29484705103798725,\n",
       "              grow_policy=&#x27;lossguide&#x27;, importance_type=None,\n",
       "              interaction_constraints=None, lambda=0.006253859069907904,\n",
       "              learning_rate=0.021638547561702377, max_bin=None,\n",
       "              max_cat_threshold=None, max_cat_to_onehot=None,\n",
       "              max_delta_step=None, max_depth=None, max_leaves=None,\n",
       "              min_child_weight=20, missing=nan, monotone_constraints=None,\n",
       "              multi_strategy=None, n_estimators=None, ...)</pre><b>In a Jupyter environment, please rerun this cell to show the HTML representation or trust the notebook. <br />On GitHub, the HTML representation is unable to render, please try loading this page with nbviewer.org.</b></div><div class=\"sk-container\" hidden><div class=\"sk-item\"><div class=\"sk-estimator sk-toggleable\"><input class=\"sk-toggleable__control sk-hidden--visually\" id=\"sk-estimator-id-1\" type=\"checkbox\" checked><label for=\"sk-estimator-id-1\" class=\"sk-toggleable__label sk-toggleable__label-arrow\">XGBClassifier</label><div class=\"sk-toggleable__content\"><pre>XGBClassifier(alpha=0.77333147645985, base_score=None, booster=None,\n",
       "              callbacks=None, colsample_bylevel=None, colsample_bynode=None,\n",
       "              colsample_bytree=0.5911778667016948, device=None,\n",
       "              early_stopping_rounds=None, enable_categorical=False,\n",
       "              eta=0.07067754231207002, eval_metric=&#x27;logloss&#x27;,\n",
       "              feature_types=None, gamma=0.29484705103798725,\n",
       "              grow_policy=&#x27;lossguide&#x27;, importance_type=None,\n",
       "              interaction_constraints=None, lambda=0.006253859069907904,\n",
       "              learning_rate=0.021638547561702377, max_bin=None,\n",
       "              max_cat_threshold=None, max_cat_to_onehot=None,\n",
       "              max_delta_step=None, max_depth=None, max_leaves=None,\n",
       "              min_child_weight=20, missing=nan, monotone_constraints=None,\n",
       "              multi_strategy=None, n_estimators=None, ...)</pre></div></div></div></div></div>"
      ],
      "text/plain": [
       "XGBClassifier(alpha=0.77333147645985, base_score=None, booster=None,\n",
       "              callbacks=None, colsample_bylevel=None, colsample_bynode=None,\n",
       "              colsample_bytree=0.5911778667016948, device=None,\n",
       "              early_stopping_rounds=None, enable_categorical=False,\n",
       "              eta=0.07067754231207002, eval_metric='logloss',\n",
       "              feature_types=None, gamma=0.29484705103798725,\n",
       "              grow_policy='lossguide', importance_type=None,\n",
       "              interaction_constraints=None, lambda=0.006253859069907904,\n",
       "              learning_rate=0.021638547561702377, max_bin=None,\n",
       "              max_cat_threshold=None, max_cat_to_onehot=None,\n",
       "              max_delta_step=None, max_depth=None, max_leaves=None,\n",
       "              min_child_weight=20, missing=nan, monotone_constraints=None,\n",
       "              multi_strategy=None, n_estimators=None, ...)"
      ]
     },
     "execution_count": 4,
     "metadata": {},
     "output_type": "execute_result"
    }
   ],
   "source": [
    "# 定義目標函數\n",
    "def objective(trial, X=X_train, y=y_train):\n",
    "    params = {\n",
    "        'n_estimators': 190,\n",
    "        'max_depth': 9,\n",
    "        'learning_rate': trial.suggest_float('learning_rate', 0.01, 0.3),\n",
    "        'subsample': trial.suggest_float('subsample', 0.5, 1.0),\n",
    "        'colsample_bytree': trial.suggest_float('colsample_bytree', 0.5, 1.0),\n",
    "        'eta': trial.suggest_float('eta', 1e-3, 1.0, log=True),\n",
    "        'alpha': trial.suggest_float('alpha', 1e-3, 1.0, log=True),\n",
    "        'lambda': trial.suggest_float('lambda', 1e-3, 1.0, log=True),\n",
    "        'gamma': trial.suggest_float('gamma', 1e-3, 1.0, log=True),\n",
    "        'min_child_weight': trial.suggest_int('min_child_weight', 5, 20),\n",
    "        'grow_policy': trial.suggest_categorical(\"grow_policy\", [\"depthwise\", \"lossguide\"])\n",
    "    }\n",
    "    model = XGBClassifier(**params, eval_metric='logloss')\n",
    "    score = cross_val_score(model, X_train, y_train, cv=5, scoring='accuracy').mean()\n",
    "    return score\n",
    "\n",
    "# 創建 Study\n",
    "study = optuna.create_study(direction='maximize')  # 目標是最大化準確率\n",
    "study.optimize(objective, n_trials=20)  # 進行 50 次試驗\n",
    "\n",
    "# 輸出最佳結果\n",
    "print(\"最佳參數:\", study.best_params)\n",
    "print(\"最佳驗證準確率:\", study.best_value)\n",
    "\n",
    "best_params = study.best_params\n",
    "final_model = XGBClassifier(**best_params, use_label_encoder=False, eval_metric='logloss')\n",
    "final_model.fit(X_train, y_train)  # 在整個訓練集上訓練模型"
   ]
  },
  {
   "cell_type": "code",
   "execution_count": 5,
   "id": "a3e84f71-6b47-4026-ae29-4b8fd88b3f24",
   "metadata": {},
   "outputs": [
    {
     "name": "stdout",
     "output_type": "stream",
     "text": [
      "預測結果範例:\n",
      "   id  home_team_win\n",
      "0   0           True\n",
      "1   1           True\n",
      "2   2           True\n",
      "3   3          False\n",
      "4   4           True\n"
     ]
    }
   ],
   "source": [
    "y_test_pred = final_model.predict(X_test)\n",
    "predicted_results = y_test_pred > 0\n",
    "\n",
    "output_df = pd.DataFrame({\n",
    "    'id': range(len(X_test)),\n",
    "    'home_team_win': predicted_results\n",
    "})\n",
    "\n",
    "print(\"預測結果範例:\")\n",
    "print(output_df.head())\n",
    "output_df.to_csv('xgb_predictions2.csv', index=False)"
   ]
  },
  {
   "cell_type": "code",
   "execution_count": 20,
   "id": "53223896-a1e0-42fa-a10d-c4f3de4eddfe",
   "metadata": {},
   "outputs": [],
   "source": [
    "X_train = train_data2.drop(columns=['id', 'home_team_win', 'season'])\n",
    "y_train = train_data2['home_team_win']\n",
    "future_X_test = future_data2.drop(columns=['id', 'season'])"
   ]
  },
  {
   "cell_type": "code",
   "execution_count": 3,
   "id": "2e2c70be-a848-4e50-860f-eea9754f95d0",
   "metadata": {},
   "outputs": [
    {
     "name": "stdout",
     "output_type": "stream",
     "text": [
      "accuracy: 0.5587\n",
      "模型訓練完成，預測結果範例：\n",
      "   id  prediction\n",
      "0   0        True\n",
      "1   1        True\n",
      "2   2        True\n",
      "3   3       False\n",
      "4   4        True\n"
     ]
    }
   ],
   "source": [
    "X_train_slpit, X_val, y_train_slpit, y_val = train_test_split(X_train, y_train, test_size=0.2, random_state=42)\n",
    "params = {\n",
    "    'max_depth': 9,\n",
    "    'n_estimators': 190,\n",
    "    'subsample': 0.7362501984120449,\n",
    "    'eta': 0.012419546340276555,\n",
    "    'alpha': 0.0011688861452798418,\n",
    "    'lambda': 0.0012674126399294001,\n",
    "    'gamma': 8.572539672595768,\n",
    "    'min_child_weight': 8,\n",
    "    'grow_policy': 'depthwise',\n",
    "    'colsample_bytree': 0.567110634660098,\n",
    "}\n",
    "\n",
    "model = XGBClassifier(**params, eval_metric='logloss')\n",
    "model.fit(X_train_slpit, y_train_slpit)\n",
    "y_val_pred = model.predict(X_val)\n",
    "val_accuracy = accuracy_score(y_val, y_val_pred)\n",
    "print(f\"accuracy: {val_accuracy:.4f}\")\n",
    "y_test_pred = model.predict(future_X_test)\n",
    "predicted_results = y_test_pred > 0\n",
    "\n",
    "output_df = pd.DataFrame({\n",
    "    'id': range(len(future_X_test)),\n",
    "    'prediction': predicted_results\n",
    "})\n",
    "\n",
    "print(\"模型訓練完成，預測結果範例：\")\n",
    "print(output_df.head())\n",
    "output_df.to_csv('xgb_predictions2-2.csv', index=False)\n"
   ]
  },
  {
   "cell_type": "code",
   "execution_count": null,
   "id": "ebbebbfc-617c-4a26-b711-7729827f6f79",
   "metadata": {},
   "outputs": [],
   "source": []
  }
 ],
 "metadata": {
  "kernelspec": {
   "display_name": "Python 3 (ipykernel)",
   "language": "python",
   "name": "python3"
  },
  "language_info": {
   "codemirror_mode": {
    "name": "ipython",
    "version": 3
   },
   "file_extension": ".py",
   "mimetype": "text/x-python",
   "name": "python",
   "nbconvert_exporter": "python",
   "pygments_lexer": "ipython3",
   "version": "3.11.7"
  }
 },
 "nbformat": 4,
 "nbformat_minor": 5
}
