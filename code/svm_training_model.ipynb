{
 "cells": [
  {
   "cell_type": "code",
   "execution_count": 1,
   "id": "052af5ac-1c2b-4119-8edb-030533998e96",
   "metadata": {},
   "outputs": [],
   "source": [
    "import optuna\n",
    "from sklearn.svm import SVC\n",
    "from sklearn.model_selection import train_test_split, cross_val_score\n",
    "from sklearn.metrics import accuracy_score\n",
    "import numpy as np\n",
    "import pandas as pd"
   ]
  },
  {
   "cell_type": "code",
   "execution_count": 2,
   "id": "f7925603-f9ee-4668-aefc-f463403dfc1a",
   "metadata": {},
   "outputs": [],
   "source": [
    "train_data2 = pd.read_csv('clean_train_data.csv')\n",
    "test_data2 = pd.read_csv('clean_test_data.csv')\n",
    "future_data2 = pd.read_csv('clean_future_test_data.csv')"
   ]
  },
  {
   "cell_type": "code",
   "execution_count": 11,
   "id": "94642f45-ea6b-4cdc-85a7-60ad139c52a8",
   "metadata": {},
   "outputs": [],
   "source": [
    "X_train = train_data2.drop(columns=['id', 'home_team_win'])\n",
    "y_train = train_data2['home_team_win'].map({1: True, -1: False})\n",
    "X_test = test_data2.drop(columns=['id'])"
   ]
  },
  {
   "cell_type": "code",
   "execution_count": 12,
   "id": "f275a4c5-4413-4805-8aeb-07b07c2fd61c",
   "metadata": {},
   "outputs": [
    {
     "name": "stderr",
     "output_type": "stream",
     "text": [
      "[I 2024-12-13 15:08:09,998] A new study created in memory with name: no-name-027a8f68-bdbb-401f-ad62-38869a1d112e\n",
      "[I 2024-12-13 15:13:57,623] Trial 0 finished with value: 0.5482954260179745 and parameters: {'C': 0.009057515271107262, 'kernel': 'poly', 'gamma': 'auto', 'degree': 2}. Best is trial 0 with value: 0.5482954260179745.\n",
      "[I 2024-12-13 15:15:29,577] Trial 1 finished with value: 0.531038198768793 and parameters: {'C': 6.368331078502351e-09, 'kernel': 'poly', 'gamma': 'scale', 'degree': 5}. Best is trial 0 with value: 0.5482954260179745.\n",
      "[I 2024-12-13 15:27:10,830] Trial 2 finished with value: 0.5465786673230493 and parameters: {'C': 1810736608.445646, 'kernel': 'rbf', 'gamma': 'scale'}. Best is trial 0 with value: 0.5482954260179745.\n",
      "[I 2024-12-13 15:28:30,295] Trial 3 finished with value: 0.531038198768793 and parameters: {'C': 3.292101015379789e-10, 'kernel': 'sigmoid', 'gamma': 'auto'}. Best is trial 0 with value: 0.5482954260179745.\n",
      "[I 2024-12-13 15:33:42,470] Trial 4 finished with value: 0.548206479654795 and parameters: {'C': 56.61071137903849, 'kernel': 'linear', 'gamma': 'scale'}. Best is trial 0 with value: 0.5482954260179745.\n",
      "[I 2024-12-13 15:34:59,675] Trial 5 finished with value: 0.531038198768793 and parameters: {'C': 5.083416513435617e-10, 'kernel': 'linear', 'gamma': 'scale'}. Best is trial 0 with value: 0.5482954260179745.\n",
      "[I 2024-12-13 15:36:13,357] Trial 6 finished with value: 0.531038198768793 and parameters: {'C': 1579.9509078367678, 'kernel': 'sigmoid', 'gamma': 'auto'}. Best is trial 0 with value: 0.5482954260179745.\n",
      "[I 2024-12-13 15:37:25,245] Trial 7 finished with value: 0.531038198768793 and parameters: {'C': 401.1118538296193, 'kernel': 'sigmoid', 'gamma': 'auto'}. Best is trial 0 with value: 0.5482954260179745.\n",
      "[I 2024-12-13 15:39:13,705] Trial 8 finished with value: 0.5561570762567093 and parameters: {'C': 6296.748648379015, 'kernel': 'rbf', 'gamma': 'scale'}. Best is trial 8 with value: 0.5561570762567093.\n",
      "[I 2024-12-13 15:41:07,346] Trial 9 finished with value: 0.531038198768793 and parameters: {'C': 0.014824469511049721, 'kernel': 'rbf', 'gamma': 'auto'}. Best is trial 8 with value: 0.5561570762567093.\n",
      "[I 2024-12-13 15:53:04,144] Trial 10 finished with value: 0.5492890209817899 and parameters: {'C': 379018082.5924839, 'kernel': 'rbf', 'gamma': 'scale'}. Best is trial 8 with value: 0.5561570762567093.\n",
      "[I 2024-12-13 16:03:14,786] Trial 11 finished with value: 0.5515489280514133 and parameters: {'C': 982285905.651141, 'kernel': 'rbf', 'gamma': 'scale'}. Best is trial 8 with value: 0.5561570762567093.\n",
      "[I 2024-12-13 16:08:26,347] Trial 12 finished with value: 0.5527232323083888 and parameters: {'C': 1310621.9063572423, 'kernel': 'rbf', 'gamma': 'scale'}. Best is trial 8 with value: 0.5561570762567093.\n",
      "[I 2024-12-13 16:11:14,551] Trial 13 finished with value: 0.5494708324097852 and parameters: {'C': 250480.25110787898, 'kernel': 'rbf', 'gamma': 'scale'}. Best is trial 8 with value: 0.5561570762567093.\n",
      "[I 2024-12-13 16:14:09,631] Trial 14 finished with value: 0.5520006400546006 and parameters: {'C': 242199.72998622395, 'kernel': 'rbf', 'gamma': 'scale'}. Best is trial 8 with value: 0.5561570762567093.\n",
      "[I 2024-12-13 16:18:33,103] Trial 15 finished with value: 0.5524527194360662 and parameters: {'C': 658308.7029769087, 'kernel': 'rbf', 'gamma': 'scale'}. Best is trial 8 with value: 0.5561570762567093.\n",
      "[I 2024-12-13 16:20:27,762] Trial 16 finished with value: 0.531038198768793 and parameters: {'C': 1.2862387201545124e-05, 'kernel': 'rbf', 'gamma': 'scale'}. Best is trial 8 with value: 0.5561570762567093.\n",
      "[I 2024-12-13 16:22:50,014] Trial 17 finished with value: 0.531038198768793 and parameters: {'C': 0.38291359333608677, 'kernel': 'poly', 'gamma': 'scale', 'degree': 5}. Best is trial 8 with value: 0.5561570762567093.\n",
      "[I 2024-12-13 16:33:19,809] Trial 18 finished with value: 0.5551638078513637 and parameters: {'C': 15174.036036845191, 'kernel': 'linear', 'gamma': 'scale'}. Best is trial 8 with value: 0.5561570762567093.\n",
      "[I 2024-12-13 16:41:34,409] Trial 19 finished with value: 0.5475743849169175 and parameters: {'C': 6.43646544052024, 'kernel': 'linear', 'gamma': 'scale'}. Best is trial 8 with value: 0.5561570762567093.\n"
     ]
    },
    {
     "name": "stdout",
     "output_type": "stream",
     "text": [
      "Best_param: {'C': 6296.748648379015, 'kernel': 'rbf', 'gamma': 'scale'}\n",
      "Best_accuracy: 0.5561570762567093\n"
     ]
    },
    {
     "data": {
      "text/html": [
       "<style>#sk-container-id-1 {color: black;background-color: white;}#sk-container-id-1 pre{padding: 0;}#sk-container-id-1 div.sk-toggleable {background-color: white;}#sk-container-id-1 label.sk-toggleable__label {cursor: pointer;display: block;width: 100%;margin-bottom: 0;padding: 0.3em;box-sizing: border-box;text-align: center;}#sk-container-id-1 label.sk-toggleable__label-arrow:before {content: \"▸\";float: left;margin-right: 0.25em;color: #696969;}#sk-container-id-1 label.sk-toggleable__label-arrow:hover:before {color: black;}#sk-container-id-1 div.sk-estimator:hover label.sk-toggleable__label-arrow:before {color: black;}#sk-container-id-1 div.sk-toggleable__content {max-height: 0;max-width: 0;overflow: hidden;text-align: left;background-color: #f0f8ff;}#sk-container-id-1 div.sk-toggleable__content pre {margin: 0.2em;color: black;border-radius: 0.25em;background-color: #f0f8ff;}#sk-container-id-1 input.sk-toggleable__control:checked~div.sk-toggleable__content {max-height: 200px;max-width: 100%;overflow: auto;}#sk-container-id-1 input.sk-toggleable__control:checked~label.sk-toggleable__label-arrow:before {content: \"▾\";}#sk-container-id-1 div.sk-estimator input.sk-toggleable__control:checked~label.sk-toggleable__label {background-color: #d4ebff;}#sk-container-id-1 div.sk-label input.sk-toggleable__control:checked~label.sk-toggleable__label {background-color: #d4ebff;}#sk-container-id-1 input.sk-hidden--visually {border: 0;clip: rect(1px 1px 1px 1px);clip: rect(1px, 1px, 1px, 1px);height: 1px;margin: -1px;overflow: hidden;padding: 0;position: absolute;width: 1px;}#sk-container-id-1 div.sk-estimator {font-family: monospace;background-color: #f0f8ff;border: 1px dotted black;border-radius: 0.25em;box-sizing: border-box;margin-bottom: 0.5em;}#sk-container-id-1 div.sk-estimator:hover {background-color: #d4ebff;}#sk-container-id-1 div.sk-parallel-item::after {content: \"\";width: 100%;border-bottom: 1px solid gray;flex-grow: 1;}#sk-container-id-1 div.sk-label:hover label.sk-toggleable__label {background-color: #d4ebff;}#sk-container-id-1 div.sk-serial::before {content: \"\";position: absolute;border-left: 1px solid gray;box-sizing: border-box;top: 0;bottom: 0;left: 50%;z-index: 0;}#sk-container-id-1 div.sk-serial {display: flex;flex-direction: column;align-items: center;background-color: white;padding-right: 0.2em;padding-left: 0.2em;position: relative;}#sk-container-id-1 div.sk-item {position: relative;z-index: 1;}#sk-container-id-1 div.sk-parallel {display: flex;align-items: stretch;justify-content: center;background-color: white;position: relative;}#sk-container-id-1 div.sk-item::before, #sk-container-id-1 div.sk-parallel-item::before {content: \"\";position: absolute;border-left: 1px solid gray;box-sizing: border-box;top: 0;bottom: 0;left: 50%;z-index: -1;}#sk-container-id-1 div.sk-parallel-item {display: flex;flex-direction: column;z-index: 1;position: relative;background-color: white;}#sk-container-id-1 div.sk-parallel-item:first-child::after {align-self: flex-end;width: 50%;}#sk-container-id-1 div.sk-parallel-item:last-child::after {align-self: flex-start;width: 50%;}#sk-container-id-1 div.sk-parallel-item:only-child::after {width: 0;}#sk-container-id-1 div.sk-dashed-wrapped {border: 1px dashed gray;margin: 0 0.4em 0.5em 0.4em;box-sizing: border-box;padding-bottom: 0.4em;background-color: white;}#sk-container-id-1 div.sk-label label {font-family: monospace;font-weight: bold;display: inline-block;line-height: 1.2em;}#sk-container-id-1 div.sk-label-container {text-align: center;}#sk-container-id-1 div.sk-container {/* jupyter's `normalize.less` sets `[hidden] { display: none; }` but bootstrap.min.css set `[hidden] { display: none !important; }` so we also need the `!important` here to be able to override the default hidden behavior on the sphinx rendered scikit-learn.org. See: https://github.com/scikit-learn/scikit-learn/issues/21755 */display: inline-block !important;position: relative;}#sk-container-id-1 div.sk-text-repr-fallback {display: none;}</style><div id=\"sk-container-id-1\" class=\"sk-top-container\"><div class=\"sk-text-repr-fallback\"><pre>SVC(C=6296.748648379015, random_state=42)</pre><b>In a Jupyter environment, please rerun this cell to show the HTML representation or trust the notebook. <br />On GitHub, the HTML representation is unable to render, please try loading this page with nbviewer.org.</b></div><div class=\"sk-container\" hidden><div class=\"sk-item\"><div class=\"sk-estimator sk-toggleable\"><input class=\"sk-toggleable__control sk-hidden--visually\" id=\"sk-estimator-id-1\" type=\"checkbox\" checked><label for=\"sk-estimator-id-1\" class=\"sk-toggleable__label sk-toggleable__label-arrow\">SVC</label><div class=\"sk-toggleable__content\"><pre>SVC(C=6296.748648379015, random_state=42)</pre></div></div></div></div></div>"
      ],
      "text/plain": [
       "SVC(C=6296.748648379015, random_state=42)"
      ]
     },
     "execution_count": 12,
     "metadata": {},
     "output_type": "execute_result"
    }
   ],
   "source": [
    "def objective(trial, X, y):\n",
    "    params = {\n",
    "        'C': trial.suggest_float('C', 1e-10, 1e10, log=True),\n",
    "        'kernel': trial.suggest_categorical('kernel', ['linear', 'poly', 'rbf', 'sigmoid']),\n",
    "        'gamma': trial.suggest_categorical('gamma', ['scale', 'auto']),  # RBF、poly、sigmoid核的gamma\n",
    "    }\n",
    "    if params['kernel'] == 'poly':\n",
    "        params['degree'] = trial.suggest_int('degree', 2, 5)  # poly核的次數\n",
    "\n",
    "    model = SVC(**params)\n",
    "    scores = cross_val_score(model, X, y, cv=5, scoring='accuracy')\n",
    "    return np.mean(scores)\n",
    "\n",
    "study = optuna.create_study(direction='maximize')\n",
    "study.optimize(lambda trial: objective(trial, X_train, y_train), n_trials=20)\n",
    "\n",
    "print(\"Best_param:\", study.best_params)\n",
    "print(\"Best_accuracy:\", study.best_value)\n",
    "\n",
    "best_params = study.best_params\n",
    "final_model = SVC(**best_params, random_state=42)\n",
    "final_model.fit(X_train, y_train) "
   ]
  },
  {
   "cell_type": "code",
   "execution_count": 13,
   "id": "e76729ff-d549-4841-af0a-14f9a68c5dd4",
   "metadata": {},
   "outputs": [
    {
     "name": "stdout",
     "output_type": "stream",
     "text": [
      "預測結果範例:\n",
      "   id  home_team_win\n",
      "0   0           True\n",
      "1   1          False\n",
      "2   2           True\n",
      "3   3           True\n",
      "4   4          False\n"
     ]
    }
   ],
   "source": [
    "y_test_pred = final_model.predict(X_test)\n",
    "predicted_results = y_test_pred > 0\n",
    "\n",
    "# 儲存結果\n",
    "output_df = pd.DataFrame({\n",
    "    'id': range(len(X_test)),\n",
    "    'home_team_win': predicted_results\n",
    "})\n",
    "\n",
    "print(\"預測結果範例:\")\n",
    "print(output_df.head())\n",
    "output_df.to_csv('svm_predictions1.csv', index=False)"
   ]
  },
  {
   "cell_type": "code",
   "execution_count": 3,
   "id": "a1555a3e-44ad-46d1-971a-0190ae470201",
   "metadata": {},
   "outputs": [],
   "source": [
    "X_train = train_data2.drop(columns=['id', 'home_team_win', 'season'])\n",
    "y_train = train_data2['home_team_win'].map({1: True, -1: False})\n",
    "future_X_test = future_data2.drop(columns=['id', 'season'])"
   ]
  },
  {
   "cell_type": "code",
   "execution_count": 4,
   "id": "2f59ef61-0876-4127-9880-209ee7a90142",
   "metadata": {},
   "outputs": [
    {
     "name": "stderr",
     "output_type": "stream",
     "text": [
      "[I 2024-12-13 21:33:46,842] A new study created in memory with name: no-name-f0df4153-5e6b-4905-aa1f-e9c36bb0f874\n",
      "[I 2024-12-13 21:34:54,107] Trial 0 finished with value: 0.5128778740717065 and parameters: {'C': 0.41028347096191425, 'kernel': 'sigmoid', 'gamma': 'auto'}. Best is trial 0 with value: 0.5128778740717065.\n",
      "[I 2024-12-13 21:36:49,199] Trial 1 finished with value: 0.531038198768793 and parameters: {'C': 0.007146090948756419, 'kernel': 'rbf', 'gamma': 'auto'}. Best is trial 1 with value: 0.531038198768793.\n",
      "[I 2024-12-13 21:38:12,236] Trial 2 finished with value: 0.5570607043621272 and parameters: {'C': 0.0018602657601176663, 'kernel': 'linear', 'gamma': 'auto'}. Best is trial 2 with value: 0.5570607043621272.\n",
      "[I 2024-12-13 21:40:12,886] Trial 3 finished with value: 0.5538994550963736 and parameters: {'C': 1.1460503650667724, 'kernel': 'rbf', 'gamma': 'auto'}. Best is trial 2 with value: 0.5570607043621272.\n",
      "[I 2024-12-13 21:41:52,487] Trial 4 finished with value: 0.554169274031948 and parameters: {'C': 0.017080476575734065, 'kernel': 'linear', 'gamma': 'auto'}. Best is trial 2 with value: 0.5570607043621272.\n",
      "[I 2024-12-13 21:43:27,124] Trial 5 finished with value: 0.5311282880866164 and parameters: {'C': 0.21273996103050877, 'kernel': 'poly', 'gamma': 'scale', 'degree': 3}. Best is trial 2 with value: 0.5570607043621272.\n",
      "[I 2024-12-13 21:44:16,361] Trial 6 finished with value: 0.5117030799770266 and parameters: {'C': 44.42602541010713, 'kernel': 'sigmoid', 'gamma': 'auto'}. Best is trial 2 with value: 0.5570607043621272.\n",
      "[I 2024-12-13 21:46:15,868] Trial 7 finished with value: 0.5591386367245207 and parameters: {'C': 0.21845195346609728, 'kernel': 'rbf', 'gamma': 'auto'}. Best is trial 7 with value: 0.5591386367245207.\n",
      "[I 2024-12-13 21:51:55,027] Trial 8 finished with value: 0.551729555704956 and parameters: {'C': 0.7782349261155201, 'kernel': 'linear', 'gamma': 'scale'}. Best is trial 7 with value: 0.5591386367245207.\n",
      "[I 2024-12-13 21:53:49,830] Trial 9 finished with value: 0.5424231291567322 and parameters: {'C': 0.27077550065762684, 'kernel': 'poly', 'gamma': 'auto', 'degree': 4}. Best is trial 7 with value: 0.5591386367245207.\n",
      "[I 2024-12-13 21:59:03,066] Trial 10 finished with value: 0.5222737776406232 and parameters: {'C': 751.0673455604627, 'kernel': 'rbf', 'gamma': 'scale'}. Best is trial 7 with value: 0.5591386367245207.\n",
      "[I 2024-12-13 22:00:28,812] Trial 11 finished with value: 0.5588682463116241 and parameters: {'C': 0.001478108570090365, 'kernel': 'linear', 'gamma': 'auto'}. Best is trial 7 with value: 0.5591386367245207.\n",
      "[I 2024-12-13 22:01:53,868] Trial 12 finished with value: 0.559681458540749 and parameters: {'C': 0.00102168767177583, 'kernel': 'linear', 'gamma': 'auto'}. Best is trial 12 with value: 0.559681458540749.\n",
      "[I 2024-12-13 22:06:44,559] Trial 13 finished with value: 0.5235385385937004 and parameters: {'C': 17.10951842414584, 'kernel': 'rbf', 'gamma': 'auto'}. Best is trial 12 with value: 0.559681458540749.\n",
      "[I 2024-12-13 22:08:48,222] Trial 14 finished with value: 0.5522713978457754 and parameters: {'C': 0.06172531443177038, 'kernel': 'linear', 'gamma': 'scale'}. Best is trial 12 with value: 0.559681458540749.\n"
     ]
    },
    {
     "name": "stdout",
     "output_type": "stream",
     "text": [
      "Best_param: {'C': 0.00102168767177583, 'kernel': 'linear', 'gamma': 'auto'}\n",
      "Best_accuracy: 0.559681458540749\n"
     ]
    },
    {
     "data": {
      "text/html": [
       "<style>#sk-container-id-1 {color: black;background-color: white;}#sk-container-id-1 pre{padding: 0;}#sk-container-id-1 div.sk-toggleable {background-color: white;}#sk-container-id-1 label.sk-toggleable__label {cursor: pointer;display: block;width: 100%;margin-bottom: 0;padding: 0.3em;box-sizing: border-box;text-align: center;}#sk-container-id-1 label.sk-toggleable__label-arrow:before {content: \"▸\";float: left;margin-right: 0.25em;color: #696969;}#sk-container-id-1 label.sk-toggleable__label-arrow:hover:before {color: black;}#sk-container-id-1 div.sk-estimator:hover label.sk-toggleable__label-arrow:before {color: black;}#sk-container-id-1 div.sk-toggleable__content {max-height: 0;max-width: 0;overflow: hidden;text-align: left;background-color: #f0f8ff;}#sk-container-id-1 div.sk-toggleable__content pre {margin: 0.2em;color: black;border-radius: 0.25em;background-color: #f0f8ff;}#sk-container-id-1 input.sk-toggleable__control:checked~div.sk-toggleable__content {max-height: 200px;max-width: 100%;overflow: auto;}#sk-container-id-1 input.sk-toggleable__control:checked~label.sk-toggleable__label-arrow:before {content: \"▾\";}#sk-container-id-1 div.sk-estimator input.sk-toggleable__control:checked~label.sk-toggleable__label {background-color: #d4ebff;}#sk-container-id-1 div.sk-label input.sk-toggleable__control:checked~label.sk-toggleable__label {background-color: #d4ebff;}#sk-container-id-1 input.sk-hidden--visually {border: 0;clip: rect(1px 1px 1px 1px);clip: rect(1px, 1px, 1px, 1px);height: 1px;margin: -1px;overflow: hidden;padding: 0;position: absolute;width: 1px;}#sk-container-id-1 div.sk-estimator {font-family: monospace;background-color: #f0f8ff;border: 1px dotted black;border-radius: 0.25em;box-sizing: border-box;margin-bottom: 0.5em;}#sk-container-id-1 div.sk-estimator:hover {background-color: #d4ebff;}#sk-container-id-1 div.sk-parallel-item::after {content: \"\";width: 100%;border-bottom: 1px solid gray;flex-grow: 1;}#sk-container-id-1 div.sk-label:hover label.sk-toggleable__label {background-color: #d4ebff;}#sk-container-id-1 div.sk-serial::before {content: \"\";position: absolute;border-left: 1px solid gray;box-sizing: border-box;top: 0;bottom: 0;left: 50%;z-index: 0;}#sk-container-id-1 div.sk-serial {display: flex;flex-direction: column;align-items: center;background-color: white;padding-right: 0.2em;padding-left: 0.2em;position: relative;}#sk-container-id-1 div.sk-item {position: relative;z-index: 1;}#sk-container-id-1 div.sk-parallel {display: flex;align-items: stretch;justify-content: center;background-color: white;position: relative;}#sk-container-id-1 div.sk-item::before, #sk-container-id-1 div.sk-parallel-item::before {content: \"\";position: absolute;border-left: 1px solid gray;box-sizing: border-box;top: 0;bottom: 0;left: 50%;z-index: -1;}#sk-container-id-1 div.sk-parallel-item {display: flex;flex-direction: column;z-index: 1;position: relative;background-color: white;}#sk-container-id-1 div.sk-parallel-item:first-child::after {align-self: flex-end;width: 50%;}#sk-container-id-1 div.sk-parallel-item:last-child::after {align-self: flex-start;width: 50%;}#sk-container-id-1 div.sk-parallel-item:only-child::after {width: 0;}#sk-container-id-1 div.sk-dashed-wrapped {border: 1px dashed gray;margin: 0 0.4em 0.5em 0.4em;box-sizing: border-box;padding-bottom: 0.4em;background-color: white;}#sk-container-id-1 div.sk-label label {font-family: monospace;font-weight: bold;display: inline-block;line-height: 1.2em;}#sk-container-id-1 div.sk-label-container {text-align: center;}#sk-container-id-1 div.sk-container {/* jupyter's `normalize.less` sets `[hidden] { display: none; }` but bootstrap.min.css set `[hidden] { display: none !important; }` so we also need the `!important` here to be able to override the default hidden behavior on the sphinx rendered scikit-learn.org. See: https://github.com/scikit-learn/scikit-learn/issues/21755 */display: inline-block !important;position: relative;}#sk-container-id-1 div.sk-text-repr-fallback {display: none;}</style><div id=\"sk-container-id-1\" class=\"sk-top-container\"><div class=\"sk-text-repr-fallback\"><pre>SVC(C=0.00102168767177583, gamma=&#x27;auto&#x27;, kernel=&#x27;linear&#x27;, random_state=42)</pre><b>In a Jupyter environment, please rerun this cell to show the HTML representation or trust the notebook. <br />On GitHub, the HTML representation is unable to render, please try loading this page with nbviewer.org.</b></div><div class=\"sk-container\" hidden><div class=\"sk-item\"><div class=\"sk-estimator sk-toggleable\"><input class=\"sk-toggleable__control sk-hidden--visually\" id=\"sk-estimator-id-1\" type=\"checkbox\" checked><label for=\"sk-estimator-id-1\" class=\"sk-toggleable__label sk-toggleable__label-arrow\">SVC</label><div class=\"sk-toggleable__content\"><pre>SVC(C=0.00102168767177583, gamma=&#x27;auto&#x27;, kernel=&#x27;linear&#x27;, random_state=42)</pre></div></div></div></div></div>"
      ],
      "text/plain": [
       "SVC(C=0.00102168767177583, gamma='auto', kernel='linear', random_state=42)"
      ]
     },
     "execution_count": 4,
     "metadata": {},
     "output_type": "execute_result"
    }
   ],
   "source": [
    "def objective(trial, X, y):\n",
    "    # 定義超參數的搜索空間\n",
    "    params = {\n",
    "        'C': trial.suggest_float('C', 1e-3, 1e3, log=True),\n",
    "        'kernel': trial.suggest_categorical('kernel', ['linear', 'poly', 'rbf', 'sigmoid']),\n",
    "        'gamma': trial.suggest_categorical('gamma', ['scale', 'auto']),  # RBF、poly、sigmoid核的gamma\n",
    "    }\n",
    "    if params['kernel'] == 'poly':\n",
    "        params['degree'] = trial.suggest_int('degree', 2, 5)  # poly核的次數\n",
    "\n",
    "    # 初始化 SVM 模型\n",
    "    model = SVC(**params)\n",
    "    \n",
    "    # 使用交叉驗證評估模型性能\n",
    "    scores = cross_val_score(model, X, y, cv=5, scoring='accuracy')\n",
    "    return np.mean(scores)  # 返回平均準確率作為目標\n",
    "\n",
    "# 創建 Study\n",
    "study = optuna.create_study(direction='maximize')  # 目標是最大化準確率\n",
    "study.optimize(lambda trial: objective(trial, X_train, y_train), n_trials=15)  # 進行多次試驗\n",
    "\n",
    "# 輸出最佳結果\n",
    "print(\"Best_param:\", study.best_params)\n",
    "print(\"Best_accuracy:\", study.best_value)\n",
    "\n",
    "# 使用最佳參數重新訓練模型\n",
    "best_params = study.best_params\n",
    "final_model = SVC(**best_params, random_state=42)\n",
    "final_model.fit(X_train, y_train)  # 在整個訓練集上訓練模型"
   ]
  },
  {
   "cell_type": "code",
   "execution_count": 5,
   "id": "47ae8187-d14e-46c5-8371-26b0bf8d3162",
   "metadata": {},
   "outputs": [
    {
     "name": "stdout",
     "output_type": "stream",
     "text": [
      "預測結果範例:\n",
      "   id  home_team_win\n",
      "0   0           True\n",
      "1   1           True\n",
      "2   2           True\n",
      "3   3          False\n",
      "4   4           True\n"
     ]
    }
   ],
   "source": [
    "y_test_pred = final_model.predict(future_X_test)\n",
    "predicted_results = y_test_pred > 0\n",
    "\n",
    "# 儲存結果\n",
    "output_df = pd.DataFrame({\n",
    "    'id': range(len(future_X_test)),\n",
    "    'home_team_win': predicted_results\n",
    "})\n",
    "\n",
    "print(\"預測結果範例:\")\n",
    "print(output_df.head())\n",
    "output_df.to_csv('svm_predictions2.csv', index=False)"
   ]
  },
  {
   "cell_type": "code",
   "execution_count": null,
   "id": "c6c16969-596d-49df-92b4-33858a99899c",
   "metadata": {},
   "outputs": [],
   "source": []
  }
 ],
 "metadata": {
  "kernelspec": {
   "display_name": "Python 3 (ipykernel)",
   "language": "python",
   "name": "python3"
  },
  "language_info": {
   "codemirror_mode": {
    "name": "ipython",
    "version": 3
   },
   "file_extension": ".py",
   "mimetype": "text/x-python",
   "name": "python",
   "nbconvert_exporter": "python",
   "pygments_lexer": "ipython3",
   "version": "3.11.7"
  }
 },
 "nbformat": 4,
 "nbformat_minor": 5
}
