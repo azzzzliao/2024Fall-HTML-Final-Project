{
 "cells": [
  {
   "cell_type": "code",
   "execution_count": 1,
   "id": "a964db33-dcdb-45b8-a1f4-1d4c77238f43",
   "metadata": {},
   "outputs": [],
   "source": [
    "import pandas as pd\n",
    "import numpy as np\n",
    "from sklearn.model_selection import train_test_split\n",
    "from sklearn.metrics import accuracy_score\n",
    "from sklearn.model_selection import cross_val_score\n",
    "from bayes_opt import BayesianOptimization\n",
    "from sklearn.feature_selection import SelectFromModel\n",
    "\n",
    "from sklearn.linear_model import LogisticRegression\n",
    "from sklearn.ensemble import RandomForestClassifier\n",
    "from sklearn.svm import SVC\n",
    "import xgboost as xgb"
   ]
  },
  {
   "cell_type": "code",
   "execution_count": 2,
   "id": "ae5fdefd-ae64-470b-b75f-e08fdfd70e27",
   "metadata": {},
   "outputs": [],
   "source": [
    "train_data = pd.read_csv('clean_train_data.csv')\n",
    "test_data = pd.read_csv('clean_test_data.csv')\n",
    "future_data = pd.read_csv('clean_future_test_data.csv')"
   ]
  },
  {
   "cell_type": "markdown",
   "id": "e353fd1d-79d0-4a81-ae26-cc10f2a7cd1b",
   "metadata": {},
   "source": [
    "### Logistic Regression"
   ]
  },
  {
   "cell_type": "code",
   "execution_count": 3,
   "id": "63ac58e5-da4c-46de-9afe-1eead12e8812",
   "metadata": {},
   "outputs": [],
   "source": [
    "X_train = train_data.drop(columns=['id', 'home_team_win', 'season'])\n",
    "y_train = train_data['home_team_win']\n",
    "X_test = future_data.drop(columns=['id', 'season'])"
   ]
  },
  {
   "cell_type": "code",
   "execution_count": 4,
   "id": "c243ce5f-8bdc-4c5f-8336-7a5178d795e0",
   "metadata": {},
   "outputs": [
    {
     "name": "stdout",
     "output_type": "stream",
     "text": [
      "|   iter    |  target   |     C     |  penalty  |  solver   |\n",
      "-------------------------------------------------------------\n"
     ]
    },
    {
     "name": "stderr",
     "output_type": "stream",
     "text": [
      "C:\\Users\\Liao\\anaconda3\\Lib\\site-packages\\bayes_opt\\target_space.py:344: UserWarning: You're attempting to register an np.ndarray. Currently, the optimizer internally sorts parameters by key and expects any registered array to respect this order. In future versions this behaviour will change and the order as given by the pbounds dictionary will be used. If you wish to retain sorted parameters, please manually sort your pbounds dictionary before constructing the optimizer.\n",
      "  warn(msg, stacklevel=1)\n"
     ]
    },
    {
     "name": "stdout",
     "output_type": "stream",
     "text": [
      "| \u001b[39m1        \u001b[39m | \u001b[39m0.5511   \u001b[39m | \u001b[39m3.752    \u001b[39m | \u001b[39m0.9507   \u001b[39m | \u001b[39m0.732    \u001b[39m |\n",
      "| \u001b[39m2        \u001b[39m | \u001b[39m0.5511   \u001b[39m | \u001b[39m5.991    \u001b[39m | \u001b[39m0.156    \u001b[39m | \u001b[39m0.156    \u001b[39m |\n",
      "| \u001b[35m3        \u001b[39m | \u001b[35m0.5512   \u001b[39m | \u001b[35m0.5903   \u001b[39m | \u001b[35m0.8662   \u001b[39m | \u001b[35m0.6011   \u001b[39m |\n",
      "| \u001b[39m4        \u001b[39m | \u001b[39m0.5509   \u001b[39m | \u001b[39m7.084    \u001b[39m | \u001b[39m0.02058  \u001b[39m | \u001b[39m0.9699   \u001b[39m |\n",
      "| \u001b[39m5        \u001b[39m | \u001b[39m0.551    \u001b[39m | \u001b[39m8.326    \u001b[39m | \u001b[39m0.2123   \u001b[39m | \u001b[39m0.1818   \u001b[39m |\n",
      "| \u001b[39m6        \u001b[39m | \u001b[39m0.5512   \u001b[39m | \u001b[39m0.6466   \u001b[39m | \u001b[39m0.846    \u001b[39m | \u001b[39m0.6075   \u001b[39m |\n",
      "| \u001b[35m7        \u001b[39m | \u001b[35m0.5513   \u001b[39m | \u001b[35m0.1722   \u001b[39m | \u001b[35m0.01481  \u001b[39m | \u001b[35m0.02931  \u001b[39m |\n",
      "| \u001b[35m8        \u001b[39m | \u001b[35m0.5566   \u001b[39m | \u001b[35m0.04734  \u001b[39m | \u001b[35m0.02316  \u001b[39m | \u001b[35m0.9865   \u001b[39m |\n",
      "| \u001b[39m9        \u001b[39m | \u001b[39m0.5504   \u001b[39m | \u001b[39m0.3525   \u001b[39m | \u001b[39m0.01743  \u001b[39m | \u001b[39m0.9355   \u001b[39m |\n",
      "| \u001b[39m10       \u001b[39m | \u001b[39m0.5566   \u001b[39m | \u001b[39m0.05671  \u001b[39m | \u001b[39m0.08623  \u001b[39m | \u001b[39m0.9227   \u001b[39m |\n",
      "| \u001b[35m11       \u001b[39m | \u001b[35m0.5597   \u001b[39m | \u001b[35m0.03257  \u001b[39m | \u001b[35m0.176    \u001b[39m | \u001b[35m0.9837   \u001b[39m |\n",
      "| \u001b[39m12       \u001b[39m | \u001b[39m0.5595   \u001b[39m | \u001b[39m0.03519  \u001b[39m | \u001b[39m0.4139   \u001b[39m | \u001b[39m0.8849   \u001b[39m |\n",
      "| \u001b[39m13       \u001b[39m | \u001b[39m0.5531   \u001b[39m | \u001b[39m0.1383   \u001b[39m | \u001b[39m0.4238   \u001b[39m | \u001b[39m0.9984   \u001b[39m |\n",
      "| \u001b[35m14       \u001b[39m | \u001b[35m0.5601   \u001b[39m | \u001b[35m0.02488  \u001b[39m | \u001b[35m0.3216   \u001b[39m | \u001b[35m0.8526   \u001b[39m |\n",
      "| \u001b[39m15       \u001b[39m | \u001b[39m0.5596   \u001b[39m | \u001b[39m0.01413  \u001b[39m | \u001b[39m0.412    \u001b[39m | \u001b[39m0.7261   \u001b[39m |\n",
      "| \u001b[39m16       \u001b[39m | \u001b[39m0.5514   \u001b[39m | \u001b[39m3.09     \u001b[39m | \u001b[39m0.8611   \u001b[39m | \u001b[39m0.09384  \u001b[39m |\n",
      "| \u001b[39m17       \u001b[39m | \u001b[39m0.5506   \u001b[39m | \u001b[39m0.01244  \u001b[39m | \u001b[39m0.6989   \u001b[39m | \u001b[39m0.7102   \u001b[39m |\n",
      "| \u001b[39m18       \u001b[39m | \u001b[39m0.5509   \u001b[39m | \u001b[39m2.689    \u001b[39m | \u001b[39m0.2553   \u001b[39m | \u001b[39m0.5045   \u001b[39m |\n",
      "| \u001b[39m19       \u001b[39m | \u001b[39m0.551    \u001b[39m | \u001b[39m6.127    \u001b[39m | \u001b[39m0.06151  \u001b[39m | \u001b[39m0.4249   \u001b[39m |\n",
      "| \u001b[39m20       \u001b[39m | \u001b[39m0.5558   \u001b[39m | \u001b[39m0.07146  \u001b[39m | \u001b[39m0.2454   \u001b[39m | \u001b[39m0.5173   \u001b[39m |\n",
      "| \u001b[39m21       \u001b[39m | \u001b[39m0.5581   \u001b[39m | \u001b[39m0.01021  \u001b[39m | \u001b[39m0.3347   \u001b[39m | \u001b[39m0.8587   \u001b[39m |\n",
      "| \u001b[39m22       \u001b[39m | \u001b[39m0.5528   \u001b[39m | \u001b[39m0.1193   \u001b[39m | \u001b[39m0.3672   \u001b[39m | \u001b[39m0.7928   \u001b[39m |\n",
      "| \u001b[39m23       \u001b[39m | \u001b[39m0.5509   \u001b[39m | \u001b[39m3.37     \u001b[39m | \u001b[39m0.05813  \u001b[39m | \u001b[39m0.8785   \u001b[39m |\n",
      "| \u001b[39m24       \u001b[39m | \u001b[39m0.5513   \u001b[39m | \u001b[39m8.804    \u001b[39m | \u001b[39m0.8377   \u001b[39m | \u001b[39m0.3208   \u001b[39m |\n",
      "| \u001b[39m25       \u001b[39m | \u001b[39m0.5544   \u001b[39m | \u001b[39m0.09963  \u001b[39m | \u001b[39m0.1609   \u001b[39m | \u001b[39m0.9676   \u001b[39m |\n",
      "=============================================================\n",
      "Best_param:\n",
      "C: 0.0249\n",
      "penalty: l1\n",
      "solver: saga\n",
      "模型訓練完成！\n"
     ]
    }
   ],
   "source": [
    "def lr_evaluate(C, penalty, solver):\n",
    "    model = LogisticRegression(\n",
    "        C=C,\n",
    "        penalty=penalty,\n",
    "        solver=solver,\n",
    "        max_iter=1000,\n",
    "        random_state=42,\n",
    "    )\n",
    "    scores = cross_val_score(model, X_train, y_train, cv=5, scoring='accuracy')\n",
    "    return scores.mean()\n",
    "pbounds = {\n",
    "    'C': (0.01, 10),  # 正則化強度，C 越小正則化越強\n",
    "    'penalty': (0, 1),  # 0 表示 'l1'，1 表示 'l2'\n",
    "    'solver': (0, 1),  # 0 表示 'liblinear'，1 表示 'saga'\n",
    "}\n",
    "\n",
    "penalty_map = {0: 'l1', 1: 'l2'}\n",
    "solver_map = {0: 'liblinear', 1: 'saga'}\n",
    "\n",
    "def wrapped_lr_evaluate(C, penalty, solver):\n",
    "    penalty = penalty_map[int(round(penalty))]\n",
    "    solver = solver_map[int(round(solver))]\n",
    "    return lr_evaluate(C, penalty, solver)\n",
    "\n",
    "optimizer = BayesianOptimization(\n",
    "    f=wrapped_lr_evaluate,\n",
    "    pbounds=pbounds,\n",
    "    random_state=42,\n",
    ")\n",
    "\n",
    "optimizer.maximize(init_points=5, n_iter=20)\n",
    "\n",
    "best_params = optimizer.max['params']\n",
    "best_penalty = penalty_map[int(round(best_params['penalty']))]\n",
    "best_solver = solver_map[int(round(best_params['solver']))]\n",
    "\n",
    "print(\"Best_param:\")\n",
    "print(f\"C: {best_params['C']:.4f}\")\n",
    "print(f\"penalty: {best_penalty}\")\n",
    "print(f\"solver: {best_solver}\")\n",
    "\n",
    "LR_model = LogisticRegression(\n",
    "    C=best_params['C'],\n",
    "    penalty=best_penalty,\n",
    "    solver=best_solver,\n",
    "    max_iter=1000,\n",
    "    random_state=42,\n",
    ")\n",
    "LR_model.fit(X_train, y_train)\n",
    "print(\"模型訓練完成！\")"
   ]
  },
  {
   "cell_type": "markdown",
   "id": "fa6e0fd6-2b87-4fc1-ba75-047a667831aa",
   "metadata": {},
   "source": [
    "### Random Forest"
   ]
  },
  {
   "cell_type": "code",
   "execution_count": 5,
   "id": "b941c527-dd82-4f55-ab2f-d5676f2d8282",
   "metadata": {},
   "outputs": [
    {
     "name": "stdout",
     "output_type": "stream",
     "text": [
      "|   iter    |  target   | max_depth | max_fe... | min_sa... | min_sa... | n_esti... |\n",
      "-------------------------------------------------------------------------------------\n"
     ]
    },
    {
     "name": "stderr",
     "output_type": "stream",
     "text": [
      "C:\\Users\\Liao\\anaconda3\\Lib\\site-packages\\bayes_opt\\target_space.py:344: UserWarning: You're attempting to register an np.ndarray. Currently, the optimizer internally sorts parameters by key and expects any registered array to respect this order. In future versions this behaviour will change and the order as given by the pbounds dictionary will be used. If you wish to retain sorted parameters, please manually sort your pbounds dictionary before constructing the optimizer.\n",
      "  warn(msg, stacklevel=1)\n"
     ]
    },
    {
     "name": "stdout",
     "output_type": "stream",
     "text": [
      "| \u001b[39m1        \u001b[39m | \u001b[39m0.5427   \u001b[39m | \u001b[39m10.62    \u001b[39m | \u001b[39m0.9556   \u001b[39m | \u001b[39m7.588    \u001b[39m | \u001b[39m12.78    \u001b[39m | \u001b[39m89.0     \u001b[39m |\n",
      "| \u001b[35m2        \u001b[39m | \u001b[35m0.5567   \u001b[39m | \u001b[35m7.34     \u001b[39m | \u001b[35m0.1523   \u001b[39m | \u001b[35m8.796    \u001b[39m | \u001b[35m12.82    \u001b[39m | \u001b[35m227.0    \u001b[39m |\n",
      "| \u001b[39m3        \u001b[39m | \u001b[39m0.554    \u001b[39m | \u001b[39m5.309    \u001b[39m | \u001b[39m0.9729   \u001b[39m | \u001b[39m8.492    \u001b[39m | \u001b[39m5.822    \u001b[39m | \u001b[39m95.46    \u001b[39m |\n",
      "| \u001b[39m4        \u001b[39m | \u001b[39m0.5534   \u001b[39m | \u001b[39m7.751    \u001b[39m | \u001b[39m0.3738   \u001b[39m | \u001b[39m5.723    \u001b[39m | \u001b[39m9.775    \u001b[39m | \u001b[39m122.8    \u001b[39m |\n",
      "| \u001b[39m5        \u001b[39m | \u001b[39m0.5465   \u001b[39m | \u001b[39m14.18    \u001b[39m | \u001b[39m0.2255   \u001b[39m | \u001b[39m3.629    \u001b[39m | \u001b[39m8.595    \u001b[39m | \u001b[39m164.0    \u001b[39m |\n",
      "| \u001b[39m6        \u001b[39m | \u001b[39m0.5526   \u001b[39m | \u001b[39m7.245    \u001b[39m | \u001b[39m0.3037   \u001b[39m | \u001b[39m5.217    \u001b[39m | \u001b[39m9.648    \u001b[39m | \u001b[39m122.2    \u001b[39m |\n",
      "| \u001b[39m7        \u001b[39m | \u001b[39m0.5534   \u001b[39m | \u001b[39m6.409    \u001b[39m | \u001b[39m0.6901   \u001b[39m | \u001b[39m4.507    \u001b[39m | \u001b[39m10.2     \u001b[39m | \u001b[39m224.0    \u001b[39m |\n",
      "| \u001b[39m8        \u001b[39m | \u001b[39m0.55     \u001b[39m | \u001b[39m8.012    \u001b[39m | \u001b[39m0.1987   \u001b[39m | \u001b[39m7.61     \u001b[39m | \u001b[39m12.18    \u001b[39m | \u001b[39m233.1    \u001b[39m |\n",
      "| \u001b[39m9        \u001b[39m | \u001b[39m0.5561   \u001b[39m | \u001b[39m5.365    \u001b[39m | \u001b[39m0.4462   \u001b[39m | \u001b[39m7.943    \u001b[39m | \u001b[39m16.69    \u001b[39m | \u001b[39m225.1    \u001b[39m |\n",
      "| \u001b[39m10       \u001b[39m | \u001b[39m0.5521   \u001b[39m | \u001b[39m12.16    \u001b[39m | \u001b[39m0.8177   \u001b[39m | \u001b[39m9.797    \u001b[39m | \u001b[39m14.55    \u001b[39m | \u001b[39m222.8    \u001b[39m |\n",
      "| \u001b[39m11       \u001b[39m | \u001b[39m0.5548   \u001b[39m | \u001b[39m6.002    \u001b[39m | \u001b[39m0.5329   \u001b[39m | \u001b[39m9.818    \u001b[39m | \u001b[39m11.65    \u001b[39m | \u001b[39m222.0    \u001b[39m |\n",
      "| \u001b[39m12       \u001b[39m | \u001b[39m0.5412   \u001b[39m | \u001b[39m14.81    \u001b[39m | \u001b[39m0.4047   \u001b[39m | \u001b[39m9.542    \u001b[39m | \u001b[39m10.11    \u001b[39m | \u001b[39m125.4    \u001b[39m |\n",
      "| \u001b[35m13       \u001b[39m | \u001b[35m0.557    \u001b[39m | \u001b[35m5.517    \u001b[39m | \u001b[35m0.8198   \u001b[39m | \u001b[35m9.51     \u001b[39m | \u001b[35m6.904    \u001b[39m | \u001b[35m226.2    \u001b[39m |\n",
      "| \u001b[39m14       \u001b[39m | \u001b[39m0.5508   \u001b[39m | \u001b[39m8.385    \u001b[39m | \u001b[39m0.2593   \u001b[39m | \u001b[39m7.939    \u001b[39m | \u001b[39m2.825    \u001b[39m | \u001b[39m222.1    \u001b[39m |\n",
      "| \u001b[39m15       \u001b[39m | \u001b[39m0.5499   \u001b[39m | \u001b[39m9.363    \u001b[39m | \u001b[39m0.4349   \u001b[39m | \u001b[39m9.417    \u001b[39m | \u001b[39m7.321    \u001b[39m | \u001b[39m227.5    \u001b[39m |\n",
      "=====================================================================================\n",
      "Best_param:\n",
      "n_estimators: 226\n",
      "max_depth: 5\n",
      "min_samples_split: 6\n",
      "min_samples_leaf: 9\n",
      "max_features: 0.8198\n",
      "模型訓練完成！\n"
     ]
    }
   ],
   "source": [
    "def rf_evaluate(n_estimators, max_depth, min_samples_split, min_samples_leaf, max_features):\n",
    "    model = RandomForestClassifier(\n",
    "        n_estimators=int(n_estimators),  # 森林中的樹的數量\n",
    "        max_depth=int(max_depth),  # 樹的最大深度\n",
    "        min_samples_split=int(min_samples_split),  # 每個節點的最小分割數量\n",
    "        min_samples_leaf=int(min_samples_leaf),  # 每個葉子節點的最小樣本數量\n",
    "        max_features=max_features,  # 每次分割考慮的最大特徵數量\n",
    "        random_state=42,\n",
    "        n_jobs=-1  # 使用所有 CPU 核心加速計算\n",
    "    )\n",
    "    scores = cross_val_score(model, X_train, y_train, cv=5, scoring='accuracy')\n",
    "    return scores.mean()\n",
    "\n",
    "pbounds = {\n",
    "    'n_estimators': (50, 300),  # 樹的數量範圍\n",
    "    'max_depth': (5, 20),  # 樹的最大深度範圍\n",
    "    'min_samples_split': (2, 20),  # 最小分割樣本數量\n",
    "    'min_samples_leaf': (1, 10),  # 最小葉子樣本數量\n",
    "    'max_features': (0.1, 1.0),  # 最大特徵數比例\n",
    "}\n",
    "\n",
    "optimizer = BayesianOptimization(\n",
    "    f=rf_evaluate,\n",
    "    pbounds=pbounds,\n",
    "    random_state=42,\n",
    ")\n",
    "\n",
    "optimizer.maximize(init_points=5, n_iter=10)\n",
    "\n",
    "best_params = optimizer.max['params']\n",
    "print(\"Best_param:\")\n",
    "print(f\"n_estimators: {int(best_params['n_estimators'])}\")\n",
    "print(f\"max_depth: {int(best_params['max_depth'])}\")\n",
    "print(f\"min_samples_split: {int(best_params['min_samples_split'])}\")\n",
    "print(f\"min_samples_leaf: {int(best_params['min_samples_leaf'])}\")\n",
    "print(f\"max_features: {best_params['max_features']:.4f}\")\n",
    "\n",
    "RF_model = RandomForestClassifier(\n",
    "    n_estimators=int(best_params['n_estimators']),\n",
    "    max_depth=int(best_params['max_depth']),\n",
    "    min_samples_split=int(best_params['min_samples_split']),\n",
    "    min_samples_leaf=int(best_params['min_samples_leaf']),\n",
    "    max_features=best_params['max_features'],\n",
    "    random_state=42,\n",
    "    n_jobs=-1,\n",
    ")\n",
    "RF_model.fit(X_train, y_train)\n",
    "print(\"模型訓練完成！\")"
   ]
  },
  {
   "cell_type": "markdown",
   "id": "5333be57-9122-44ac-bef5-f901110704b3",
   "metadata": {},
   "source": [
    "### Support Vector Machine"
   ]
  },
  {
   "cell_type": "code",
   "execution_count": 12,
   "id": "0ad93f80-f388-4ce7-81d3-53aefe71afd5",
   "metadata": {},
   "outputs": [
    {
     "name": "stdout",
     "output_type": "stream",
     "text": [
      "模型訓練完成！\n"
     ]
    }
   ],
   "source": [
    "from sklearn.preprocessing import StandardScaler\n",
    "best_params = {'C': 6296.748648379015, 'kernel': 'rbf', 'gamma': 'scale'}\n",
    "SVM_model = SVC(**best_params, probability=True)\n",
    "SVM_model.fit(X_train, y_train)\n",
    "scaler = StandardScaler()\n",
    "X_train_scaled = scaler.fit_transform(X_train)\n",
    "X_test_scaled = scaler.transform(X_test)\n",
    "SVM_model.fit(X_train_scaled, y_train)\n",
    "print(\"模型訓練完成！\")"
   ]
  },
  {
   "cell_type": "markdown",
   "id": "750788f3-b7f3-4a85-929b-d5b422434a19",
   "metadata": {},
   "source": [
    "### XGBoost..\n"
   ]
  },
  {
   "cell_type": "code",
   "execution_count": 9,
   "id": "bf12170a-5c29-4649-a693-8b98910a0b12",
   "metadata": {},
   "outputs": [
    {
     "name": "stdout",
     "output_type": "stream",
     "text": [
      "|   iter    |  target   |   alpha   | colsam... |   gamma   | learni... | max_depth | min_ch... | n_esti... | reg_la... | subsample |\n",
      "-------------------------------------------------------------------------------------------------------------------------------------\n"
     ]
    },
    {
     "name": "stderr",
     "output_type": "stream",
     "text": [
      "C:\\Users\\Liao\\anaconda3\\Lib\\site-packages\\bayes_opt\\target_space.py:344: UserWarning: You're attempting to register an np.ndarray. Currently, the optimizer internally sorts parameters by key and expects any registered array to respect this order. In future versions this behaviour will change and the order as given by the pbounds dictionary will be used. If you wish to retain sorted parameters, please manually sort your pbounds dictionary before constructing the optimizer.\n",
      "  warn(msg, stacklevel=1)\n"
     ]
    },
    {
     "name": "stdout",
     "output_type": "stream",
     "text": [
      "| \u001b[39m1        \u001b[39m | \u001b[39m0.5417   \u001b[39m | \u001b[39m0.07497  \u001b[39m | \u001b[39m0.9655   \u001b[39m | \u001b[39m3.66     \u001b[39m | \u001b[39m0.1237   \u001b[39m | \u001b[39m7.624    \u001b[39m | \u001b[39m2.404    \u001b[39m | \u001b[39m55.81    \u001b[39m | \u001b[39m0.1732   \u001b[39m | \u001b[39m0.8803   \u001b[39m |\n",
      "| \u001b[39m2        \u001b[39m | \u001b[39m0.5384   \u001b[39m | \u001b[39m0.1416   \u001b[39m | \u001b[39m0.3144   \u001b[39m | \u001b[39m4.85     \u001b[39m | \u001b[39m0.1682   \u001b[39m | \u001b[39m7.849    \u001b[39m | \u001b[39m2.636    \u001b[39m | \u001b[39m68.34    \u001b[39m | \u001b[39m0.06092  \u001b[39m | \u001b[39m0.8574   \u001b[39m |\n",
      "| \u001b[35m3        \u001b[39m | \u001b[35m0.5435   \u001b[39m | \u001b[35m0.08645  \u001b[39m | \u001b[35m0.5039   \u001b[39m | \u001b[35m3.059    \u001b[39m | \u001b[35m0.0365   \u001b[39m | \u001b[35m8.169    \u001b[39m | \u001b[35m4.297    \u001b[39m | \u001b[35m95.61    \u001b[39m | \u001b[35m0.1571   \u001b[39m | \u001b[35m0.7599   \u001b[39m |\n",
      "| \u001b[39m4        \u001b[39m | \u001b[39m0.5363   \u001b[39m | \u001b[39m0.1029   \u001b[39m | \u001b[39m0.7147   \u001b[39m | \u001b[39m0.2323   \u001b[39m | \u001b[39m0.1254   \u001b[39m | \u001b[39m7.682    \u001b[39m | \u001b[39m1.585    \u001b[39m | \u001b[39m144.9    \u001b[39m | \u001b[39m0.1931   \u001b[39m | \u001b[39m0.9425   \u001b[39m |\n",
      "| \u001b[35m5        \u001b[39m | \u001b[35m0.5467   \u001b[39m | \u001b[35m0.06099  \u001b[39m | \u001b[35m0.3684   \u001b[39m | \u001b[35m3.421    \u001b[39m | \u001b[35m0.09363  \u001b[39m | \u001b[35m7.488    \u001b[39m | \u001b[35m5.457    \u001b[39m | \u001b[35m53.44    \u001b[39m | \u001b[35m0.1819   \u001b[39m | \u001b[35m0.7776   \u001b[39m |\n",
      "| \u001b[39m6        \u001b[39m | \u001b[39m0.5358   \u001b[39m | \u001b[39m0.1069   \u001b[39m | \u001b[39m0.4825   \u001b[39m | \u001b[39m2.315    \u001b[39m | \u001b[39m0.1828   \u001b[39m | \u001b[39m8.706    \u001b[39m | \u001b[39m6.669    \u001b[39m | \u001b[39m53.54    \u001b[39m | \u001b[39m0.01565  \u001b[39m | \u001b[39m0.7244   \u001b[39m |\n",
      "| \u001b[35m7        \u001b[39m | \u001b[35m0.5502   \u001b[39m | \u001b[35m0.1522   \u001b[39m | \u001b[35m0.809    \u001b[39m | \u001b[35m3.142    \u001b[39m | \u001b[35m0.02433  \u001b[39m | \u001b[35m8.131    \u001b[39m | \u001b[35m4.851    \u001b[39m | \u001b[35m52.34    \u001b[39m | \u001b[35m0.1934   \u001b[39m | \u001b[35m0.7631   \u001b[39m |\n",
      "| \u001b[39m8        \u001b[39m | \u001b[39m0.5324   \u001b[39m | \u001b[39m0.1392   \u001b[39m | \u001b[39m0.5884   \u001b[39m | \u001b[39m2.935    \u001b[39m | \u001b[39m0.1919   \u001b[39m | \u001b[39m7.44     \u001b[39m | \u001b[39m4.802    \u001b[39m | \u001b[39m52.27    \u001b[39m | \u001b[39m0.0002825\u001b[39m | \u001b[39m0.8332   \u001b[39m |\n",
      "| \u001b[39m9        \u001b[39m | \u001b[39m0.545    \u001b[39m | \u001b[39m0.02529  \u001b[39m | \u001b[39m0.4711   \u001b[39m | \u001b[39m3.804    \u001b[39m | \u001b[39m0.01521  \u001b[39m | \u001b[39m10.32    \u001b[39m | \u001b[39m2.552    \u001b[39m | \u001b[39m136.3    \u001b[39m | \u001b[39m0.0333   \u001b[39m | \u001b[39m0.8036   \u001b[39m |\n",
      "| \u001b[39m10       \u001b[39m | \u001b[39m0.5382   \u001b[39m | \u001b[39m0.1931   \u001b[39m | \u001b[39m0.7504   \u001b[39m | \u001b[39m1.607    \u001b[39m | \u001b[39m0.1544   \u001b[39m | \u001b[39m7.486    \u001b[39m | \u001b[39m4.607    \u001b[39m | \u001b[39m144.2    \u001b[39m | \u001b[39m0.04408  \u001b[39m | \u001b[39m0.802    \u001b[39m |\n",
      "| \u001b[39m11       \u001b[39m | \u001b[39m0.5443   \u001b[39m | \u001b[39m0.1778   \u001b[39m | \u001b[39m0.5918   \u001b[39m | \u001b[39m0.08141  \u001b[39m | \u001b[39m0.02569  \u001b[39m | \u001b[39m10.63    \u001b[39m | \u001b[39m6.05     \u001b[39m | \u001b[39m125.5    \u001b[39m | \u001b[39m0.1958   \u001b[39m | \u001b[39m0.7069   \u001b[39m |\n",
      "| \u001b[39m12       \u001b[39m | \u001b[39m0.5344   \u001b[39m | \u001b[39m0.02893  \u001b[39m | \u001b[39m0.4856   \u001b[39m | \u001b[39m4.865    \u001b[39m | \u001b[39m0.1938   \u001b[39m | \u001b[39m9.521    \u001b[39m | \u001b[39m1.971    \u001b[39m | \u001b[39m136.9    \u001b[39m | \u001b[39m0.002497 \u001b[39m | \u001b[39m0.9756   \u001b[39m |\n",
      "| \u001b[39m13       \u001b[39m | \u001b[39m0.5344   \u001b[39m | \u001b[39m0.08722  \u001b[39m | \u001b[39m0.9907   \u001b[39m | \u001b[39m0.05215  \u001b[39m | \u001b[39m0.1569   \u001b[39m | \u001b[39m10.8     \u001b[39m | \u001b[39m7.929    \u001b[39m | \u001b[39m136.2    \u001b[39m | \u001b[39m0.1349   \u001b[39m | \u001b[39m0.7226   \u001b[39m |\n",
      "| \u001b[39m14       \u001b[39m | \u001b[39m0.5446   \u001b[39m | \u001b[39m0.09629  \u001b[39m | \u001b[39m0.9393   \u001b[39m | \u001b[39m3.052    \u001b[39m | \u001b[39m0.06665  \u001b[39m | \u001b[39m10.32    \u001b[39m | \u001b[39m6.96     \u001b[39m | \u001b[39m128.8    \u001b[39m | \u001b[39m0.09608  \u001b[39m | \u001b[39m0.8517   \u001b[39m |\n",
      "| \u001b[39m15       \u001b[39m | \u001b[39m0.5321   \u001b[39m | \u001b[39m0.04192  \u001b[39m | \u001b[39m0.852    \u001b[39m | \u001b[39m3.795    \u001b[39m | \u001b[39m0.1604   \u001b[39m | \u001b[39m10.47    \u001b[39m | \u001b[39m6.783    \u001b[39m | \u001b[39m81.38    \u001b[39m | \u001b[39m0.1514   \u001b[39m | \u001b[39m0.8781   \u001b[39m |\n",
      "| \u001b[39m16       \u001b[39m | \u001b[39m0.5459   \u001b[39m | \u001b[39m0.07116  \u001b[39m | \u001b[39m0.4705   \u001b[39m | \u001b[39m4.799    \u001b[39m | \u001b[39m0.05865  \u001b[39m | \u001b[39m7.218    \u001b[39m | \u001b[39m4.348    \u001b[39m | \u001b[39m65.83    \u001b[39m | \u001b[39m0.07874  \u001b[39m | \u001b[39m0.8028   \u001b[39m |\n",
      "| \u001b[39m17       \u001b[39m | \u001b[39m0.5412   \u001b[39m | \u001b[39m0.1469   \u001b[39m | \u001b[39m0.6317   \u001b[39m | \u001b[39m1.038    \u001b[39m | \u001b[39m0.07241  \u001b[39m | \u001b[39m9.685    \u001b[39m | \u001b[39m3.257    \u001b[39m | \u001b[39m85.93    \u001b[39m | \u001b[39m0.0709   \u001b[39m | \u001b[39m0.7746   \u001b[39m |\n",
      "| \u001b[39m18       \u001b[39m | \u001b[39m0.5358   \u001b[39m | \u001b[39m0.004766 \u001b[39m | \u001b[39m0.7972   \u001b[39m | \u001b[39m1.712    \u001b[39m | \u001b[39m0.1216   \u001b[39m | \u001b[39m8.532    \u001b[39m | \u001b[39m3.997    \u001b[39m | \u001b[39m137.0    \u001b[39m | \u001b[39m0.1389   \u001b[39m | \u001b[39m0.8937   \u001b[39m |\n",
      "| \u001b[39m19       \u001b[39m | \u001b[39m0.5448   \u001b[39m | \u001b[39m0.1784   \u001b[39m | \u001b[39m0.9748   \u001b[39m | \u001b[39m1.896    \u001b[39m | \u001b[39m0.0448   \u001b[39m | \u001b[39m7.015    \u001b[39m | \u001b[39m1.643    \u001b[39m | \u001b[39m144.2    \u001b[39m | \u001b[39m0.1012   \u001b[39m | \u001b[39m0.8599   \u001b[39m |\n",
      "| \u001b[39m20       \u001b[39m | \u001b[39m0.5457   \u001b[39m | \u001b[39m0.1544   \u001b[39m | \u001b[39m0.903    \u001b[39m | \u001b[39m1.846    \u001b[39m | \u001b[39m0.0901   \u001b[39m | \u001b[39m10.59    \u001b[39m | \u001b[39m8.206    \u001b[39m | \u001b[39m142.5    \u001b[39m | \u001b[39m0.1451   \u001b[39m | \u001b[39m0.9011   \u001b[39m |\n",
      "| \u001b[39m21       \u001b[39m | \u001b[39m0.5489   \u001b[39m | \u001b[39m0.09251  \u001b[39m | \u001b[39m0.5743   \u001b[39m | \u001b[39m0.2664   \u001b[39m | \u001b[39m0.02337  \u001b[39m | \u001b[39m9.767    \u001b[39m | \u001b[39m6.582    \u001b[39m | \u001b[39m54.65    \u001b[39m | \u001b[39m0.08325  \u001b[39m | \u001b[39m0.9729   \u001b[39m |\n",
      "| \u001b[39m22       \u001b[39m | \u001b[39m0.5378   \u001b[39m | \u001b[39m0.09686  \u001b[39m | \u001b[39m0.3458   \u001b[39m | \u001b[39m2.096    \u001b[39m | \u001b[39m0.1144   \u001b[39m | \u001b[39m8.188    \u001b[39m | \u001b[39m6.628    \u001b[39m | \u001b[39m135.6    \u001b[39m | \u001b[39m0.02629  \u001b[39m | \u001b[39m0.836    \u001b[39m |\n",
      "| \u001b[39m23       \u001b[39m | \u001b[39m0.5448   \u001b[39m | \u001b[39m0.1298   \u001b[39m | \u001b[39m0.8579   \u001b[39m | \u001b[39m1.235    \u001b[39m | \u001b[39m0.07458  \u001b[39m | \u001b[39m8.206    \u001b[39m | \u001b[39m3.876    \u001b[39m | \u001b[39m77.82    \u001b[39m | \u001b[39m0.08538  \u001b[39m | \u001b[39m0.8801   \u001b[39m |\n",
      "| \u001b[39m24       \u001b[39m | \u001b[39m0.5347   \u001b[39m | \u001b[39m0.07888  \u001b[39m | \u001b[39m0.3148   \u001b[39m | \u001b[39m3.79     \u001b[39m | \u001b[39m0.1548   \u001b[39m | \u001b[39m10.68    \u001b[39m | \u001b[39m6.136    \u001b[39m | \u001b[39m76.38    \u001b[39m | \u001b[39m0.0289   \u001b[39m | \u001b[39m0.8667   \u001b[39m |\n",
      "| \u001b[39m25       \u001b[39m | \u001b[39m0.5384   \u001b[39m | \u001b[39m0.06531  \u001b[39m | \u001b[39m0.9482   \u001b[39m | \u001b[39m4.618    \u001b[39m | \u001b[39m0.1395   \u001b[39m | \u001b[39m7.203    \u001b[39m | \u001b[39m9.459    \u001b[39m | \u001b[39m126.8    \u001b[39m | \u001b[39m0.1934   \u001b[39m | \u001b[39m0.8765   \u001b[39m |\n",
      "=====================================================================================================================================\n",
      "Best_param:\n",
      "max_depth: 8\n",
      "learning_rate: 0.0243\n",
      "n_estimators: 52\n",
      "min_child_weight: 4.8509\n",
      "gamma: 3.1422\n",
      "subsample: 0.7631\n",
      "colsample_bytree: 0.8090\n",
      "alpha: 0.1522\n",
      "lambda: 0.1934\n",
      "XGBoost模型训练完成！\n"
     ]
    }
   ],
   "source": [
    "def xgb_evaluate(max_depth, learning_rate, n_estimators, min_child_weight, gamma, subsample, colsample_bytree, alpha, reg_lambda):\n",
    "    params = {\n",
    "        'objective': 'binary:logistic',  # 二分类问题\n",
    "        'eval_metric': 'logloss',  # 评估标准为logloss\n",
    "        'max_depth': int(max_depth),\n",
    "        'learning_rate': learning_rate,\n",
    "        'n_estimators': int(n_estimators),\n",
    "        'min_child_weight': min_child_weight,\n",
    "        'gamma': gamma,\n",
    "        'subsample': subsample,\n",
    "        'colsample_bytree': colsample_bytree,\n",
    "        'alpha': alpha, \n",
    "        'reg_lambda': reg_lambda\n",
    "    }\n",
    "    \n",
    "    model = xgb.XGBClassifier(**params)\n",
    "    scores = cross_val_score(model, X_train, y_train, cv=5, scoring='accuracy')\n",
    "    return scores.mean()\n",
    "\n",
    "pbounds = {\n",
    "    'max_depth': (7, 11),  # 设定max_depth范围\n",
    "    'n_estimators': (50, 150),  # n_estimators范围\n",
    "    'subsample': (0.7, 1),  # 样本采样比例范围\n",
    "    'learning_rate': (0.01, 0.2),  # 学习率范围\n",
    "    'alpha': (0.0001, 0.2),  # L1正则化系数范围\n",
    "    'reg_lambda': (0.0001, 0.2),  # L2正则化系数范围\n",
    "    'gamma': (0, 5),  # gamma范围\n",
    "    'min_child_weight': (1, 10),  # 子节点的最小样本权重\n",
    "    'colsample_bytree': (0.3, 1)  # 每棵树的特征采样比例范围\n",
    "}\n",
    "\n",
    "optimizer = BayesianOptimization(\n",
    "    f=xgb_evaluate,  # 目标函数为xgb_evaluate\n",
    "    pbounds=pbounds,  # 超参数范围\n",
    "    random_state=42,\n",
    ")\n",
    "\n",
    "optimizer.maximize(init_points=5, n_iter=20)\n",
    "\n",
    "# 获取最佳参数\n",
    "best_params = optimizer.max['params']\n",
    "print(\"Best_param:\")\n",
    "print(f\"max_depth: {int(best_params['max_depth'])}\")\n",
    "print(f\"learning_rate: {best_params['learning_rate']:.4f}\")\n",
    "print(f\"n_estimators: {int(best_params['n_estimators'])}\")\n",
    "print(f\"min_child_weight: {best_params['min_child_weight']:.4f}\")\n",
    "print(f\"gamma: {best_params['gamma']:.4f}\")\n",
    "print(f\"subsample: {best_params['subsample']:.4f}\")\n",
    "print(f\"colsample_bytree: {best_params['colsample_bytree']:.4f}\")\n",
    "print(f\"alpha: {best_params['alpha']:.4f}\")\n",
    "print(f\"lambda: {best_params['reg_lambda']:.4f}\")\n",
    "\n",
    "XGB_model = xgb.XGBClassifier(\n",
    "    objective='binary:logistic',\n",
    "    eval_metric='logloss',\n",
    "    max_depth=int(best_params['max_depth']),\n",
    "    learning_rate=best_params['learning_rate'],\n",
    "    n_estimators=int(best_params['n_estimators']),\n",
    "    min_child_weight=best_params['min_child_weight'],\n",
    "    gamma=best_params['gamma'],\n",
    "    subsample=best_params['subsample'],\n",
    "    colsample_bytree=best_params['colsample_bytree'],\n",
    "    alpha=best_params['alpha'],\n",
    "    reg_lambda=best_params['reg_lambda'],\n",
    "    random_state=42\n",
    ")\n",
    "\n",
    "XGB_model.fit(X_train, y_train)\n",
    "\n",
    "print(\"XGBoost模型训练完成！\")\n"
   ]
  },
  {
   "cell_type": "markdown",
   "id": "97f129b4-5254-4e4c-a6fc-7e8eed68b8a5",
   "metadata": {},
   "source": [
    "### Blending"
   ]
  },
  {
   "cell_type": "code",
   "execution_count": 13,
   "id": "5115420c-1c59-4852-af2b-cf83a9cf256b",
   "metadata": {
    "scrolled": true
   },
   "outputs": [
    {
     "name": "stdout",
     "output_type": "stream",
     "text": [
      "模型訓練完成，預測結果示例：\n",
      "   id  home_team_win\n",
      "0   0          False\n",
      "1   1           True\n",
      "2   2           True\n",
      "3   3          False\n",
      "4   4           True\n"
     ]
    }
   ],
   "source": [
    "X_train = train_data.drop(columns=['id', 'home_team_win', 'season'])\n",
    "y_train = train_data['home_team_win']\n",
    "X_test = future_data.drop(columns=['id', 'season'])\n",
    "\n",
    "xgb_train_pred = XGB_model.predict_proba(X_train)[:, 1]\n",
    "rf_train_pred = RF_model.predict_proba(X_train)[:, 1]\n",
    "svm_train_pred = SVM_model.predict_proba(X_train_scaled)[:, 1]\n",
    "lr_train_pred = LR_model.predict_proba(X_train)[:, 1]\n",
    "\n",
    "# 堆疊訓練集預測\n",
    "stacked_train_predictions = np.column_stack((xgb_train_pred, rf_train_pred, svm_train_pred, lr_train_pred))\n",
    "\n",
    "# 訓練堆疊模型\n",
    "stacked_lr = LogisticRegression(max_iter=1000)\n",
    "stacked_lr.fit(stacked_train_predictions, y_train)\n",
    "\n",
    "# 生成測試集概率預測\n",
    "xgb_test_pred = XGB_model.predict_proba(X_test)[:, 1]\n",
    "rf_test_pred = RF_model.predict_proba(X_test)[:, 1]\n",
    "svm_test_pred = SVM_model.predict_proba(X_test_scaled)[:, 1]\n",
    "lr_test_pred = LR_model.predict_proba(X_test)[:, 1]\n",
    "\n",
    "# 堆疊測試集預測\n",
    "stacked_test_predictions = np.column_stack((xgb_test_pred, rf_test_pred, svm_test_pred, lr_test_pred))\n",
    "\n",
    "# 最終預測\n",
    "final_predictions = stacked_lr.predict(stacked_test_predictions)\n",
    "final_predictions = final_predictions.astype(bool)\n",
    "\n",
    "# 保存結果\n",
    "output_df = pd.DataFrame({\n",
    "    'id': future_data['id'],\n",
    "    'home_team_win': final_predictions\n",
    "})\n",
    "\n",
    "output_df.to_csv('blended_predictions.csv', index=False)\n",
    "\n",
    "print(\"模型訓練完成，預測結果示例：\")\n",
    "print(output_df.head())"
   ]
  },
  {
   "cell_type": "code",
   "execution_count": null,
   "id": "5b5d969d-d136-4bb3-8820-0f0187320c40",
   "metadata": {},
   "outputs": [],
   "source": []
  }
 ],
 "metadata": {
  "kernelspec": {
   "display_name": "Python 3 (ipykernel)",
   "language": "python",
   "name": "python3"
  },
  "language_info": {
   "codemirror_mode": {
    "name": "ipython",
    "version": 3
   },
   "file_extension": ".py",
   "mimetype": "text/x-python",
   "name": "python",
   "nbconvert_exporter": "python",
   "pygments_lexer": "ipython3",
   "version": "3.11.7"
  }
 },
 "nbformat": 4,
 "nbformat_minor": 5
}
